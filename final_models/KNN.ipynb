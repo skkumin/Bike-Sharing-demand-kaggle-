{
  "nbformat": 4,
  "nbformat_minor": 0,
  "metadata": {
    "colab": {
      "provenance": []
    },
    "kernelspec": {
      "name": "python3",
      "display_name": "Python 3"
    },
    "language_info": {
      "name": "python"
    }
  },
  "cells": [
    {
      "cell_type": "code",
      "source": [
        "! pip install optuna"
      ],
      "metadata": {
        "colab": {
          "base_uri": "https://localhost:8080/"
        },
        "id": "vTow1OBf570V",
        "outputId": "7cf4a3e7-a743-4460-d953-0619d8979de1"
      },
      "execution_count": 1,
      "outputs": [
        {
          "output_type": "stream",
          "name": "stdout",
          "text": [
            "Looking in indexes: https://pypi.org/simple, https://us-python.pkg.dev/colab-wheels/public/simple/\n",
            "Collecting optuna\n",
            "  Downloading optuna-3.1.0-py3-none-any.whl (365 kB)\n",
            "\u001b[2K     \u001b[90m━━━━━━━━━━━━━━━━━━━━━━━━━━━━━━━━━━━━━━━\u001b[0m \u001b[32m365.3/365.3 KB\u001b[0m \u001b[31m4.7 MB/s\u001b[0m eta \u001b[36m0:00:00\u001b[0m\n",
            "\u001b[?25hRequirement already satisfied: tqdm in /usr/local/lib/python3.9/dist-packages (from optuna) (4.65.0)\n",
            "Requirement already satisfied: numpy in /usr/local/lib/python3.9/dist-packages (from optuna) (1.22.4)\n",
            "Requirement already satisfied: PyYAML in /usr/local/lib/python3.9/dist-packages (from optuna) (6.0)\n",
            "Collecting colorlog\n",
            "  Downloading colorlog-6.7.0-py2.py3-none-any.whl (11 kB)\n",
            "Collecting cmaes>=0.9.1\n",
            "  Downloading cmaes-0.9.1-py3-none-any.whl (21 kB)\n",
            "Requirement already satisfied: sqlalchemy>=1.3.0 in /usr/local/lib/python3.9/dist-packages (from optuna) (1.4.47)\n",
            "Requirement already satisfied: packaging>=20.0 in /usr/local/lib/python3.9/dist-packages (from optuna) (23.0)\n",
            "Collecting alembic>=1.5.0\n",
            "  Downloading alembic-1.10.2-py3-none-any.whl (212 kB)\n",
            "\u001b[2K     \u001b[90m━━━━━━━━━━━━━━━━━━━━━━━━━━━━━━━━━━━━━━━\u001b[0m \u001b[32m212.2/212.2 KB\u001b[0m \u001b[31m8.5 MB/s\u001b[0m eta \u001b[36m0:00:00\u001b[0m\n",
            "\u001b[?25hRequirement already satisfied: typing-extensions>=4 in /usr/local/lib/python3.9/dist-packages (from alembic>=1.5.0->optuna) (4.5.0)\n",
            "Collecting Mako\n",
            "  Downloading Mako-1.2.4-py3-none-any.whl (78 kB)\n",
            "\u001b[2K     \u001b[90m━━━━━━━━━━━━━━━━━━━━━━━━━━━━━━━━━━━━━━━━\u001b[0m \u001b[32m78.7/78.7 KB\u001b[0m \u001b[31m5.5 MB/s\u001b[0m eta \u001b[36m0:00:00\u001b[0m\n",
            "\u001b[?25hRequirement already satisfied: greenlet!=0.4.17 in /usr/local/lib/python3.9/dist-packages (from sqlalchemy>=1.3.0->optuna) (2.0.2)\n",
            "Requirement already satisfied: MarkupSafe>=0.9.2 in /usr/local/lib/python3.9/dist-packages (from Mako->alembic>=1.5.0->optuna) (2.1.2)\n",
            "Installing collected packages: Mako, colorlog, cmaes, alembic, optuna\n",
            "Successfully installed Mako-1.2.4 alembic-1.10.2 cmaes-0.9.1 colorlog-6.7.0 optuna-3.1.0\n"
          ]
        }
      ]
    },
    {
      "cell_type": "code",
      "source": [
        "import pandas as pd\n",
        "import numpy as np\n",
        "from tqdm.notebook import tqdm\n",
        "from math import sqrt\n",
        "import os\n",
        "import missingno as msno\n",
        "import calendar\n",
        "import datetime\n",
        "from math import sqrt\n",
        "\n",
        "#시각화\n",
        "import matplotlib.pyplot as plt\n",
        "import seaborn as sns\n",
        "import plotly.io as pio\n",
        "import plotly.express as px\n",
        "import plotly.graph_objects as go\n",
        "import plotly.figure_factory as ff\n",
        "\n",
        "#preprocessing\n",
        "from sklearn.metrics import mean_squared_error, mean_squared_log_error, make_scorer\n",
        "from sklearn.preprocessing import StandardScaler, RobustScaler, MinMaxScaler\n",
        "from sklearn.model_selection import KFold, StratifiedKFold, train_test_split, GridSearchCV\n",
        "from sklearn.linear_model import Lasso,Ridge\n",
        "from sklearn.pipeline import Pipeline\n",
        "from sklearn.decomposition import PCA\n",
        "from sklearn.pipeline import make_pipeline\n",
        "from sklearn.model_selection import cross_val_score\n",
        "\n",
        "#models\n",
        "from sklearn.neighbors import KNeighborsRegressor\n",
        "\n",
        "#최적화\n",
        "import optuna\n",
        "from optuna import Trial\n",
        "from optuna.samplers import TPESampler\n",
        "\n",
        "# #Xai\n",
        "# from functools import partial \n",
        "# import shap"
      ],
      "metadata": {
        "id": "czuxkt7752gb"
      },
      "execution_count": 2,
      "outputs": []
    },
    {
      "cell_type": "code",
      "source": [
        "from google.colab import drive\n",
        "drive.mount(\"/content/drive\")"
      ],
      "metadata": {
        "colab": {
          "base_uri": "https://localhost:8080/"
        },
        "id": "pCacFudY5_NN",
        "outputId": "8a4a931a-f435-418e-d98a-d399b3a8e6a9"
      },
      "execution_count": 3,
      "outputs": [
        {
          "output_type": "stream",
          "name": "stdout",
          "text": [
            "Mounted at /content/drive\n"
          ]
        }
      ]
    },
    {
      "cell_type": "markdown",
      "source": [
        "### 데이터 준비"
      ],
      "metadata": {
        "id": "OzTW02a96mH1"
      }
    },
    {
      "cell_type": "code",
      "source": [
        "test_path = \"/content/drive/MyDrive/함께하조/기계학습과 딥러닝/data/kaggle_data/test_eda.csv\"\n",
        "train_path = \"/content/drive/MyDrive/함께하조/기계학습과 딥러닝/data/kaggle_data/train_eda.csv\"\n",
        "\n",
        "test = pd.read_csv(test_path)\n",
        "train = pd.read_csv(train_path)\n",
        "\n",
        "test.drop(\"Unnamed: 0\", axis=1, inplace=True)\n",
        "train.drop(\"Unnamed: 0\", axis=1, inplace=True)"
      ],
      "metadata": {
        "id": "exNBfGKx6jDh"
      },
      "execution_count": 4,
      "outputs": []
    },
    {
      "cell_type": "code",
      "source": [
        "#cat features\n",
        "cat_col = [\"season\", \"Year\",\"weather\", \"Day of week\",\"Month\",\"Day_info\", \"Hour\"] \n",
        "for col in cat_col:\n",
        "    train[col] = train[col].astype(\"category\")\n",
        "    test[col] = test[col].astype(\"category\")\n",
        "\n",
        "#train, valid split\n",
        "days = list(range(1, 15))\n",
        "train_d = train.loc[train['Day'].isin(days)]\n",
        "test_d = train.loc[~(train['Day'].isin(days))]\n",
        "\n",
        "#target, drop, y\n",
        "target_col = \"count\"\n",
        "drop_cols = [\"datetime\", \"workingday\", \"holiday\", \"Day\", \"Year\", \"sin_hour\", \"cos_hour\", target_col]\n",
        "\n",
        "x_train, y_train = train_d.drop(drop_cols, axis=1), train_d[target_col]\n",
        "x_test, y_test = test_d.drop(drop_cols, axis=1), test_d[target_col]\n",
        "\n",
        "x_train.reset_index(drop=True, inplace=True)\n",
        "y_train.reset_index(drop=True, inplace=True)\n",
        "\n",
        "x_train.head()"
      ],
      "metadata": {
        "colab": {
          "base_uri": "https://localhost:8080/",
          "height": 206
        },
        "id": "gvRnYa9R6taf",
        "outputId": "7402cd77-91fa-4ec6-e5d9-451a97ec21d1"
      },
      "execution_count": 5,
      "outputs": [
        {
          "output_type": "execute_result",
          "data": {
            "text/plain": [
              "  season weather  temp  humidity  windspeed Day of week Month Hour Day_info\n",
              "0      1    Good  9.84        81        0.0    Saturday     1    0  Weekend\n",
              "1      1    Good  9.02        80        0.0    Saturday     1    1  Weekend\n",
              "2      1    Good  9.02        80        0.0    Saturday     1    2  Weekend\n",
              "3      1    Good  9.84        75        0.0    Saturday     1    3  Weekend\n",
              "4      1    Good  9.84        75        0.0    Saturday     1    4  Weekend"
            ],
            "text/html": [
              "\n",
              "  <div id=\"df-6ab7cff9-6bcf-4355-84e8-a8b37e8d1ce7\">\n",
              "    <div class=\"colab-df-container\">\n",
              "      <div>\n",
              "<style scoped>\n",
              "    .dataframe tbody tr th:only-of-type {\n",
              "        vertical-align: middle;\n",
              "    }\n",
              "\n",
              "    .dataframe tbody tr th {\n",
              "        vertical-align: top;\n",
              "    }\n",
              "\n",
              "    .dataframe thead th {\n",
              "        text-align: right;\n",
              "    }\n",
              "</style>\n",
              "<table border=\"1\" class=\"dataframe\">\n",
              "  <thead>\n",
              "    <tr style=\"text-align: right;\">\n",
              "      <th></th>\n",
              "      <th>season</th>\n",
              "      <th>weather</th>\n",
              "      <th>temp</th>\n",
              "      <th>humidity</th>\n",
              "      <th>windspeed</th>\n",
              "      <th>Day of week</th>\n",
              "      <th>Month</th>\n",
              "      <th>Hour</th>\n",
              "      <th>Day_info</th>\n",
              "    </tr>\n",
              "  </thead>\n",
              "  <tbody>\n",
              "    <tr>\n",
              "      <th>0</th>\n",
              "      <td>1</td>\n",
              "      <td>Good</td>\n",
              "      <td>9.84</td>\n",
              "      <td>81</td>\n",
              "      <td>0.0</td>\n",
              "      <td>Saturday</td>\n",
              "      <td>1</td>\n",
              "      <td>0</td>\n",
              "      <td>Weekend</td>\n",
              "    </tr>\n",
              "    <tr>\n",
              "      <th>1</th>\n",
              "      <td>1</td>\n",
              "      <td>Good</td>\n",
              "      <td>9.02</td>\n",
              "      <td>80</td>\n",
              "      <td>0.0</td>\n",
              "      <td>Saturday</td>\n",
              "      <td>1</td>\n",
              "      <td>1</td>\n",
              "      <td>Weekend</td>\n",
              "    </tr>\n",
              "    <tr>\n",
              "      <th>2</th>\n",
              "      <td>1</td>\n",
              "      <td>Good</td>\n",
              "      <td>9.02</td>\n",
              "      <td>80</td>\n",
              "      <td>0.0</td>\n",
              "      <td>Saturday</td>\n",
              "      <td>1</td>\n",
              "      <td>2</td>\n",
              "      <td>Weekend</td>\n",
              "    </tr>\n",
              "    <tr>\n",
              "      <th>3</th>\n",
              "      <td>1</td>\n",
              "      <td>Good</td>\n",
              "      <td>9.84</td>\n",
              "      <td>75</td>\n",
              "      <td>0.0</td>\n",
              "      <td>Saturday</td>\n",
              "      <td>1</td>\n",
              "      <td>3</td>\n",
              "      <td>Weekend</td>\n",
              "    </tr>\n",
              "    <tr>\n",
              "      <th>4</th>\n",
              "      <td>1</td>\n",
              "      <td>Good</td>\n",
              "      <td>9.84</td>\n",
              "      <td>75</td>\n",
              "      <td>0.0</td>\n",
              "      <td>Saturday</td>\n",
              "      <td>1</td>\n",
              "      <td>4</td>\n",
              "      <td>Weekend</td>\n",
              "    </tr>\n",
              "  </tbody>\n",
              "</table>\n",
              "</div>\n",
              "      <button class=\"colab-df-convert\" onclick=\"convertToInteractive('df-6ab7cff9-6bcf-4355-84e8-a8b37e8d1ce7')\"\n",
              "              title=\"Convert this dataframe to an interactive table.\"\n",
              "              style=\"display:none;\">\n",
              "        \n",
              "  <svg xmlns=\"http://www.w3.org/2000/svg\" height=\"24px\"viewBox=\"0 0 24 24\"\n",
              "       width=\"24px\">\n",
              "    <path d=\"M0 0h24v24H0V0z\" fill=\"none\"/>\n",
              "    <path d=\"M18.56 5.44l.94 2.06.94-2.06 2.06-.94-2.06-.94-.94-2.06-.94 2.06-2.06.94zm-11 1L8.5 8.5l.94-2.06 2.06-.94-2.06-.94L8.5 2.5l-.94 2.06-2.06.94zm10 10l.94 2.06.94-2.06 2.06-.94-2.06-.94-.94-2.06-.94 2.06-2.06.94z\"/><path d=\"M17.41 7.96l-1.37-1.37c-.4-.4-.92-.59-1.43-.59-.52 0-1.04.2-1.43.59L10.3 9.45l-7.72 7.72c-.78.78-.78 2.05 0 2.83L4 21.41c.39.39.9.59 1.41.59.51 0 1.02-.2 1.41-.59l7.78-7.78 2.81-2.81c.8-.78.8-2.07 0-2.86zM5.41 20L4 18.59l7.72-7.72 1.47 1.35L5.41 20z\"/>\n",
              "  </svg>\n",
              "      </button>\n",
              "      \n",
              "  <style>\n",
              "    .colab-df-container {\n",
              "      display:flex;\n",
              "      flex-wrap:wrap;\n",
              "      gap: 12px;\n",
              "    }\n",
              "\n",
              "    .colab-df-convert {\n",
              "      background-color: #E8F0FE;\n",
              "      border: none;\n",
              "      border-radius: 50%;\n",
              "      cursor: pointer;\n",
              "      display: none;\n",
              "      fill: #1967D2;\n",
              "      height: 32px;\n",
              "      padding: 0 0 0 0;\n",
              "      width: 32px;\n",
              "    }\n",
              "\n",
              "    .colab-df-convert:hover {\n",
              "      background-color: #E2EBFA;\n",
              "      box-shadow: 0px 1px 2px rgba(60, 64, 67, 0.3), 0px 1px 3px 1px rgba(60, 64, 67, 0.15);\n",
              "      fill: #174EA6;\n",
              "    }\n",
              "\n",
              "    [theme=dark] .colab-df-convert {\n",
              "      background-color: #3B4455;\n",
              "      fill: #D2E3FC;\n",
              "    }\n",
              "\n",
              "    [theme=dark] .colab-df-convert:hover {\n",
              "      background-color: #434B5C;\n",
              "      box-shadow: 0px 1px 3px 1px rgba(0, 0, 0, 0.15);\n",
              "      filter: drop-shadow(0px 1px 2px rgba(0, 0, 0, 0.3));\n",
              "      fill: #FFFFFF;\n",
              "    }\n",
              "  </style>\n",
              "\n",
              "      <script>\n",
              "        const buttonEl =\n",
              "          document.querySelector('#df-6ab7cff9-6bcf-4355-84e8-a8b37e8d1ce7 button.colab-df-convert');\n",
              "        buttonEl.style.display =\n",
              "          google.colab.kernel.accessAllowed ? 'block' : 'none';\n",
              "\n",
              "        async function convertToInteractive(key) {\n",
              "          const element = document.querySelector('#df-6ab7cff9-6bcf-4355-84e8-a8b37e8d1ce7');\n",
              "          const dataTable =\n",
              "            await google.colab.kernel.invokeFunction('convertToInteractive',\n",
              "                                                     [key], {});\n",
              "          if (!dataTable) return;\n",
              "\n",
              "          const docLinkHtml = 'Like what you see? Visit the ' +\n",
              "            '<a target=\"_blank\" href=https://colab.research.google.com/notebooks/data_table.ipynb>data table notebook</a>'\n",
              "            + ' to learn more about interactive tables.';\n",
              "          element.innerHTML = '';\n",
              "          dataTable['output_type'] = 'display_data';\n",
              "          await google.colab.output.renderOutput(dataTable, element);\n",
              "          const docLink = document.createElement('div');\n",
              "          docLink.innerHTML = docLinkHtml;\n",
              "          element.appendChild(docLink);\n",
              "        }\n",
              "      </script>\n",
              "    </div>\n",
              "  </div>\n",
              "  "
            ]
          },
          "metadata": {},
          "execution_count": 5
        }
      ]
    },
    {
      "cell_type": "code",
      "source": [
        "cat_col = [\"season\", \"weather\", \"Day of week\", \"Month\",\"Day_info\", \"Hour\"]\n",
        "\n",
        "test = pd.get_dummies(test, columns=cat_col)\n",
        "train = pd.get_dummies(train, columns=cat_col)\n",
        "\n",
        "x_test = pd.get_dummies(x_test, columns=cat_col)\n",
        "x_train = pd.get_dummies(x_train, columns=cat_col)"
      ],
      "metadata": {
        "id": "lnld6lMq6ydb"
      },
      "execution_count": 6,
      "outputs": []
    },
    {
      "cell_type": "code",
      "source": [
        "x_train.shape"
      ],
      "metadata": {
        "colab": {
          "base_uri": "https://localhost:8080/"
        },
        "id": "3jILNTTpBkID",
        "outputId": "a830c8de-0502-42b0-9a07-76bd6bcbbe75"
      },
      "execution_count": 7,
      "outputs": [
        {
          "output_type": "execute_result",
          "data": {
            "text/plain": [
              "(8026, 56)"
            ]
          },
          "metadata": {},
          "execution_count": 7
        }
      ]
    },
    {
      "cell_type": "code",
      "execution_count": 8,
      "metadata": {
        "colab": {
          "base_uri": "https://localhost:8080/"
        },
        "id": "reSBfrQ75sZf",
        "outputId": "d03e88c9-4722-49b4-f637-8745e8926613"
      },
      "outputs": [
        {
          "output_type": "stream",
          "name": "stderr",
          "text": [
            "\u001b[32m[I 2023-03-23 11:35:28,731]\u001b[0m A new study created in memory with name: no-name-fcc2861f-77c7-4585-b2e0-ba93f67d4936\u001b[0m\n",
            "\u001b[32m[I 2023-03-23 11:35:29,789]\u001b[0m Trial 0 finished with value: 1.5048841073537147 and parameters: {'scalers': 'standard', 'dim_red': 'PCA', 'pca_n_components': 10, 'knn_n_neighbors': 1, 'knn_metric': 'euclidean', 'knn_weights': 'distance'}. Best is trial 0 with value: 1.5048841073537147.\u001b[0m\n",
            "\u001b[32m[I 2023-03-23 11:35:30,556]\u001b[0m Trial 1 finished with value: 0.9771145883065767 and parameters: {'scalers': 'minmax', 'dim_red': None, 'knn_n_neighbors': 11, 'knn_metric': 'minkowski', 'knn_weights': 'distance'}. Best is trial 1 with value: 0.9771145883065767.\u001b[0m\n",
            "\u001b[32m[I 2023-03-23 11:35:36,279]\u001b[0m Trial 2 finished with value: 1.1584277056001926 and parameters: {'scalers': 'robust', 'dim_red': None, 'knn_n_neighbors': 11, 'knn_metric': 'manhattan', 'knn_weights': 'distance'}. Best is trial 1 with value: 0.9771145883065767.\u001b[0m\n",
            "\u001b[32m[I 2023-03-23 11:35:40,870]\u001b[0m Trial 3 finished with value: 1.1580162766972228 and parameters: {'scalers': 'minmax', 'dim_red': None, 'knn_n_neighbors': 9, 'knn_metric': 'manhattan', 'knn_weights': 'uniform'}. Best is trial 1 with value: 0.9771145883065767.\u001b[0m\n",
            "\u001b[32m[I 2023-03-23 11:35:42,027]\u001b[0m Trial 4 finished with value: 1.3334146883563414 and parameters: {'scalers': 'minmax', 'dim_red': 'PCA', 'pca_n_components': 55, 'knn_n_neighbors': 15, 'knn_metric': 'euclidean', 'knn_weights': 'uniform'}. Best is trial 1 with value: 0.9771145883065767.\u001b[0m\n",
            "\u001b[32m[I 2023-03-23 11:35:45,897]\u001b[0m Trial 5 finished with value: 0.7065738047437957 and parameters: {'scalers': 'robust', 'dim_red': 'PCA', 'pca_n_components': 47, 'knn_n_neighbors': 7, 'knn_metric': 'manhattan', 'knn_weights': 'uniform'}. Best is trial 5 with value: 0.7065738047437957.\u001b[0m\n",
            "\u001b[32m[I 2023-03-23 11:35:52,263]\u001b[0m Trial 6 finished with value: 1.325497450344011 and parameters: {'scalers': 'minmax', 'dim_red': None, 'knn_n_neighbors': 15, 'knn_metric': 'manhattan', 'knn_weights': 'uniform'}. Best is trial 5 with value: 0.7065738047437957.\u001b[0m\n",
            "\u001b[32m[I 2023-03-23 11:35:52,982]\u001b[0m Trial 7 finished with value: 1.0943590001751171 and parameters: {'scalers': 'minmax', 'dim_red': None, 'knn_n_neighbors': 7, 'knn_metric': 'minkowski', 'knn_weights': 'uniform'}. Best is trial 5 with value: 0.7065738047437957.\u001b[0m\n",
            "\u001b[32m[I 2023-03-23 11:35:56,936]\u001b[0m Trial 8 finished with value: 0.3915891620007287 and parameters: {'scalers': 'standard', 'dim_red': 'PCA', 'pca_n_components': 30, 'knn_n_neighbors': 9, 'knn_metric': 'manhattan', 'knn_weights': 'uniform'}. Best is trial 8 with value: 0.3915891620007287.\u001b[0m\n",
            "\u001b[32m[I 2023-03-23 11:36:00,779]\u001b[0m Trial 9 finished with value: 0.28248035281639455 and parameters: {'scalers': 'standard', 'dim_red': None, 'knn_n_neighbors': 5, 'knn_metric': 'manhattan', 'knn_weights': 'uniform'}. Best is trial 9 with value: 0.28248035281639455.\u001b[0m\n",
            "\u001b[32m[I 2023-03-23 11:36:01,355]\u001b[0m Trial 10 finished with value: 0.38941132255568056 and parameters: {'scalers': 'standard', 'dim_red': None, 'knn_n_neighbors': 1, 'knn_metric': 'euclidean', 'knn_weights': 'distance'}. Best is trial 9 with value: 0.28248035281639455.\u001b[0m\n",
            "\u001b[32m[I 2023-03-23 11:36:01,956]\u001b[0m Trial 11 finished with value: 0.38941132255568056 and parameters: {'scalers': 'standard', 'dim_red': None, 'knn_n_neighbors': 1, 'knn_metric': 'euclidean', 'knn_weights': 'distance'}. Best is trial 9 with value: 0.28248035281639455.\u001b[0m\n",
            "\u001b[32m[I 2023-03-23 11:36:02,604]\u001b[0m Trial 12 finished with value: 0.3000845632517247 and parameters: {'scalers': 'standard', 'dim_red': None, 'knn_n_neighbors': 3, 'knn_metric': 'euclidean', 'knn_weights': 'distance'}. Best is trial 9 with value: 0.28248035281639455.\u001b[0m\n",
            "\u001b[32m[I 2023-03-23 11:36:04,770]\u001b[0m Trial 13 finished with value: 0.2939951303640499 and parameters: {'scalers': 'standard', 'dim_red': None, 'knn_n_neighbors': 5, 'knn_metric': 'euclidean', 'knn_weights': 'distance'}. Best is trial 9 with value: 0.28248035281639455.\u001b[0m\n",
            "\u001b[32m[I 2023-03-23 11:36:06,586]\u001b[0m Trial 14 finished with value: 0.2939951303640499 and parameters: {'scalers': 'standard', 'dim_red': None, 'knn_n_neighbors': 5, 'knn_metric': 'minkowski', 'knn_weights': 'distance'}. Best is trial 9 with value: 0.28248035281639455.\u001b[0m\n",
            "\u001b[32m[I 2023-03-23 11:36:07,261]\u001b[0m Trial 15 finished with value: 0.4176523080874522 and parameters: {'scalers': 'standard', 'dim_red': None, 'knn_n_neighbors': 19, 'knn_metric': 'euclidean', 'knn_weights': 'uniform'}. Best is trial 9 with value: 0.28248035281639455.\u001b[0m\n",
            "\u001b[32m[I 2023-03-23 11:36:11,102]\u001b[0m Trial 16 finished with value: 0.2870970094540477 and parameters: {'scalers': 'standard', 'dim_red': None, 'knn_n_neighbors': 5, 'knn_metric': 'manhattan', 'knn_weights': 'distance'}. Best is trial 9 with value: 0.28248035281639455.\u001b[0m\n",
            "\u001b[32m[I 2023-03-23 11:36:15,016]\u001b[0m Trial 17 finished with value: 1.0401607185104833 and parameters: {'scalers': 'robust', 'dim_red': None, 'knn_n_neighbors': 5, 'knn_metric': 'manhattan', 'knn_weights': 'uniform'}. Best is trial 9 with value: 0.28248035281639455.\u001b[0m\n",
            "\u001b[32m[I 2023-03-23 11:36:15,913]\u001b[0m Trial 18 finished with value: 1.5188358792982481 and parameters: {'scalers': 'standard', 'dim_red': 'PCA', 'pca_n_components': 5, 'knn_n_neighbors': 3, 'knn_metric': 'manhattan', 'knn_weights': 'distance'}. Best is trial 9 with value: 0.28248035281639455.\u001b[0m\n",
            "\u001b[32m[I 2023-03-23 11:36:22,351]\u001b[0m Trial 19 finished with value: 0.5180161210756393 and parameters: {'scalers': 'standard', 'dim_red': None, 'knn_n_neighbors': 13, 'knn_metric': 'manhattan', 'knn_weights': 'uniform'}. Best is trial 9 with value: 0.28248035281639455.\u001b[0m\n",
            "\u001b[32m[I 2023-03-23 11:36:26,272]\u001b[0m Trial 20 finished with value: 1.135515647847829 and parameters: {'scalers': 'robust', 'dim_red': None, 'knn_n_neighbors': 7, 'knn_metric': 'manhattan', 'knn_weights': 'uniform'}. Best is trial 9 with value: 0.28248035281639455.\u001b[0m\n",
            "\u001b[32m[I 2023-03-23 11:36:30,098]\u001b[0m Trial 21 finished with value: 0.2870970094540477 and parameters: {'scalers': 'standard', 'dim_red': None, 'knn_n_neighbors': 5, 'knn_metric': 'manhattan', 'knn_weights': 'distance'}. Best is trial 9 with value: 0.28248035281639455.\u001b[0m\n",
            "\u001b[32m[I 2023-03-23 11:36:36,509]\u001b[0m Trial 22 finished with value: 0.2885010203578992 and parameters: {'scalers': 'standard', 'dim_red': None, 'knn_n_neighbors': 3, 'knn_metric': 'manhattan', 'knn_weights': 'distance'}. Best is trial 9 with value: 0.28248035281639455.\u001b[0m\n",
            "\u001b[32m[I 2023-03-23 11:36:40,332]\u001b[0m Trial 23 finished with value: 0.2870970094540477 and parameters: {'scalers': 'standard', 'dim_red': None, 'knn_n_neighbors': 5, 'knn_metric': 'manhattan', 'knn_weights': 'distance'}. Best is trial 9 with value: 0.28248035281639455.\u001b[0m\n",
            "\u001b[32m[I 2023-03-23 11:36:44,161]\u001b[0m Trial 24 finished with value: 0.3145898391288918 and parameters: {'scalers': 'standard', 'dim_red': None, 'knn_n_neighbors': 7, 'knn_metric': 'manhattan', 'knn_weights': 'distance'}. Best is trial 9 with value: 0.28248035281639455.\u001b[0m\n",
            "\u001b[32m[I 2023-03-23 11:36:50,627]\u001b[0m Trial 25 finished with value: 0.2885010203578992 and parameters: {'scalers': 'standard', 'dim_red': None, 'knn_n_neighbors': 3, 'knn_metric': 'manhattan', 'knn_weights': 'distance'}. Best is trial 9 with value: 0.28248035281639455.\u001b[0m\n",
            "\u001b[32m[I 2023-03-23 11:36:52,045]\u001b[0m Trial 26 finished with value: 0.9992679893495288 and parameters: {'scalers': 'standard', 'dim_red': 'PCA', 'pca_n_components': 24, 'knn_n_neighbors': 9, 'knn_metric': 'minkowski', 'knn_weights': 'distance'}. Best is trial 9 with value: 0.28248035281639455.\u001b[0m\n",
            "\u001b[32m[I 2023-03-23 11:36:55,908]\u001b[0m Trial 27 finished with value: 0.2870970094540477 and parameters: {'scalers': 'standard', 'dim_red': None, 'knn_n_neighbors': 5, 'knn_metric': 'manhattan', 'knn_weights': 'distance'}. Best is trial 9 with value: 0.28248035281639455.\u001b[0m\n",
            "\u001b[32m[I 2023-03-23 11:36:59,753]\u001b[0m Trial 28 finished with value: 0.3277344651634939 and parameters: {'scalers': 'standard', 'dim_red': None, 'knn_n_neighbors': 7, 'knn_metric': 'manhattan', 'knn_weights': 'uniform'}. Best is trial 9 with value: 0.28248035281639455.\u001b[0m\n",
            "\u001b[32m[I 2023-03-23 11:37:06,169]\u001b[0m Trial 29 finished with value: 1.5050832955006872 and parameters: {'scalers': 'robust', 'dim_red': 'PCA', 'pca_n_components': 36, 'knn_n_neighbors': 1, 'knn_metric': 'manhattan', 'knn_weights': 'distance'}. Best is trial 9 with value: 0.28248035281639455.\u001b[0m\n",
            "\u001b[32m[I 2023-03-23 11:37:06,807]\u001b[0m Trial 30 finished with value: 0.3000845632517247 and parameters: {'scalers': 'standard', 'dim_red': None, 'knn_n_neighbors': 3, 'knn_metric': 'minkowski', 'knn_weights': 'distance'}. Best is trial 9 with value: 0.28248035281639455.\u001b[0m\n",
            "\u001b[32m[I 2023-03-23 11:37:10,628]\u001b[0m Trial 31 finished with value: 0.2870970094540477 and parameters: {'scalers': 'standard', 'dim_red': None, 'knn_n_neighbors': 5, 'knn_metric': 'manhattan', 'knn_weights': 'distance'}. Best is trial 9 with value: 0.28248035281639455.\u001b[0m\n",
            "\u001b[32m[I 2023-03-23 11:37:14,465]\u001b[0m Trial 32 finished with value: 0.2870970094540477 and parameters: {'scalers': 'standard', 'dim_red': None, 'knn_n_neighbors': 5, 'knn_metric': 'manhattan', 'knn_weights': 'distance'}. Best is trial 9 with value: 0.28248035281639455.\u001b[0m\n",
            "\u001b[32m[I 2023-03-23 11:37:21,021]\u001b[0m Trial 33 finished with value: 0.3941384866727849 and parameters: {'scalers': 'standard', 'dim_red': None, 'knn_n_neighbors': 11, 'knn_metric': 'manhattan', 'knn_weights': 'distance'}. Best is trial 9 with value: 0.28248035281639455.\u001b[0m\n",
            "\u001b[32m[I 2023-03-23 11:37:24,874]\u001b[0m Trial 34 finished with value: 0.35201806958674353 and parameters: {'scalers': 'standard', 'dim_red': None, 'knn_n_neighbors': 9, 'knn_metric': 'manhattan', 'knn_weights': 'distance'}. Best is trial 9 with value: 0.28248035281639455.\u001b[0m\n",
            "\u001b[32m[I 2023-03-23 11:37:28,712]\u001b[0m Trial 35 finished with value: 0.6337506418024355 and parameters: {'scalers': 'minmax', 'dim_red': None, 'knn_n_neighbors': 3, 'knn_metric': 'manhattan', 'knn_weights': 'distance'}. Best is trial 9 with value: 0.28248035281639455.\u001b[0m\n",
            "\u001b[32m[I 2023-03-23 11:37:35,107]\u001b[0m Trial 36 finished with value: 0.3145898391288918 and parameters: {'scalers': 'standard', 'dim_red': None, 'knn_n_neighbors': 7, 'knn_metric': 'manhattan', 'knn_weights': 'distance'}. Best is trial 9 with value: 0.28248035281639455.\u001b[0m\n",
            "\u001b[32m[I 2023-03-23 11:37:37,519]\u001b[0m Trial 37 finished with value: 1.8282410575093313 and parameters: {'scalers': 'robust', 'dim_red': 'PCA', 'pca_n_components': 18, 'knn_n_neighbors': 1, 'knn_metric': 'manhattan', 'knn_weights': 'uniform'}. Best is trial 9 with value: 0.28248035281639455.\u001b[0m\n",
            "\u001b[32m[I 2023-03-23 11:37:38,155]\u001b[0m Trial 38 finished with value: 1.2378308134595817 and parameters: {'scalers': 'minmax', 'dim_red': None, 'knn_n_neighbors': 11, 'knn_metric': 'minkowski', 'knn_weights': 'uniform'}. Best is trial 9 with value: 0.28248035281639455.\u001b[0m\n",
            "\u001b[32m[I 2023-03-23 11:37:42,048]\u001b[0m Trial 39 finished with value: 0.6374539686726785 and parameters: {'scalers': 'standard', 'dim_red': None, 'knn_n_neighbors': 19, 'knn_metric': 'manhattan', 'knn_weights': 'distance'}. Best is trial 9 with value: 0.28248035281639455.\u001b[0m\n",
            "\u001b[32m[I 2023-03-23 11:37:47,589]\u001b[0m Trial 40 finished with value: 0.6724929467490943 and parameters: {'scalers': 'minmax', 'dim_red': 'PCA', 'pca_n_components': 41, 'knn_n_neighbors': 5, 'knn_metric': 'manhattan', 'knn_weights': 'uniform'}. Best is trial 9 with value: 0.28248035281639455.\u001b[0m\n",
            "\u001b[32m[I 2023-03-23 11:37:52,550]\u001b[0m Trial 41 finished with value: 0.2870970094540477 and parameters: {'scalers': 'standard', 'dim_red': None, 'knn_n_neighbors': 5, 'knn_metric': 'manhattan', 'knn_weights': 'distance'}. Best is trial 9 with value: 0.28248035281639455.\u001b[0m\n",
            "\u001b[32m[I 2023-03-23 11:37:56,398]\u001b[0m Trial 42 finished with value: 0.3145898391288918 and parameters: {'scalers': 'standard', 'dim_red': None, 'knn_n_neighbors': 7, 'knn_metric': 'manhattan', 'knn_weights': 'distance'}. Best is trial 9 with value: 0.28248035281639455.\u001b[0m\n",
            "\u001b[32m[I 2023-03-23 11:38:00,545]\u001b[0m Trial 43 finished with value: 0.35201806958674353 and parameters: {'scalers': 'standard', 'dim_red': None, 'knn_n_neighbors': 9, 'knn_metric': 'manhattan', 'knn_weights': 'distance'}. Best is trial 9 with value: 0.28248035281639455.\u001b[0m\n",
            "\u001b[32m[I 2023-03-23 11:38:06,631]\u001b[0m Trial 44 finished with value: 0.2885010203578992 and parameters: {'scalers': 'standard', 'dim_red': None, 'knn_n_neighbors': 3, 'knn_metric': 'manhattan', 'knn_weights': 'distance'}. Best is trial 9 with value: 0.28248035281639455.\u001b[0m\n",
            "\u001b[32m[I 2023-03-23 11:38:10,505]\u001b[0m Trial 45 finished with value: 0.2870970094540477 and parameters: {'scalers': 'standard', 'dim_red': None, 'knn_n_neighbors': 5, 'knn_metric': 'manhattan', 'knn_weights': 'distance'}. Best is trial 9 with value: 0.28248035281639455.\u001b[0m\n",
            "\u001b[32m[I 2023-03-23 11:38:11,119]\u001b[0m Trial 46 finished with value: 0.3026432936446017 and parameters: {'scalers': 'standard', 'dim_red': None, 'knn_n_neighbors': 7, 'knn_metric': 'euclidean', 'knn_weights': 'distance'}. Best is trial 9 with value: 0.28248035281639455.\u001b[0m\n",
            "\u001b[32m[I 2023-03-23 11:38:15,087]\u001b[0m Trial 47 finished with value: 0.28248035281639455 and parameters: {'scalers': 'standard', 'dim_red': None, 'knn_n_neighbors': 5, 'knn_metric': 'manhattan', 'knn_weights': 'uniform'}. Best is trial 9 with value: 0.28248035281639455.\u001b[0m\n",
            "\u001b[32m[I 2023-03-23 11:38:17,197]\u001b[0m Trial 48 finished with value: 0.8029977225960911 and parameters: {'scalers': 'minmax', 'dim_red': None, 'knn_n_neighbors': 3, 'knn_metric': 'minkowski', 'knn_weights': 'uniform'}. Best is trial 9 with value: 0.28248035281639455.\u001b[0m\n",
            "\u001b[32m[I 2023-03-23 11:38:22,124]\u001b[0m Trial 49 finished with value: 1.2073986744825884 and parameters: {'scalers': 'robust', 'dim_red': None, 'knn_n_neighbors': 9, 'knn_metric': 'manhattan', 'knn_weights': 'uniform'}. Best is trial 9 with value: 0.28248035281639455.\u001b[0m\n",
            "\u001b[32m[I 2023-03-23 11:38:22,724]\u001b[0m Trial 50 finished with value: 0.38941132255568056 and parameters: {'scalers': 'standard', 'dim_red': None, 'knn_n_neighbors': 1, 'knn_metric': 'euclidean', 'knn_weights': 'uniform'}. Best is trial 9 with value: 0.28248035281639455.\u001b[0m\n",
            "\u001b[32m[I 2023-03-23 11:38:26,572]\u001b[0m Trial 51 finished with value: 0.28248035281639455 and parameters: {'scalers': 'standard', 'dim_red': None, 'knn_n_neighbors': 5, 'knn_metric': 'manhattan', 'knn_weights': 'uniform'}. Best is trial 9 with value: 0.28248035281639455.\u001b[0m\n",
            "\u001b[32m[I 2023-03-23 11:38:32,356]\u001b[0m Trial 52 finished with value: 0.3277344651634939 and parameters: {'scalers': 'standard', 'dim_red': None, 'knn_n_neighbors': 7, 'knn_metric': 'manhattan', 'knn_weights': 'uniform'}. Best is trial 9 with value: 0.28248035281639455.\u001b[0m\n",
            "\u001b[32m[I 2023-03-23 11:38:36,931]\u001b[0m Trial 53 finished with value: 0.28248035281639455 and parameters: {'scalers': 'standard', 'dim_red': None, 'knn_n_neighbors': 5, 'knn_metric': 'manhattan', 'knn_weights': 'uniform'}. Best is trial 9 with value: 0.28248035281639455.\u001b[0m\n",
            "\u001b[32m[I 2023-03-23 11:38:40,770]\u001b[0m Trial 54 finished with value: 0.28248035281639455 and parameters: {'scalers': 'standard', 'dim_red': None, 'knn_n_neighbors': 5, 'knn_metric': 'manhattan', 'knn_weights': 'uniform'}. Best is trial 9 with value: 0.28248035281639455.\u001b[0m\n",
            "\u001b[32m[I 2023-03-23 11:38:45,587]\u001b[0m Trial 55 finished with value: 0.3277344651634939 and parameters: {'scalers': 'standard', 'dim_red': None, 'knn_n_neighbors': 7, 'knn_metric': 'manhattan', 'knn_weights': 'uniform'}. Best is trial 9 with value: 0.28248035281639455.\u001b[0m\n",
            "\u001b[32m[I 2023-03-23 11:38:49,381]\u001b[0m Trial 56 finished with value: 1.121413590123805 and parameters: {'scalers': 'standard', 'dim_red': 'PCA', 'pca_n_components': 16, 'knn_n_neighbors': 3, 'knn_metric': 'manhattan', 'knn_weights': 'uniform'}. Best is trial 9 with value: 0.28248035281639455.\u001b[0m\n",
            "\u001b[32m[I 2023-03-23 11:38:53,276]\u001b[0m Trial 57 finished with value: 0.28248035281639455 and parameters: {'scalers': 'standard', 'dim_red': None, 'knn_n_neighbors': 5, 'knn_metric': 'manhattan', 'knn_weights': 'uniform'}. Best is trial 9 with value: 0.28248035281639455.\u001b[0m\n",
            "\u001b[32m[I 2023-03-23 11:38:53,893]\u001b[0m Trial 58 finished with value: 0.3752609252184051 and parameters: {'scalers': 'standard', 'dim_red': None, 'knn_n_neighbors': 13, 'knn_metric': 'euclidean', 'knn_weights': 'uniform'}. Best is trial 9 with value: 0.28248035281639455.\u001b[0m\n",
            "\u001b[32m[I 2023-03-23 11:38:57,716]\u001b[0m Trial 59 finished with value: 0.28248035281639455 and parameters: {'scalers': 'standard', 'dim_red': None, 'knn_n_neighbors': 5, 'knn_metric': 'manhattan', 'knn_weights': 'uniform'}. Best is trial 9 with value: 0.28248035281639455.\u001b[0m\n",
            "\u001b[32m[I 2023-03-23 11:39:04,139]\u001b[0m Trial 60 finished with value: 0.8943223637192614 and parameters: {'scalers': 'robust', 'dim_red': None, 'knn_n_neighbors': 3, 'knn_metric': 'manhattan', 'knn_weights': 'uniform'}. Best is trial 9 with value: 0.28248035281639455.\u001b[0m\n",
            "\u001b[32m[I 2023-03-23 11:39:07,945]\u001b[0m Trial 61 finished with value: 0.28248035281639455 and parameters: {'scalers': 'standard', 'dim_red': None, 'knn_n_neighbors': 5, 'knn_metric': 'manhattan', 'knn_weights': 'uniform'}. Best is trial 9 with value: 0.28248035281639455.\u001b[0m\n",
            "\u001b[32m[I 2023-03-23 11:39:11,792]\u001b[0m Trial 62 finished with value: 0.3277344651634939 and parameters: {'scalers': 'standard', 'dim_red': None, 'knn_n_neighbors': 7, 'knn_metric': 'manhattan', 'knn_weights': 'uniform'}. Best is trial 9 with value: 0.28248035281639455.\u001b[0m\n",
            "\u001b[32m[I 2023-03-23 11:39:18,176]\u001b[0m Trial 63 finished with value: 0.28248035281639455 and parameters: {'scalers': 'standard', 'dim_red': None, 'knn_n_neighbors': 5, 'knn_metric': 'manhattan', 'knn_weights': 'uniform'}. Best is trial 9 with value: 0.28248035281639455.\u001b[0m\n",
            "\u001b[32m[I 2023-03-23 11:39:22,509]\u001b[0m Trial 64 finished with value: 0.28248035281639455 and parameters: {'scalers': 'standard', 'dim_red': None, 'knn_n_neighbors': 5, 'knn_metric': 'manhattan', 'knn_weights': 'uniform'}. Best is trial 9 with value: 0.28248035281639455.\u001b[0m\n",
            "\u001b[32m[I 2023-03-23 11:39:27,701]\u001b[0m Trial 65 finished with value: 0.27636372347788785 and parameters: {'scalers': 'standard', 'dim_red': None, 'knn_n_neighbors': 3, 'knn_metric': 'manhattan', 'knn_weights': 'uniform'}. Best is trial 65 with value: 0.27636372347788785.\u001b[0m\n",
            "\u001b[32m[I 2023-03-23 11:39:29,625]\u001b[0m Trial 66 finished with value: 0.29244649576161297 and parameters: {'scalers': 'standard', 'dim_red': None, 'knn_n_neighbors': 3, 'knn_metric': 'minkowski', 'knn_weights': 'uniform'}. Best is trial 65 with value: 0.27636372347788785.\u001b[0m\n",
            "\u001b[32m[I 2023-03-23 11:39:35,351]\u001b[0m Trial 67 finished with value: 0.38263563670679746 and parameters: {'scalers': 'standard', 'dim_red': None, 'knn_n_neighbors': 1, 'knn_metric': 'manhattan', 'knn_weights': 'uniform'}. Best is trial 65 with value: 0.27636372347788785.\u001b[0m\n",
            "\u001b[32m[I 2023-03-23 11:39:39,811]\u001b[0m Trial 68 finished with value: 0.45923513988659737 and parameters: {'scalers': 'standard', 'dim_red': 'PCA', 'pca_n_components': 56, 'knn_n_neighbors': 17, 'knn_metric': 'manhattan', 'knn_weights': 'uniform'}. Best is trial 65 with value: 0.27636372347788785.\u001b[0m\n",
            "\u001b[32m[I 2023-03-23 11:39:44,103]\u001b[0m Trial 69 finished with value: 0.27636372347788785 and parameters: {'scalers': 'standard', 'dim_red': None, 'knn_n_neighbors': 3, 'knn_metric': 'manhattan', 'knn_weights': 'uniform'}. Best is trial 65 with value: 0.27636372347788785.\u001b[0m\n",
            "\u001b[32m[I 2023-03-23 11:39:50,007]\u001b[0m Trial 70 finished with value: 0.6701835422276081 and parameters: {'scalers': 'minmax', 'dim_red': None, 'knn_n_neighbors': 1, 'knn_metric': 'manhattan', 'knn_weights': 'uniform'}. Best is trial 65 with value: 0.27636372347788785.\u001b[0m\n",
            "\u001b[32m[I 2023-03-23 11:39:53,853]\u001b[0m Trial 71 finished with value: 0.27636372347788785 and parameters: {'scalers': 'standard', 'dim_red': None, 'knn_n_neighbors': 3, 'knn_metric': 'manhattan', 'knn_weights': 'uniform'}. Best is trial 65 with value: 0.27636372347788785.\u001b[0m\n",
            "\u001b[32m[I 2023-03-23 11:39:57,673]\u001b[0m Trial 72 finished with value: 0.27636372347788785 and parameters: {'scalers': 'standard', 'dim_red': None, 'knn_n_neighbors': 3, 'knn_metric': 'manhattan', 'knn_weights': 'uniform'}. Best is trial 65 with value: 0.27636372347788785.\u001b[0m\n",
            "\u001b[32m[I 2023-03-23 11:40:04,086]\u001b[0m Trial 73 finished with value: 0.27636372347788785 and parameters: {'scalers': 'standard', 'dim_red': None, 'knn_n_neighbors': 3, 'knn_metric': 'manhattan', 'knn_weights': 'uniform'}. Best is trial 65 with value: 0.27636372347788785.\u001b[0m\n",
            "\u001b[32m[I 2023-03-23 11:40:07,904]\u001b[0m Trial 74 finished with value: 0.27636372347788785 and parameters: {'scalers': 'standard', 'dim_red': None, 'knn_n_neighbors': 3, 'knn_metric': 'manhattan', 'knn_weights': 'uniform'}. Best is trial 65 with value: 0.27636372347788785.\u001b[0m\n",
            "\u001b[32m[I 2023-03-23 11:40:11,739]\u001b[0m Trial 75 finished with value: 0.38263563670679746 and parameters: {'scalers': 'standard', 'dim_red': None, 'knn_n_neighbors': 1, 'knn_metric': 'manhattan', 'knn_weights': 'uniform'}. Best is trial 65 with value: 0.27636372347788785.\u001b[0m\n",
            "\u001b[32m[I 2023-03-23 11:40:18,161]\u001b[0m Trial 76 finished with value: 0.27636372347788785 and parameters: {'scalers': 'standard', 'dim_red': None, 'knn_n_neighbors': 3, 'knn_metric': 'manhattan', 'knn_weights': 'uniform'}. Best is trial 65 with value: 0.27636372347788785.\u001b[0m\n",
            "\u001b[32m[I 2023-03-23 11:40:18,748]\u001b[0m Trial 77 finished with value: 0.29244649576161297 and parameters: {'scalers': 'standard', 'dim_red': None, 'knn_n_neighbors': 3, 'knn_metric': 'euclidean', 'knn_weights': 'uniform'}. Best is trial 65 with value: 0.27636372347788785.\u001b[0m\n",
            "\u001b[32m[I 2023-03-23 11:40:22,678]\u001b[0m Trial 78 finished with value: 0.8943223637192614 and parameters: {'scalers': 'robust', 'dim_red': None, 'knn_n_neighbors': 3, 'knn_metric': 'manhattan', 'knn_weights': 'uniform'}. Best is trial 65 with value: 0.27636372347788785.\u001b[0m\n",
            "\u001b[32m[I 2023-03-23 11:40:23,427]\u001b[0m Trial 79 finished with value: 2.3596439516375876 and parameters: {'scalers': 'standard', 'dim_red': 'PCA', 'pca_n_components': 3, 'knn_n_neighbors': 1, 'knn_metric': 'minkowski', 'knn_weights': 'uniform'}. Best is trial 65 with value: 0.27636372347788785.\u001b[0m\n",
            "\u001b[32m[I 2023-03-23 11:40:27,292]\u001b[0m Trial 80 finished with value: 0.27636372347788785 and parameters: {'scalers': 'standard', 'dim_red': None, 'knn_n_neighbors': 3, 'knn_metric': 'manhattan', 'knn_weights': 'uniform'}. Best is trial 65 with value: 0.27636372347788785.\u001b[0m\n",
            "\u001b[32m[I 2023-03-23 11:40:33,668]\u001b[0m Trial 81 finished with value: 0.27636372347788785 and parameters: {'scalers': 'standard', 'dim_red': None, 'knn_n_neighbors': 3, 'knn_metric': 'manhattan', 'knn_weights': 'uniform'}. Best is trial 65 with value: 0.27636372347788785.\u001b[0m\n",
            "\u001b[32m[I 2023-03-23 11:40:37,491]\u001b[0m Trial 82 finished with value: 0.27636372347788785 and parameters: {'scalers': 'standard', 'dim_red': None, 'knn_n_neighbors': 3, 'knn_metric': 'manhattan', 'knn_weights': 'uniform'}. Best is trial 65 with value: 0.27636372347788785.\u001b[0m\n",
            "\u001b[32m[I 2023-03-23 11:40:41,311]\u001b[0m Trial 83 finished with value: 0.27636372347788785 and parameters: {'scalers': 'standard', 'dim_red': None, 'knn_n_neighbors': 3, 'knn_metric': 'manhattan', 'knn_weights': 'uniform'}. Best is trial 65 with value: 0.27636372347788785.\u001b[0m\n",
            "\u001b[32m[I 2023-03-23 11:40:47,667]\u001b[0m Trial 84 finished with value: 0.38263563670679746 and parameters: {'scalers': 'standard', 'dim_red': None, 'knn_n_neighbors': 1, 'knn_metric': 'manhattan', 'knn_weights': 'uniform'}. Best is trial 65 with value: 0.27636372347788785.\u001b[0m\n",
            "\u001b[32m[I 2023-03-23 11:40:51,488]\u001b[0m Trial 85 finished with value: 0.27636372347788785 and parameters: {'scalers': 'standard', 'dim_red': None, 'knn_n_neighbors': 3, 'knn_metric': 'manhattan', 'knn_weights': 'uniform'}. Best is trial 65 with value: 0.27636372347788785.\u001b[0m\n",
            "\u001b[32m[I 2023-03-23 11:40:55,364]\u001b[0m Trial 86 finished with value: 0.27636372347788785 and parameters: {'scalers': 'standard', 'dim_red': None, 'knn_n_neighbors': 3, 'knn_metric': 'manhattan', 'knn_weights': 'uniform'}. Best is trial 65 with value: 0.27636372347788785.\u001b[0m\n",
            "\u001b[32m[I 2023-03-23 11:41:01,573]\u001b[0m Trial 87 finished with value: 0.38263563670679746 and parameters: {'scalers': 'standard', 'dim_red': None, 'knn_n_neighbors': 1, 'knn_metric': 'manhattan', 'knn_weights': 'uniform'}. Best is trial 65 with value: 0.27636372347788785.\u001b[0m\n",
            "\u001b[32m[I 2023-03-23 11:41:05,513]\u001b[0m Trial 88 finished with value: 0.8024061124508673 and parameters: {'scalers': 'minmax', 'dim_red': None, 'knn_n_neighbors': 3, 'knn_metric': 'manhattan', 'knn_weights': 'uniform'}. Best is trial 65 with value: 0.27636372347788785.\u001b[0m\n",
            "\u001b[32m[I 2023-03-23 11:41:09,311]\u001b[0m Trial 89 finished with value: 0.38263563670679746 and parameters: {'scalers': 'standard', 'dim_red': None, 'knn_n_neighbors': 1, 'knn_metric': 'manhattan', 'knn_weights': 'uniform'}. Best is trial 65 with value: 0.27636372347788785.\u001b[0m\n",
            "\u001b[32m[I 2023-03-23 11:41:14,770]\u001b[0m Trial 90 finished with value: 0.27636372347788785 and parameters: {'scalers': 'standard', 'dim_red': None, 'knn_n_neighbors': 3, 'knn_metric': 'manhattan', 'knn_weights': 'uniform'}. Best is trial 65 with value: 0.27636372347788785.\u001b[0m\n",
            "\u001b[32m[I 2023-03-23 11:41:19,590]\u001b[0m Trial 91 finished with value: 0.27636372347788785 and parameters: {'scalers': 'standard', 'dim_red': None, 'knn_n_neighbors': 3, 'knn_metric': 'manhattan', 'knn_weights': 'uniform'}. Best is trial 65 with value: 0.27636372347788785.\u001b[0m\n",
            "\u001b[32m[I 2023-03-23 11:41:23,425]\u001b[0m Trial 92 finished with value: 0.27636372347788785 and parameters: {'scalers': 'standard', 'dim_red': None, 'knn_n_neighbors': 3, 'knn_metric': 'manhattan', 'knn_weights': 'uniform'}. Best is trial 65 with value: 0.27636372347788785.\u001b[0m\n",
            "\u001b[32m[I 2023-03-23 11:41:27,897]\u001b[0m Trial 93 finished with value: 0.27636372347788785 and parameters: {'scalers': 'standard', 'dim_red': None, 'knn_n_neighbors': 3, 'knn_metric': 'manhattan', 'knn_weights': 'uniform'}. Best is trial 65 with value: 0.27636372347788785.\u001b[0m\n",
            "\u001b[32m[I 2023-03-23 11:41:33,651]\u001b[0m Trial 94 finished with value: 0.27636372347788785 and parameters: {'scalers': 'standard', 'dim_red': None, 'knn_n_neighbors': 3, 'knn_metric': 'manhattan', 'knn_weights': 'uniform'}. Best is trial 65 with value: 0.27636372347788785.\u001b[0m\n",
            "\u001b[32m[I 2023-03-23 11:41:37,519]\u001b[0m Trial 95 finished with value: 0.38263563670679746 and parameters: {'scalers': 'standard', 'dim_red': None, 'knn_n_neighbors': 1, 'knn_metric': 'manhattan', 'knn_weights': 'uniform'}. Best is trial 65 with value: 0.27636372347788785.\u001b[0m\n",
            "\u001b[32m[I 2023-03-23 11:41:41,317]\u001b[0m Trial 96 finished with value: 0.27636372347788785 and parameters: {'scalers': 'standard', 'dim_red': None, 'knn_n_neighbors': 3, 'knn_metric': 'manhattan', 'knn_weights': 'uniform'}. Best is trial 65 with value: 0.27636372347788785.\u001b[0m\n",
            "\u001b[32m[I 2023-03-23 11:41:47,752]\u001b[0m Trial 97 finished with value: 0.27636372347788785 and parameters: {'scalers': 'standard', 'dim_red': None, 'knn_n_neighbors': 3, 'knn_metric': 'manhattan', 'knn_weights': 'uniform'}. Best is trial 65 with value: 0.27636372347788785.\u001b[0m\n",
            "\u001b[32m[I 2023-03-23 11:41:49,315]\u001b[0m Trial 98 finished with value: 1.9670120559886155 and parameters: {'scalers': 'robust', 'dim_red': 'PCA', 'pca_n_components': 29, 'knn_n_neighbors': 1, 'knn_metric': 'euclidean', 'knn_weights': 'uniform'}. Best is trial 65 with value: 0.27636372347788785.\u001b[0m\n",
            "\u001b[32m[I 2023-03-23 11:41:49,900]\u001b[0m Trial 99 finished with value: 0.29244649576161297 and parameters: {'scalers': 'standard', 'dim_red': None, 'knn_n_neighbors': 3, 'knn_metric': 'minkowski', 'knn_weights': 'uniform'}. Best is trial 65 with value: 0.27636372347788785.\u001b[0m\n"
          ]
        },
        {
          "output_type": "stream",
          "name": "stdout",
          "text": [
            "Best Score: 0.27636372347788785\n",
            "Best trial: {'scalers': 'standard', 'dim_red': None, 'knn_n_neighbors': 3, 'knn_metric': 'manhattan', 'knn_weights': 'uniform'}\n"
          ]
        }
      ],
      "source": [
        "def objective(trial):\n",
        "    #scaler loist\n",
        "    scalers = trial.suggest_categorical(\"scalers\", ['minmax', 'standard', 'robust'])\n",
        "\n",
        "    #scaler\n",
        "    if scalers == \"minmax\":\n",
        "        scaler = MinMaxScaler()\n",
        "    elif scalers == \"standard\":\n",
        "        scaler = StandardScaler()\n",
        "    else:\n",
        "        scaler = RobustScaler()\n",
        "\n",
        "    dim_red = trial.suggest_categorical(\"dim_red\", [\"PCA\", None])\n",
        "\n",
        "    #pca \n",
        "    if dim_red == \"PCA\":\n",
        "        pca_n_components=trial.suggest_int(\"pca_n_components\", 2, x_train.shape[1]) \n",
        "        dimen_red_algorithm=PCA(n_components=pca_n_components)\n",
        "    # (c) No dimensionality reduction option\n",
        "    else:\n",
        "        dimen_red_algorithm='passthrough'\n",
        "\n",
        "    #모델 하이퍼 파라미터\n",
        "    knn_n_neighbors=trial.suggest_int(\"knn_n_neighbors\", 1, 19, 2)\n",
        "    knn_metric=trial.suggest_categorical(\"knn_metric\", ['euclidean', 'manhattan', 'minkowski'])\n",
        "    knn_weights=trial.suggest_categorical(\"knn_weights\", ['uniform', 'distance'])\n",
        "\n",
        "    estimator=KNeighborsRegressor(n_neighbors=knn_n_neighbors, metric=knn_metric, weights=knn_weights)\n",
        "\n",
        "    #pipeline\n",
        "    pipeline = make_pipeline(scaler, dimen_red_algorithm, estimator)\n",
        "\n",
        "    #cross-validation\n",
        "    score = cross_val_score(pipeline, x_train, y_train, scoring='neg_mean_squared_log_error', cv= KFold(n_splits=5, shuffle=True, random_state=42))\n",
        "    return -score.mean()\n",
        "\n",
        "#OPTUNA\n",
        "sampler = TPESampler(seed=42)\n",
        "study = optuna.create_study(direction=\"minimize\",\n",
        "                            sampler=sampler)\n",
        "study.optimize(objective, n_trials=100)\n",
        "\n",
        "print(\"Best Score:\", study.best_value)\n",
        "print(\"Best trial:\", study.best_trial.params)"
      ]
    },
    {
      "cell_type": "code",
      "source": [
        "print(\"Best Score:\", study.best_value)\n",
        "print(\"Best trial:\", study.best_trial.params)"
      ],
      "metadata": {
        "colab": {
          "base_uri": "https://localhost:8080/"
        },
        "id": "g16ChI5n_AEL",
        "outputId": "36f679cb-207d-4be5-fc47-90b93c4807c1"
      },
      "execution_count": 9,
      "outputs": [
        {
          "output_type": "stream",
          "name": "stdout",
          "text": [
            "Best Score: 0.27636372347788785\n",
            "Best trial: {'scalers': 'standard', 'dim_red': None, 'knn_n_neighbors': 3, 'knn_metric': 'manhattan', 'knn_weights': 'uniform'}\n"
          ]
        }
      ]
    },
    {
      "cell_type": "code",
      "source": [
        "# 시각화\n",
        "optuna.visualization.plot_optimization_history(study)"
      ],
      "metadata": {
        "colab": {
          "base_uri": "https://localhost:8080/",
          "height": 542
        },
        "id": "e514xCb3C7ku",
        "outputId": "c97e0ddf-235a-4fdc-ec4c-b7ea1fac658e"
      },
      "execution_count": 10,
      "outputs": [
        {
          "output_type": "display_data",
          "data": {
            "text/html": [
              "<html>\n",
              "<head><meta charset=\"utf-8\" /></head>\n",
              "<body>\n",
              "    <div>            <script src=\"https://cdnjs.cloudflare.com/ajax/libs/mathjax/2.7.5/MathJax.js?config=TeX-AMS-MML_SVG\"></script><script type=\"text/javascript\">if (window.MathJax && window.MathJax.Hub && window.MathJax.Hub.Config) {window.MathJax.Hub.Config({SVG: {font: \"STIX-Web\"}});}</script>                <script type=\"text/javascript\">window.PlotlyConfig = {MathJaxConfig: 'local'};</script>\n",
              "        <script src=\"https://cdn.plot.ly/plotly-2.18.2.min.js\"></script>                <div id=\"66a82d85-bc13-410d-8e2f-3b802c1f1b61\" class=\"plotly-graph-div\" style=\"height:525px; width:100%;\"></div>            <script type=\"text/javascript\">                                    window.PLOTLYENV=window.PLOTLYENV || {};                                    if (document.getElementById(\"66a82d85-bc13-410d-8e2f-3b802c1f1b61\")) {                    Plotly.newPlot(                        \"66a82d85-bc13-410d-8e2f-3b802c1f1b61\",                        [{\"mode\":\"markers\",\"name\":\"Objective Value\",\"x\":[0,1,2,3,4,5,6,7,8,9,10,11,12,13,14,15,16,17,18,19,20,21,22,23,24,25,26,27,28,29,30,31,32,33,34,35,36,37,38,39,40,41,42,43,44,45,46,47,48,49,50,51,52,53,54,55,56,57,58,59,60,61,62,63,64,65,66,67,68,69,70,71,72,73,74,75,76,77,78,79,80,81,82,83,84,85,86,87,88,89,90,91,92,93,94,95,96,97,98,99],\"y\":[1.5048841073537147,0.9771145883065767,1.1584277056001926,1.1580162766972228,1.3334146883563414,0.7065738047437957,1.325497450344011,1.0943590001751171,0.3915891620007287,0.28248035281639455,0.38941132255568056,0.38941132255568056,0.3000845632517247,0.2939951303640499,0.2939951303640499,0.4176523080874522,0.2870970094540477,1.0401607185104833,1.5188358792982481,0.5180161210756393,1.135515647847829,0.2870970094540477,0.2885010203578992,0.2870970094540477,0.3145898391288918,0.2885010203578992,0.9992679893495288,0.2870970094540477,0.3277344651634939,1.5050832955006872,0.3000845632517247,0.2870970094540477,0.2870970094540477,0.3941384866727849,0.35201806958674353,0.6337506418024355,0.3145898391288918,1.8282410575093313,1.2378308134595817,0.6374539686726785,0.6724929467490943,0.2870970094540477,0.3145898391288918,0.35201806958674353,0.2885010203578992,0.2870970094540477,0.3026432936446017,0.28248035281639455,0.8029977225960911,1.2073986744825884,0.38941132255568056,0.28248035281639455,0.3277344651634939,0.28248035281639455,0.28248035281639455,0.3277344651634939,1.121413590123805,0.28248035281639455,0.3752609252184051,0.28248035281639455,0.8943223637192614,0.28248035281639455,0.3277344651634939,0.28248035281639455,0.28248035281639455,0.27636372347788785,0.29244649576161297,0.38263563670679746,0.45923513988659737,0.27636372347788785,0.6701835422276081,0.27636372347788785,0.27636372347788785,0.27636372347788785,0.27636372347788785,0.38263563670679746,0.27636372347788785,0.29244649576161297,0.8943223637192614,2.3596439516375876,0.27636372347788785,0.27636372347788785,0.27636372347788785,0.27636372347788785,0.38263563670679746,0.27636372347788785,0.27636372347788785,0.38263563670679746,0.8024061124508673,0.38263563670679746,0.27636372347788785,0.27636372347788785,0.27636372347788785,0.27636372347788785,0.27636372347788785,0.38263563670679746,0.27636372347788785,0.27636372347788785,1.9670120559886155,0.29244649576161297],\"type\":\"scatter\"},{\"name\":\"Best Value\",\"x\":[0,1,2,3,4,5,6,7,8,9,10,11,12,13,14,15,16,17,18,19,20,21,22,23,24,25,26,27,28,29,30,31,32,33,34,35,36,37,38,39,40,41,42,43,44,45,46,47,48,49,50,51,52,53,54,55,56,57,58,59,60,61,62,63,64,65,66,67,68,69,70,71,72,73,74,75,76,77,78,79,80,81,82,83,84,85,86,87,88,89,90,91,92,93,94,95,96,97,98,99],\"y\":[1.5048841073537147,0.9771145883065767,0.9771145883065767,0.9771145883065767,0.9771145883065767,0.7065738047437957,0.7065738047437957,0.7065738047437957,0.3915891620007287,0.28248035281639455,0.28248035281639455,0.28248035281639455,0.28248035281639455,0.28248035281639455,0.28248035281639455,0.28248035281639455,0.28248035281639455,0.28248035281639455,0.28248035281639455,0.28248035281639455,0.28248035281639455,0.28248035281639455,0.28248035281639455,0.28248035281639455,0.28248035281639455,0.28248035281639455,0.28248035281639455,0.28248035281639455,0.28248035281639455,0.28248035281639455,0.28248035281639455,0.28248035281639455,0.28248035281639455,0.28248035281639455,0.28248035281639455,0.28248035281639455,0.28248035281639455,0.28248035281639455,0.28248035281639455,0.28248035281639455,0.28248035281639455,0.28248035281639455,0.28248035281639455,0.28248035281639455,0.28248035281639455,0.28248035281639455,0.28248035281639455,0.28248035281639455,0.28248035281639455,0.28248035281639455,0.28248035281639455,0.28248035281639455,0.28248035281639455,0.28248035281639455,0.28248035281639455,0.28248035281639455,0.28248035281639455,0.28248035281639455,0.28248035281639455,0.28248035281639455,0.28248035281639455,0.28248035281639455,0.28248035281639455,0.28248035281639455,0.28248035281639455,0.27636372347788785,0.27636372347788785,0.27636372347788785,0.27636372347788785,0.27636372347788785,0.27636372347788785,0.27636372347788785,0.27636372347788785,0.27636372347788785,0.27636372347788785,0.27636372347788785,0.27636372347788785,0.27636372347788785,0.27636372347788785,0.27636372347788785,0.27636372347788785,0.27636372347788785,0.27636372347788785,0.27636372347788785,0.27636372347788785,0.27636372347788785,0.27636372347788785,0.27636372347788785,0.27636372347788785,0.27636372347788785,0.27636372347788785,0.27636372347788785,0.27636372347788785,0.27636372347788785,0.27636372347788785,0.27636372347788785,0.27636372347788785,0.27636372347788785,0.27636372347788785,0.27636372347788785],\"type\":\"scatter\"}],                        {\"title\":{\"text\":\"Optimization History Plot\"},\"xaxis\":{\"title\":{\"text\":\"Trial\"}},\"yaxis\":{\"title\":{\"text\":\"Objective Value\"}},\"template\":{\"data\":{\"histogram2dcontour\":[{\"type\":\"histogram2dcontour\",\"colorbar\":{\"outlinewidth\":0,\"ticks\":\"\"},\"colorscale\":[[0.0,\"#0d0887\"],[0.1111111111111111,\"#46039f\"],[0.2222222222222222,\"#7201a8\"],[0.3333333333333333,\"#9c179e\"],[0.4444444444444444,\"#bd3786\"],[0.5555555555555556,\"#d8576b\"],[0.6666666666666666,\"#ed7953\"],[0.7777777777777778,\"#fb9f3a\"],[0.8888888888888888,\"#fdca26\"],[1.0,\"#f0f921\"]]}],\"choropleth\":[{\"type\":\"choropleth\",\"colorbar\":{\"outlinewidth\":0,\"ticks\":\"\"}}],\"histogram2d\":[{\"type\":\"histogram2d\",\"colorbar\":{\"outlinewidth\":0,\"ticks\":\"\"},\"colorscale\":[[0.0,\"#0d0887\"],[0.1111111111111111,\"#46039f\"],[0.2222222222222222,\"#7201a8\"],[0.3333333333333333,\"#9c179e\"],[0.4444444444444444,\"#bd3786\"],[0.5555555555555556,\"#d8576b\"],[0.6666666666666666,\"#ed7953\"],[0.7777777777777778,\"#fb9f3a\"],[0.8888888888888888,\"#fdca26\"],[1.0,\"#f0f921\"]]}],\"heatmap\":[{\"type\":\"heatmap\",\"colorbar\":{\"outlinewidth\":0,\"ticks\":\"\"},\"colorscale\":[[0.0,\"#0d0887\"],[0.1111111111111111,\"#46039f\"],[0.2222222222222222,\"#7201a8\"],[0.3333333333333333,\"#9c179e\"],[0.4444444444444444,\"#bd3786\"],[0.5555555555555556,\"#d8576b\"],[0.6666666666666666,\"#ed7953\"],[0.7777777777777778,\"#fb9f3a\"],[0.8888888888888888,\"#fdca26\"],[1.0,\"#f0f921\"]]}],\"heatmapgl\":[{\"type\":\"heatmapgl\",\"colorbar\":{\"outlinewidth\":0,\"ticks\":\"\"},\"colorscale\":[[0.0,\"#0d0887\"],[0.1111111111111111,\"#46039f\"],[0.2222222222222222,\"#7201a8\"],[0.3333333333333333,\"#9c179e\"],[0.4444444444444444,\"#bd3786\"],[0.5555555555555556,\"#d8576b\"],[0.6666666666666666,\"#ed7953\"],[0.7777777777777778,\"#fb9f3a\"],[0.8888888888888888,\"#fdca26\"],[1.0,\"#f0f921\"]]}],\"contourcarpet\":[{\"type\":\"contourcarpet\",\"colorbar\":{\"outlinewidth\":0,\"ticks\":\"\"}}],\"contour\":[{\"type\":\"contour\",\"colorbar\":{\"outlinewidth\":0,\"ticks\":\"\"},\"colorscale\":[[0.0,\"#0d0887\"],[0.1111111111111111,\"#46039f\"],[0.2222222222222222,\"#7201a8\"],[0.3333333333333333,\"#9c179e\"],[0.4444444444444444,\"#bd3786\"],[0.5555555555555556,\"#d8576b\"],[0.6666666666666666,\"#ed7953\"],[0.7777777777777778,\"#fb9f3a\"],[0.8888888888888888,\"#fdca26\"],[1.0,\"#f0f921\"]]}],\"surface\":[{\"type\":\"surface\",\"colorbar\":{\"outlinewidth\":0,\"ticks\":\"\"},\"colorscale\":[[0.0,\"#0d0887\"],[0.1111111111111111,\"#46039f\"],[0.2222222222222222,\"#7201a8\"],[0.3333333333333333,\"#9c179e\"],[0.4444444444444444,\"#bd3786\"],[0.5555555555555556,\"#d8576b\"],[0.6666666666666666,\"#ed7953\"],[0.7777777777777778,\"#fb9f3a\"],[0.8888888888888888,\"#fdca26\"],[1.0,\"#f0f921\"]]}],\"mesh3d\":[{\"type\":\"mesh3d\",\"colorbar\":{\"outlinewidth\":0,\"ticks\":\"\"}}],\"scatter\":[{\"fillpattern\":{\"fillmode\":\"overlay\",\"size\":10,\"solidity\":0.2},\"type\":\"scatter\"}],\"parcoords\":[{\"type\":\"parcoords\",\"line\":{\"colorbar\":{\"outlinewidth\":0,\"ticks\":\"\"}}}],\"scatterpolargl\":[{\"type\":\"scatterpolargl\",\"marker\":{\"colorbar\":{\"outlinewidth\":0,\"ticks\":\"\"}}}],\"bar\":[{\"error_x\":{\"color\":\"#2a3f5f\"},\"error_y\":{\"color\":\"#2a3f5f\"},\"marker\":{\"line\":{\"color\":\"#E5ECF6\",\"width\":0.5},\"pattern\":{\"fillmode\":\"overlay\",\"size\":10,\"solidity\":0.2}},\"type\":\"bar\"}],\"scattergeo\":[{\"type\":\"scattergeo\",\"marker\":{\"colorbar\":{\"outlinewidth\":0,\"ticks\":\"\"}}}],\"scatterpolar\":[{\"type\":\"scatterpolar\",\"marker\":{\"colorbar\":{\"outlinewidth\":0,\"ticks\":\"\"}}}],\"histogram\":[{\"marker\":{\"pattern\":{\"fillmode\":\"overlay\",\"size\":10,\"solidity\":0.2}},\"type\":\"histogram\"}],\"scattergl\":[{\"type\":\"scattergl\",\"marker\":{\"colorbar\":{\"outlinewidth\":0,\"ticks\":\"\"}}}],\"scatter3d\":[{\"type\":\"scatter3d\",\"line\":{\"colorbar\":{\"outlinewidth\":0,\"ticks\":\"\"}},\"marker\":{\"colorbar\":{\"outlinewidth\":0,\"ticks\":\"\"}}}],\"scattermapbox\":[{\"type\":\"scattermapbox\",\"marker\":{\"colorbar\":{\"outlinewidth\":0,\"ticks\":\"\"}}}],\"scatterternary\":[{\"type\":\"scatterternary\",\"marker\":{\"colorbar\":{\"outlinewidth\":0,\"ticks\":\"\"}}}],\"scattercarpet\":[{\"type\":\"scattercarpet\",\"marker\":{\"colorbar\":{\"outlinewidth\":0,\"ticks\":\"\"}}}],\"carpet\":[{\"aaxis\":{\"endlinecolor\":\"#2a3f5f\",\"gridcolor\":\"white\",\"linecolor\":\"white\",\"minorgridcolor\":\"white\",\"startlinecolor\":\"#2a3f5f\"},\"baxis\":{\"endlinecolor\":\"#2a3f5f\",\"gridcolor\":\"white\",\"linecolor\":\"white\",\"minorgridcolor\":\"white\",\"startlinecolor\":\"#2a3f5f\"},\"type\":\"carpet\"}],\"table\":[{\"cells\":{\"fill\":{\"color\":\"#EBF0F8\"},\"line\":{\"color\":\"white\"}},\"header\":{\"fill\":{\"color\":\"#C8D4E3\"},\"line\":{\"color\":\"white\"}},\"type\":\"table\"}],\"barpolar\":[{\"marker\":{\"line\":{\"color\":\"#E5ECF6\",\"width\":0.5},\"pattern\":{\"fillmode\":\"overlay\",\"size\":10,\"solidity\":0.2}},\"type\":\"barpolar\"}],\"pie\":[{\"automargin\":true,\"type\":\"pie\"}]},\"layout\":{\"autotypenumbers\":\"strict\",\"colorway\":[\"#636efa\",\"#EF553B\",\"#00cc96\",\"#ab63fa\",\"#FFA15A\",\"#19d3f3\",\"#FF6692\",\"#B6E880\",\"#FF97FF\",\"#FECB52\"],\"font\":{\"color\":\"#2a3f5f\"},\"hovermode\":\"closest\",\"hoverlabel\":{\"align\":\"left\"},\"paper_bgcolor\":\"white\",\"plot_bgcolor\":\"#E5ECF6\",\"polar\":{\"bgcolor\":\"#E5ECF6\",\"angularaxis\":{\"gridcolor\":\"white\",\"linecolor\":\"white\",\"ticks\":\"\"},\"radialaxis\":{\"gridcolor\":\"white\",\"linecolor\":\"white\",\"ticks\":\"\"}},\"ternary\":{\"bgcolor\":\"#E5ECF6\",\"aaxis\":{\"gridcolor\":\"white\",\"linecolor\":\"white\",\"ticks\":\"\"},\"baxis\":{\"gridcolor\":\"white\",\"linecolor\":\"white\",\"ticks\":\"\"},\"caxis\":{\"gridcolor\":\"white\",\"linecolor\":\"white\",\"ticks\":\"\"}},\"coloraxis\":{\"colorbar\":{\"outlinewidth\":0,\"ticks\":\"\"}},\"colorscale\":{\"sequential\":[[0.0,\"#0d0887\"],[0.1111111111111111,\"#46039f\"],[0.2222222222222222,\"#7201a8\"],[0.3333333333333333,\"#9c179e\"],[0.4444444444444444,\"#bd3786\"],[0.5555555555555556,\"#d8576b\"],[0.6666666666666666,\"#ed7953\"],[0.7777777777777778,\"#fb9f3a\"],[0.8888888888888888,\"#fdca26\"],[1.0,\"#f0f921\"]],\"sequentialminus\":[[0.0,\"#0d0887\"],[0.1111111111111111,\"#46039f\"],[0.2222222222222222,\"#7201a8\"],[0.3333333333333333,\"#9c179e\"],[0.4444444444444444,\"#bd3786\"],[0.5555555555555556,\"#d8576b\"],[0.6666666666666666,\"#ed7953\"],[0.7777777777777778,\"#fb9f3a\"],[0.8888888888888888,\"#fdca26\"],[1.0,\"#f0f921\"]],\"diverging\":[[0,\"#8e0152\"],[0.1,\"#c51b7d\"],[0.2,\"#de77ae\"],[0.3,\"#f1b6da\"],[0.4,\"#fde0ef\"],[0.5,\"#f7f7f7\"],[0.6,\"#e6f5d0\"],[0.7,\"#b8e186\"],[0.8,\"#7fbc41\"],[0.9,\"#4d9221\"],[1,\"#276419\"]]},\"xaxis\":{\"gridcolor\":\"white\",\"linecolor\":\"white\",\"ticks\":\"\",\"title\":{\"standoff\":15},\"zerolinecolor\":\"white\",\"automargin\":true,\"zerolinewidth\":2},\"yaxis\":{\"gridcolor\":\"white\",\"linecolor\":\"white\",\"ticks\":\"\",\"title\":{\"standoff\":15},\"zerolinecolor\":\"white\",\"automargin\":true,\"zerolinewidth\":2},\"scene\":{\"xaxis\":{\"backgroundcolor\":\"#E5ECF6\",\"gridcolor\":\"white\",\"linecolor\":\"white\",\"showbackground\":true,\"ticks\":\"\",\"zerolinecolor\":\"white\",\"gridwidth\":2},\"yaxis\":{\"backgroundcolor\":\"#E5ECF6\",\"gridcolor\":\"white\",\"linecolor\":\"white\",\"showbackground\":true,\"ticks\":\"\",\"zerolinecolor\":\"white\",\"gridwidth\":2},\"zaxis\":{\"backgroundcolor\":\"#E5ECF6\",\"gridcolor\":\"white\",\"linecolor\":\"white\",\"showbackground\":true,\"ticks\":\"\",\"zerolinecolor\":\"white\",\"gridwidth\":2}},\"shapedefaults\":{\"line\":{\"color\":\"#2a3f5f\"}},\"annotationdefaults\":{\"arrowcolor\":\"#2a3f5f\",\"arrowhead\":0,\"arrowwidth\":1},\"geo\":{\"bgcolor\":\"white\",\"landcolor\":\"#E5ECF6\",\"subunitcolor\":\"white\",\"showland\":true,\"showlakes\":true,\"lakecolor\":\"white\"},\"title\":{\"x\":0.05},\"mapbox\":{\"style\":\"light\"}}}},                        {\"responsive\": true}                    ).then(function(){\n",
              "                            \n",
              "var gd = document.getElementById('66a82d85-bc13-410d-8e2f-3b802c1f1b61');\n",
              "var x = new MutationObserver(function (mutations, observer) {{\n",
              "        var display = window.getComputedStyle(gd).display;\n",
              "        if (!display || display === 'none') {{\n",
              "            console.log([gd, 'removed!']);\n",
              "            Plotly.purge(gd);\n",
              "            observer.disconnect();\n",
              "        }}\n",
              "}});\n",
              "\n",
              "// Listen for the removal of the full notebook cells\n",
              "var notebookContainer = gd.closest('#notebook-container');\n",
              "if (notebookContainer) {{\n",
              "    x.observe(notebookContainer, {childList: true});\n",
              "}}\n",
              "\n",
              "// Listen for the clearing of the current output cell\n",
              "var outputEl = gd.closest('.output');\n",
              "if (outputEl) {{\n",
              "    x.observe(outputEl, {childList: true});\n",
              "}}\n",
              "\n",
              "                        })                };                            </script>        </div>\n",
              "</body>\n",
              "</html>"
            ]
          },
          "metadata": {}
        }
      ]
    },
    {
      "cell_type": "code",
      "source": [
        "# 하이퍼파라미터 중요도\n",
        "optuna.visualization.plot_param_importances(study)"
      ],
      "metadata": {
        "colab": {
          "base_uri": "https://localhost:8080/",
          "height": 542
        },
        "id": "KP7aA96jDCrH",
        "outputId": "d5cdfc21-966d-4953-b601-6ac05e67a338"
      },
      "execution_count": 11,
      "outputs": [
        {
          "output_type": "display_data",
          "data": {
            "text/html": [
              "<html>\n",
              "<head><meta charset=\"utf-8\" /></head>\n",
              "<body>\n",
              "    <div>            <script src=\"https://cdnjs.cloudflare.com/ajax/libs/mathjax/2.7.5/MathJax.js?config=TeX-AMS-MML_SVG\"></script><script type=\"text/javascript\">if (window.MathJax && window.MathJax.Hub && window.MathJax.Hub.Config) {window.MathJax.Hub.Config({SVG: {font: \"STIX-Web\"}});}</script>                <script type=\"text/javascript\">window.PlotlyConfig = {MathJaxConfig: 'local'};</script>\n",
              "        <script src=\"https://cdn.plot.ly/plotly-2.18.2.min.js\"></script>                <div id=\"bb8d6cfe-e197-4b7c-ae39-103b987bbb5f\" class=\"plotly-graph-div\" style=\"height:525px; width:100%;\"></div>            <script type=\"text/javascript\">                                    window.PLOTLYENV=window.PLOTLYENV || {};                                    if (document.getElementById(\"bb8d6cfe-e197-4b7c-ae39-103b987bbb5f\")) {                    Plotly.newPlot(                        \"bb8d6cfe-e197-4b7c-ae39-103b987bbb5f\",                        [{\"cliponaxis\":false,\"hovertemplate\":[\"knn_weights (CategoricalDistribution): 0.023004636527994837<extra></extra>\",\"knn_metric (CategoricalDistribution): 0.08433057627848609<extra></extra>\",\"knn_n_neighbors (IntDistribution): 0.14975251765973846<extra></extra>\",\"dim_red (CategoricalDistribution): 0.23681593474848983<extra></extra>\",\"scalers (CategoricalDistribution): 0.5060963347852909<extra></extra>\"],\"marker\":{\"color\":\"rgb(66,146,198)\"},\"orientation\":\"h\",\"text\":[\"0.02\",\"0.08\",\"0.15\",\"0.24\",\"0.51\"],\"textposition\":\"outside\",\"x\":[0.023004636527994837,0.08433057627848609,0.14975251765973846,0.23681593474848983,0.5060963347852909],\"y\":[\"knn_weights\",\"knn_metric\",\"knn_n_neighbors\",\"dim_red\",\"scalers\"],\"type\":\"bar\"}],                        {\"showlegend\":false,\"title\":{\"text\":\"Hyperparameter Importances\"},\"xaxis\":{\"title\":{\"text\":\"Importance for Objective Value\"}},\"yaxis\":{\"title\":{\"text\":\"Hyperparameter\"}},\"template\":{\"data\":{\"histogram2dcontour\":[{\"type\":\"histogram2dcontour\",\"colorbar\":{\"outlinewidth\":0,\"ticks\":\"\"},\"colorscale\":[[0.0,\"#0d0887\"],[0.1111111111111111,\"#46039f\"],[0.2222222222222222,\"#7201a8\"],[0.3333333333333333,\"#9c179e\"],[0.4444444444444444,\"#bd3786\"],[0.5555555555555556,\"#d8576b\"],[0.6666666666666666,\"#ed7953\"],[0.7777777777777778,\"#fb9f3a\"],[0.8888888888888888,\"#fdca26\"],[1.0,\"#f0f921\"]]}],\"choropleth\":[{\"type\":\"choropleth\",\"colorbar\":{\"outlinewidth\":0,\"ticks\":\"\"}}],\"histogram2d\":[{\"type\":\"histogram2d\",\"colorbar\":{\"outlinewidth\":0,\"ticks\":\"\"},\"colorscale\":[[0.0,\"#0d0887\"],[0.1111111111111111,\"#46039f\"],[0.2222222222222222,\"#7201a8\"],[0.3333333333333333,\"#9c179e\"],[0.4444444444444444,\"#bd3786\"],[0.5555555555555556,\"#d8576b\"],[0.6666666666666666,\"#ed7953\"],[0.7777777777777778,\"#fb9f3a\"],[0.8888888888888888,\"#fdca26\"],[1.0,\"#f0f921\"]]}],\"heatmap\":[{\"type\":\"heatmap\",\"colorbar\":{\"outlinewidth\":0,\"ticks\":\"\"},\"colorscale\":[[0.0,\"#0d0887\"],[0.1111111111111111,\"#46039f\"],[0.2222222222222222,\"#7201a8\"],[0.3333333333333333,\"#9c179e\"],[0.4444444444444444,\"#bd3786\"],[0.5555555555555556,\"#d8576b\"],[0.6666666666666666,\"#ed7953\"],[0.7777777777777778,\"#fb9f3a\"],[0.8888888888888888,\"#fdca26\"],[1.0,\"#f0f921\"]]}],\"heatmapgl\":[{\"type\":\"heatmapgl\",\"colorbar\":{\"outlinewidth\":0,\"ticks\":\"\"},\"colorscale\":[[0.0,\"#0d0887\"],[0.1111111111111111,\"#46039f\"],[0.2222222222222222,\"#7201a8\"],[0.3333333333333333,\"#9c179e\"],[0.4444444444444444,\"#bd3786\"],[0.5555555555555556,\"#d8576b\"],[0.6666666666666666,\"#ed7953\"],[0.7777777777777778,\"#fb9f3a\"],[0.8888888888888888,\"#fdca26\"],[1.0,\"#f0f921\"]]}],\"contourcarpet\":[{\"type\":\"contourcarpet\",\"colorbar\":{\"outlinewidth\":0,\"ticks\":\"\"}}],\"contour\":[{\"type\":\"contour\",\"colorbar\":{\"outlinewidth\":0,\"ticks\":\"\"},\"colorscale\":[[0.0,\"#0d0887\"],[0.1111111111111111,\"#46039f\"],[0.2222222222222222,\"#7201a8\"],[0.3333333333333333,\"#9c179e\"],[0.4444444444444444,\"#bd3786\"],[0.5555555555555556,\"#d8576b\"],[0.6666666666666666,\"#ed7953\"],[0.7777777777777778,\"#fb9f3a\"],[0.8888888888888888,\"#fdca26\"],[1.0,\"#f0f921\"]]}],\"surface\":[{\"type\":\"surface\",\"colorbar\":{\"outlinewidth\":0,\"ticks\":\"\"},\"colorscale\":[[0.0,\"#0d0887\"],[0.1111111111111111,\"#46039f\"],[0.2222222222222222,\"#7201a8\"],[0.3333333333333333,\"#9c179e\"],[0.4444444444444444,\"#bd3786\"],[0.5555555555555556,\"#d8576b\"],[0.6666666666666666,\"#ed7953\"],[0.7777777777777778,\"#fb9f3a\"],[0.8888888888888888,\"#fdca26\"],[1.0,\"#f0f921\"]]}],\"mesh3d\":[{\"type\":\"mesh3d\",\"colorbar\":{\"outlinewidth\":0,\"ticks\":\"\"}}],\"scatter\":[{\"fillpattern\":{\"fillmode\":\"overlay\",\"size\":10,\"solidity\":0.2},\"type\":\"scatter\"}],\"parcoords\":[{\"type\":\"parcoords\",\"line\":{\"colorbar\":{\"outlinewidth\":0,\"ticks\":\"\"}}}],\"scatterpolargl\":[{\"type\":\"scatterpolargl\",\"marker\":{\"colorbar\":{\"outlinewidth\":0,\"ticks\":\"\"}}}],\"bar\":[{\"error_x\":{\"color\":\"#2a3f5f\"},\"error_y\":{\"color\":\"#2a3f5f\"},\"marker\":{\"line\":{\"color\":\"#E5ECF6\",\"width\":0.5},\"pattern\":{\"fillmode\":\"overlay\",\"size\":10,\"solidity\":0.2}},\"type\":\"bar\"}],\"scattergeo\":[{\"type\":\"scattergeo\",\"marker\":{\"colorbar\":{\"outlinewidth\":0,\"ticks\":\"\"}}}],\"scatterpolar\":[{\"type\":\"scatterpolar\",\"marker\":{\"colorbar\":{\"outlinewidth\":0,\"ticks\":\"\"}}}],\"histogram\":[{\"marker\":{\"pattern\":{\"fillmode\":\"overlay\",\"size\":10,\"solidity\":0.2}},\"type\":\"histogram\"}],\"scattergl\":[{\"type\":\"scattergl\",\"marker\":{\"colorbar\":{\"outlinewidth\":0,\"ticks\":\"\"}}}],\"scatter3d\":[{\"type\":\"scatter3d\",\"line\":{\"colorbar\":{\"outlinewidth\":0,\"ticks\":\"\"}},\"marker\":{\"colorbar\":{\"outlinewidth\":0,\"ticks\":\"\"}}}],\"scattermapbox\":[{\"type\":\"scattermapbox\",\"marker\":{\"colorbar\":{\"outlinewidth\":0,\"ticks\":\"\"}}}],\"scatterternary\":[{\"type\":\"scatterternary\",\"marker\":{\"colorbar\":{\"outlinewidth\":0,\"ticks\":\"\"}}}],\"scattercarpet\":[{\"type\":\"scattercarpet\",\"marker\":{\"colorbar\":{\"outlinewidth\":0,\"ticks\":\"\"}}}],\"carpet\":[{\"aaxis\":{\"endlinecolor\":\"#2a3f5f\",\"gridcolor\":\"white\",\"linecolor\":\"white\",\"minorgridcolor\":\"white\",\"startlinecolor\":\"#2a3f5f\"},\"baxis\":{\"endlinecolor\":\"#2a3f5f\",\"gridcolor\":\"white\",\"linecolor\":\"white\",\"minorgridcolor\":\"white\",\"startlinecolor\":\"#2a3f5f\"},\"type\":\"carpet\"}],\"table\":[{\"cells\":{\"fill\":{\"color\":\"#EBF0F8\"},\"line\":{\"color\":\"white\"}},\"header\":{\"fill\":{\"color\":\"#C8D4E3\"},\"line\":{\"color\":\"white\"}},\"type\":\"table\"}],\"barpolar\":[{\"marker\":{\"line\":{\"color\":\"#E5ECF6\",\"width\":0.5},\"pattern\":{\"fillmode\":\"overlay\",\"size\":10,\"solidity\":0.2}},\"type\":\"barpolar\"}],\"pie\":[{\"automargin\":true,\"type\":\"pie\"}]},\"layout\":{\"autotypenumbers\":\"strict\",\"colorway\":[\"#636efa\",\"#EF553B\",\"#00cc96\",\"#ab63fa\",\"#FFA15A\",\"#19d3f3\",\"#FF6692\",\"#B6E880\",\"#FF97FF\",\"#FECB52\"],\"font\":{\"color\":\"#2a3f5f\"},\"hovermode\":\"closest\",\"hoverlabel\":{\"align\":\"left\"},\"paper_bgcolor\":\"white\",\"plot_bgcolor\":\"#E5ECF6\",\"polar\":{\"bgcolor\":\"#E5ECF6\",\"angularaxis\":{\"gridcolor\":\"white\",\"linecolor\":\"white\",\"ticks\":\"\"},\"radialaxis\":{\"gridcolor\":\"white\",\"linecolor\":\"white\",\"ticks\":\"\"}},\"ternary\":{\"bgcolor\":\"#E5ECF6\",\"aaxis\":{\"gridcolor\":\"white\",\"linecolor\":\"white\",\"ticks\":\"\"},\"baxis\":{\"gridcolor\":\"white\",\"linecolor\":\"white\",\"ticks\":\"\"},\"caxis\":{\"gridcolor\":\"white\",\"linecolor\":\"white\",\"ticks\":\"\"}},\"coloraxis\":{\"colorbar\":{\"outlinewidth\":0,\"ticks\":\"\"}},\"colorscale\":{\"sequential\":[[0.0,\"#0d0887\"],[0.1111111111111111,\"#46039f\"],[0.2222222222222222,\"#7201a8\"],[0.3333333333333333,\"#9c179e\"],[0.4444444444444444,\"#bd3786\"],[0.5555555555555556,\"#d8576b\"],[0.6666666666666666,\"#ed7953\"],[0.7777777777777778,\"#fb9f3a\"],[0.8888888888888888,\"#fdca26\"],[1.0,\"#f0f921\"]],\"sequentialminus\":[[0.0,\"#0d0887\"],[0.1111111111111111,\"#46039f\"],[0.2222222222222222,\"#7201a8\"],[0.3333333333333333,\"#9c179e\"],[0.4444444444444444,\"#bd3786\"],[0.5555555555555556,\"#d8576b\"],[0.6666666666666666,\"#ed7953\"],[0.7777777777777778,\"#fb9f3a\"],[0.8888888888888888,\"#fdca26\"],[1.0,\"#f0f921\"]],\"diverging\":[[0,\"#8e0152\"],[0.1,\"#c51b7d\"],[0.2,\"#de77ae\"],[0.3,\"#f1b6da\"],[0.4,\"#fde0ef\"],[0.5,\"#f7f7f7\"],[0.6,\"#e6f5d0\"],[0.7,\"#b8e186\"],[0.8,\"#7fbc41\"],[0.9,\"#4d9221\"],[1,\"#276419\"]]},\"xaxis\":{\"gridcolor\":\"white\",\"linecolor\":\"white\",\"ticks\":\"\",\"title\":{\"standoff\":15},\"zerolinecolor\":\"white\",\"automargin\":true,\"zerolinewidth\":2},\"yaxis\":{\"gridcolor\":\"white\",\"linecolor\":\"white\",\"ticks\":\"\",\"title\":{\"standoff\":15},\"zerolinecolor\":\"white\",\"automargin\":true,\"zerolinewidth\":2},\"scene\":{\"xaxis\":{\"backgroundcolor\":\"#E5ECF6\",\"gridcolor\":\"white\",\"linecolor\":\"white\",\"showbackground\":true,\"ticks\":\"\",\"zerolinecolor\":\"white\",\"gridwidth\":2},\"yaxis\":{\"backgroundcolor\":\"#E5ECF6\",\"gridcolor\":\"white\",\"linecolor\":\"white\",\"showbackground\":true,\"ticks\":\"\",\"zerolinecolor\":\"white\",\"gridwidth\":2},\"zaxis\":{\"backgroundcolor\":\"#E5ECF6\",\"gridcolor\":\"white\",\"linecolor\":\"white\",\"showbackground\":true,\"ticks\":\"\",\"zerolinecolor\":\"white\",\"gridwidth\":2}},\"shapedefaults\":{\"line\":{\"color\":\"#2a3f5f\"}},\"annotationdefaults\":{\"arrowcolor\":\"#2a3f5f\",\"arrowhead\":0,\"arrowwidth\":1},\"geo\":{\"bgcolor\":\"white\",\"landcolor\":\"#E5ECF6\",\"subunitcolor\":\"white\",\"showland\":true,\"showlakes\":true,\"lakecolor\":\"white\"},\"title\":{\"x\":0.05},\"mapbox\":{\"style\":\"light\"}}}},                        {\"responsive\": true}                    ).then(function(){\n",
              "                            \n",
              "var gd = document.getElementById('bb8d6cfe-e197-4b7c-ae39-103b987bbb5f');\n",
              "var x = new MutationObserver(function (mutations, observer) {{\n",
              "        var display = window.getComputedStyle(gd).display;\n",
              "        if (!display || display === 'none') {{\n",
              "            console.log([gd, 'removed!']);\n",
              "            Plotly.purge(gd);\n",
              "            observer.disconnect();\n",
              "        }}\n",
              "}});\n",
              "\n",
              "// Listen for the removal of the full notebook cells\n",
              "var notebookContainer = gd.closest('#notebook-container');\n",
              "if (notebookContainer) {{\n",
              "    x.observe(notebookContainer, {childList: true});\n",
              "}}\n",
              "\n",
              "// Listen for the clearing of the current output cell\n",
              "var outputEl = gd.closest('.output');\n",
              "if (outputEl) {{\n",
              "    x.observe(outputEl, {childList: true});\n",
              "}}\n",
              "\n",
              "                        })                };                            </script>        </div>\n",
              "</body>\n",
              "</html>"
            ]
          },
          "metadata": {}
        }
      ]
    },
    {
      "cell_type": "code",
      "source": [
        "study.best_trial.params"
      ],
      "metadata": {
        "colab": {
          "base_uri": "https://localhost:8080/"
        },
        "id": "iPGSWcZWD0MV",
        "outputId": "dd6c7187-f9c3-417b-e601-017832c003c8"
      },
      "execution_count": 12,
      "outputs": [
        {
          "output_type": "execute_result",
          "data": {
            "text/plain": [
              "{'scalers': 'standard',\n",
              " 'dim_red': None,\n",
              " 'knn_n_neighbors': 3,\n",
              " 'knn_metric': 'manhattan',\n",
              " 'knn_weights': 'uniform'}"
            ]
          },
          "metadata": {},
          "execution_count": 12
        }
      ]
    },
    {
      "cell_type": "code",
      "source": [
        "x_train.shape"
      ],
      "metadata": {
        "colab": {
          "base_uri": "https://localhost:8080/"
        },
        "id": "QNtYIYfxFAuA",
        "outputId": "40a28e3d-c9f7-4f3f-bb57-023c4163f305"
      },
      "execution_count": 13,
      "outputs": [
        {
          "output_type": "execute_result",
          "data": {
            "text/plain": [
              "(8026, 56)"
            ]
          },
          "metadata": {},
          "execution_count": 13
        }
      ]
    },
    {
      "cell_type": "markdown",
      "source": [
        "PCA 시각화(Hour)"
      ],
      "metadata": {
        "id": "_CZsOkrmopC5"
      }
    },
    {
      "cell_type": "code",
      "source": [
        "# scaling\n",
        "scaler = StandardScaler()\n",
        "scaler.fit(x_train)\n",
        "x_train_scaled = scaler.transform(x_train)\n",
        "x_test_scaled = scaler.transform(x_test)\n",
        "\n",
        "###pca 시각화화\n",
        "pca = PCA(n_components=x_train_scaled.shape[1])\n",
        "pca.fit(x_train_scaled)\n",
        "x_train_pca = pca.transform(x_train_scaled)\n",
        "\n",
        "#데이터 할당당\n",
        "pc_name = [\"PC\"+str(i+1) for i in range(len(pca.explained_variance_ratio_))]\n",
        "pc_ratio = np.round(pca.explained_variance_ratio_*100, 2)\n",
        "pca_ratio_sums = []\n",
        "i = 1\n",
        "for pc in pca.explained_variance_ratio_:\n",
        "    sigma_sum = pca.explained_variance_ratio_[:i].sum()*100\n",
        "    pca_ratio_sums.append(sigma_sum)\n",
        "    i += 1\n",
        "\n",
        "fig = go.Figure()\n",
        "fig.add_trace(go.Bar(x=list(range(len(pca.explained_variance_ratio_))), y=pc_ratio))\n",
        "fig.add_trace(go.Scatter(x=list(range(len(pca.explained_variance_ratio_))), y=pca_ratio_sums, name=\"blue\", mode=\"lines\", marker_color=\"darkblue\"))\n",
        "\n",
        "fig.update_layout(title=dict({\"text\": \"Pc & Variance\"}))\n",
        "fig.update_layout(xaxis=dict({\"tickvals\": list(range(len(pca.explained_variance_ratio_))),\n",
        "                              \"ticktext\": pc_name}))\n",
        "fig.update_layout(yaxis=dict({\"title\": \"Varinance(%)\"}))\n",
        "\n",
        "fig.update_traces()\n",
        "fig.show()"
      ],
      "metadata": {
        "id": "nBXoOcQt8TAx"
      },
      "execution_count": null,
      "outputs": []
    },
    {
      "cell_type": "markdown",
      "source": [
        "PCA 시각화(cos, sin, Hour)"
      ],
      "metadata": {
        "id": "1L3q0HS58W5C"
      }
    },
    {
      "cell_type": "code",
      "source": [
        "# scaling\n",
        "scaler = MinMaxScaler()\n",
        "scaler.fit(x_train)\n",
        "x_train_scaled = scaler.transform(x_train)\n",
        "x_test_scaled = scaler.transform(x_test)\n",
        "\n",
        "###pca 시각화화\n",
        "pca = PCA(n_components=12)\n",
        "pca.fit(x_train_scaled)\n",
        "x_train_pca = pca.transform(x_train_scaled)\n",
        "\n",
        "#데이터 할당당\n",
        "pc_name = [\"PC\"+str(i+1) for i in range(len(pca.explained_variance_ratio_))]\n",
        "pc_ratio = np.round(pca.explained_variance_ratio_*100, 2)\n",
        "pca_ratio_sums = []\n",
        "i = 1\n",
        "for pc in pca.explained_variance_ratio_:\n",
        "    sigma_sum = pca.explained_variance_ratio_[:i].sum()*100\n",
        "    pca_ratio_sums.append(sigma_sum)\n",
        "    i += 1\n",
        "\n",
        "fig = go.Figure()\n",
        "fig.add_trace(go.Bar(x=list(range(len(pca.explained_variance_ratio_))), y=pc_ratio))\n",
        "fig.add_trace(go.Scatter(x=list(range(len(pca.explained_variance_ratio_))), y=pca_ratio_sums, name=\"blue\", mode=\"lines\", marker_color=\"darkblue\"))\n",
        "\n",
        "fig.update_layout(title=dict({\"text\": \"Pc & Variance\"}))\n",
        "fig.update_layout(xaxis=dict({\"tickvals\": list(range(len(pca.explained_variance_ratio_))),\n",
        "                              \"ticktext\": pc_name}))\n",
        "fig.update_layout(yaxis=dict({\"title\": \"Varinance(%)\"}))\n",
        "\n",
        "fig.update_traces()\n",
        "fig.show()"
      ],
      "metadata": {
        "colab": {
          "base_uri": "https://localhost:8080/",
          "height": 542
        },
        "id": "_2QWQ-QK8cPY",
        "outputId": "6b37d56b-62a4-4dd2-f28d-622e80706076"
      },
      "execution_count": null,
      "outputs": [
        {
          "output_type": "display_data",
          "data": {
            "text/html": [
              "<html>\n",
              "<head><meta charset=\"utf-8\" /></head>\n",
              "<body>\n",
              "    <div>            <script src=\"https://cdnjs.cloudflare.com/ajax/libs/mathjax/2.7.5/MathJax.js?config=TeX-AMS-MML_SVG\"></script><script type=\"text/javascript\">if (window.MathJax && window.MathJax.Hub && window.MathJax.Hub.Config) {window.MathJax.Hub.Config({SVG: {font: \"STIX-Web\"}});}</script>                <script type=\"text/javascript\">window.PlotlyConfig = {MathJaxConfig: 'local'};</script>\n",
              "        <script src=\"https://cdn.plot.ly/plotly-2.18.2.min.js\"></script>                <div id=\"d3845b26-a760-4a12-8956-1b553527927f\" class=\"plotly-graph-div\" style=\"height:525px; width:100%;\"></div>            <script type=\"text/javascript\">                                    window.PLOTLYENV=window.PLOTLYENV || {};                                    if (document.getElementById(\"d3845b26-a760-4a12-8956-1b553527927f\")) {                    Plotly.newPlot(                        \"d3845b26-a760-4a12-8956-1b553527927f\",                        [{\"x\":[0,1,2,3,4,5,6,7,8,9,10,11],\"y\":[14.39,10.3,9.4,8.86,8.66,3.91,3.8,3.77,3.76,3.72,3.63,3.29],\"type\":\"bar\"},{\"marker\":{\"color\":\"darkblue\"},\"mode\":\"lines\",\"name\":\"blue\",\"x\":[0,1,2,3,4,5,6,7,8,9,10,11],\"y\":[14.390012549714221,24.690584445848835,34.088935888433134,42.94686205385575,51.60821241297827,55.5230132131992,59.32064277603294,63.08730944450611,66.8463880409022,70.57096052338493,74.20386828967786,77.4955272837915],\"type\":\"scatter\"}],                        {\"template\":{\"data\":{\"histogram2dcontour\":[{\"type\":\"histogram2dcontour\",\"colorbar\":{\"outlinewidth\":0,\"ticks\":\"\"},\"colorscale\":[[0.0,\"#0d0887\"],[0.1111111111111111,\"#46039f\"],[0.2222222222222222,\"#7201a8\"],[0.3333333333333333,\"#9c179e\"],[0.4444444444444444,\"#bd3786\"],[0.5555555555555556,\"#d8576b\"],[0.6666666666666666,\"#ed7953\"],[0.7777777777777778,\"#fb9f3a\"],[0.8888888888888888,\"#fdca26\"],[1.0,\"#f0f921\"]]}],\"choropleth\":[{\"type\":\"choropleth\",\"colorbar\":{\"outlinewidth\":0,\"ticks\":\"\"}}],\"histogram2d\":[{\"type\":\"histogram2d\",\"colorbar\":{\"outlinewidth\":0,\"ticks\":\"\"},\"colorscale\":[[0.0,\"#0d0887\"],[0.1111111111111111,\"#46039f\"],[0.2222222222222222,\"#7201a8\"],[0.3333333333333333,\"#9c179e\"],[0.4444444444444444,\"#bd3786\"],[0.5555555555555556,\"#d8576b\"],[0.6666666666666666,\"#ed7953\"],[0.7777777777777778,\"#fb9f3a\"],[0.8888888888888888,\"#fdca26\"],[1.0,\"#f0f921\"]]}],\"heatmap\":[{\"type\":\"heatmap\",\"colorbar\":{\"outlinewidth\":0,\"ticks\":\"\"},\"colorscale\":[[0.0,\"#0d0887\"],[0.1111111111111111,\"#46039f\"],[0.2222222222222222,\"#7201a8\"],[0.3333333333333333,\"#9c179e\"],[0.4444444444444444,\"#bd3786\"],[0.5555555555555556,\"#d8576b\"],[0.6666666666666666,\"#ed7953\"],[0.7777777777777778,\"#fb9f3a\"],[0.8888888888888888,\"#fdca26\"],[1.0,\"#f0f921\"]]}],\"heatmapgl\":[{\"type\":\"heatmapgl\",\"colorbar\":{\"outlinewidth\":0,\"ticks\":\"\"},\"colorscale\":[[0.0,\"#0d0887\"],[0.1111111111111111,\"#46039f\"],[0.2222222222222222,\"#7201a8\"],[0.3333333333333333,\"#9c179e\"],[0.4444444444444444,\"#bd3786\"],[0.5555555555555556,\"#d8576b\"],[0.6666666666666666,\"#ed7953\"],[0.7777777777777778,\"#fb9f3a\"],[0.8888888888888888,\"#fdca26\"],[1.0,\"#f0f921\"]]}],\"contourcarpet\":[{\"type\":\"contourcarpet\",\"colorbar\":{\"outlinewidth\":0,\"ticks\":\"\"}}],\"contour\":[{\"type\":\"contour\",\"colorbar\":{\"outlinewidth\":0,\"ticks\":\"\"},\"colorscale\":[[0.0,\"#0d0887\"],[0.1111111111111111,\"#46039f\"],[0.2222222222222222,\"#7201a8\"],[0.3333333333333333,\"#9c179e\"],[0.4444444444444444,\"#bd3786\"],[0.5555555555555556,\"#d8576b\"],[0.6666666666666666,\"#ed7953\"],[0.7777777777777778,\"#fb9f3a\"],[0.8888888888888888,\"#fdca26\"],[1.0,\"#f0f921\"]]}],\"surface\":[{\"type\":\"surface\",\"colorbar\":{\"outlinewidth\":0,\"ticks\":\"\"},\"colorscale\":[[0.0,\"#0d0887\"],[0.1111111111111111,\"#46039f\"],[0.2222222222222222,\"#7201a8\"],[0.3333333333333333,\"#9c179e\"],[0.4444444444444444,\"#bd3786\"],[0.5555555555555556,\"#d8576b\"],[0.6666666666666666,\"#ed7953\"],[0.7777777777777778,\"#fb9f3a\"],[0.8888888888888888,\"#fdca26\"],[1.0,\"#f0f921\"]]}],\"mesh3d\":[{\"type\":\"mesh3d\",\"colorbar\":{\"outlinewidth\":0,\"ticks\":\"\"}}],\"scatter\":[{\"fillpattern\":{\"fillmode\":\"overlay\",\"size\":10,\"solidity\":0.2},\"type\":\"scatter\"}],\"parcoords\":[{\"type\":\"parcoords\",\"line\":{\"colorbar\":{\"outlinewidth\":0,\"ticks\":\"\"}}}],\"scatterpolargl\":[{\"type\":\"scatterpolargl\",\"marker\":{\"colorbar\":{\"outlinewidth\":0,\"ticks\":\"\"}}}],\"bar\":[{\"error_x\":{\"color\":\"#2a3f5f\"},\"error_y\":{\"color\":\"#2a3f5f\"},\"marker\":{\"line\":{\"color\":\"#E5ECF6\",\"width\":0.5},\"pattern\":{\"fillmode\":\"overlay\",\"size\":10,\"solidity\":0.2}},\"type\":\"bar\"}],\"scattergeo\":[{\"type\":\"scattergeo\",\"marker\":{\"colorbar\":{\"outlinewidth\":0,\"ticks\":\"\"}}}],\"scatterpolar\":[{\"type\":\"scatterpolar\",\"marker\":{\"colorbar\":{\"outlinewidth\":0,\"ticks\":\"\"}}}],\"histogram\":[{\"marker\":{\"pattern\":{\"fillmode\":\"overlay\",\"size\":10,\"solidity\":0.2}},\"type\":\"histogram\"}],\"scattergl\":[{\"type\":\"scattergl\",\"marker\":{\"colorbar\":{\"outlinewidth\":0,\"ticks\":\"\"}}}],\"scatter3d\":[{\"type\":\"scatter3d\",\"line\":{\"colorbar\":{\"outlinewidth\":0,\"ticks\":\"\"}},\"marker\":{\"colorbar\":{\"outlinewidth\":0,\"ticks\":\"\"}}}],\"scattermapbox\":[{\"type\":\"scattermapbox\",\"marker\":{\"colorbar\":{\"outlinewidth\":0,\"ticks\":\"\"}}}],\"scatterternary\":[{\"type\":\"scatterternary\",\"marker\":{\"colorbar\":{\"outlinewidth\":0,\"ticks\":\"\"}}}],\"scattercarpet\":[{\"type\":\"scattercarpet\",\"marker\":{\"colorbar\":{\"outlinewidth\":0,\"ticks\":\"\"}}}],\"carpet\":[{\"aaxis\":{\"endlinecolor\":\"#2a3f5f\",\"gridcolor\":\"white\",\"linecolor\":\"white\",\"minorgridcolor\":\"white\",\"startlinecolor\":\"#2a3f5f\"},\"baxis\":{\"endlinecolor\":\"#2a3f5f\",\"gridcolor\":\"white\",\"linecolor\":\"white\",\"minorgridcolor\":\"white\",\"startlinecolor\":\"#2a3f5f\"},\"type\":\"carpet\"}],\"table\":[{\"cells\":{\"fill\":{\"color\":\"#EBF0F8\"},\"line\":{\"color\":\"white\"}},\"header\":{\"fill\":{\"color\":\"#C8D4E3\"},\"line\":{\"color\":\"white\"}},\"type\":\"table\"}],\"barpolar\":[{\"marker\":{\"line\":{\"color\":\"#E5ECF6\",\"width\":0.5},\"pattern\":{\"fillmode\":\"overlay\",\"size\":10,\"solidity\":0.2}},\"type\":\"barpolar\"}],\"pie\":[{\"automargin\":true,\"type\":\"pie\"}]},\"layout\":{\"autotypenumbers\":\"strict\",\"colorway\":[\"#636efa\",\"#EF553B\",\"#00cc96\",\"#ab63fa\",\"#FFA15A\",\"#19d3f3\",\"#FF6692\",\"#B6E880\",\"#FF97FF\",\"#FECB52\"],\"font\":{\"color\":\"#2a3f5f\"},\"hovermode\":\"closest\",\"hoverlabel\":{\"align\":\"left\"},\"paper_bgcolor\":\"white\",\"plot_bgcolor\":\"#E5ECF6\",\"polar\":{\"bgcolor\":\"#E5ECF6\",\"angularaxis\":{\"gridcolor\":\"white\",\"linecolor\":\"white\",\"ticks\":\"\"},\"radialaxis\":{\"gridcolor\":\"white\",\"linecolor\":\"white\",\"ticks\":\"\"}},\"ternary\":{\"bgcolor\":\"#E5ECF6\",\"aaxis\":{\"gridcolor\":\"white\",\"linecolor\":\"white\",\"ticks\":\"\"},\"baxis\":{\"gridcolor\":\"white\",\"linecolor\":\"white\",\"ticks\":\"\"},\"caxis\":{\"gridcolor\":\"white\",\"linecolor\":\"white\",\"ticks\":\"\"}},\"coloraxis\":{\"colorbar\":{\"outlinewidth\":0,\"ticks\":\"\"}},\"colorscale\":{\"sequential\":[[0.0,\"#0d0887\"],[0.1111111111111111,\"#46039f\"],[0.2222222222222222,\"#7201a8\"],[0.3333333333333333,\"#9c179e\"],[0.4444444444444444,\"#bd3786\"],[0.5555555555555556,\"#d8576b\"],[0.6666666666666666,\"#ed7953\"],[0.7777777777777778,\"#fb9f3a\"],[0.8888888888888888,\"#fdca26\"],[1.0,\"#f0f921\"]],\"sequentialminus\":[[0.0,\"#0d0887\"],[0.1111111111111111,\"#46039f\"],[0.2222222222222222,\"#7201a8\"],[0.3333333333333333,\"#9c179e\"],[0.4444444444444444,\"#bd3786\"],[0.5555555555555556,\"#d8576b\"],[0.6666666666666666,\"#ed7953\"],[0.7777777777777778,\"#fb9f3a\"],[0.8888888888888888,\"#fdca26\"],[1.0,\"#f0f921\"]],\"diverging\":[[0,\"#8e0152\"],[0.1,\"#c51b7d\"],[0.2,\"#de77ae\"],[0.3,\"#f1b6da\"],[0.4,\"#fde0ef\"],[0.5,\"#f7f7f7\"],[0.6,\"#e6f5d0\"],[0.7,\"#b8e186\"],[0.8,\"#7fbc41\"],[0.9,\"#4d9221\"],[1,\"#276419\"]]},\"xaxis\":{\"gridcolor\":\"white\",\"linecolor\":\"white\",\"ticks\":\"\",\"title\":{\"standoff\":15},\"zerolinecolor\":\"white\",\"automargin\":true,\"zerolinewidth\":2},\"yaxis\":{\"gridcolor\":\"white\",\"linecolor\":\"white\",\"ticks\":\"\",\"title\":{\"standoff\":15},\"zerolinecolor\":\"white\",\"automargin\":true,\"zerolinewidth\":2},\"scene\":{\"xaxis\":{\"backgroundcolor\":\"#E5ECF6\",\"gridcolor\":\"white\",\"linecolor\":\"white\",\"showbackground\":true,\"ticks\":\"\",\"zerolinecolor\":\"white\",\"gridwidth\":2},\"yaxis\":{\"backgroundcolor\":\"#E5ECF6\",\"gridcolor\":\"white\",\"linecolor\":\"white\",\"showbackground\":true,\"ticks\":\"\",\"zerolinecolor\":\"white\",\"gridwidth\":2},\"zaxis\":{\"backgroundcolor\":\"#E5ECF6\",\"gridcolor\":\"white\",\"linecolor\":\"white\",\"showbackground\":true,\"ticks\":\"\",\"zerolinecolor\":\"white\",\"gridwidth\":2}},\"shapedefaults\":{\"line\":{\"color\":\"#2a3f5f\"}},\"annotationdefaults\":{\"arrowcolor\":\"#2a3f5f\",\"arrowhead\":0,\"arrowwidth\":1},\"geo\":{\"bgcolor\":\"white\",\"landcolor\":\"#E5ECF6\",\"subunitcolor\":\"white\",\"showland\":true,\"showlakes\":true,\"lakecolor\":\"white\"},\"title\":{\"x\":0.05},\"mapbox\":{\"style\":\"light\"}}},\"title\":{\"text\":\"Pc & Variance\"},\"xaxis\":{\"tickvals\":[0,1,2,3,4,5,6,7,8,9,10,11],\"ticktext\":[\"PC1\",\"PC2\",\"PC3\",\"PC4\",\"PC5\",\"PC6\",\"PC7\",\"PC8\",\"PC9\",\"PC10\",\"PC11\",\"PC12\"]},\"yaxis\":{\"title\":{\"text\":\"Varinance(%)\"}}},                        {\"responsive\": true}                    ).then(function(){\n",
              "                            \n",
              "var gd = document.getElementById('d3845b26-a760-4a12-8956-1b553527927f');\n",
              "var x = new MutationObserver(function (mutations, observer) {{\n",
              "        var display = window.getComputedStyle(gd).display;\n",
              "        if (!display || display === 'none') {{\n",
              "            console.log([gd, 'removed!']);\n",
              "            Plotly.purge(gd);\n",
              "            observer.disconnect();\n",
              "        }}\n",
              "}});\n",
              "\n",
              "// Listen for the removal of the full notebook cells\n",
              "var notebookContainer = gd.closest('#notebook-container');\n",
              "if (notebookContainer) {{\n",
              "    x.observe(notebookContainer, {childList: true});\n",
              "}}\n",
              "\n",
              "// Listen for the clearing of the current output cell\n",
              "var outputEl = gd.closest('.output');\n",
              "if (outputEl) {{\n",
              "    x.observe(outputEl, {childList: true});\n",
              "}}\n",
              "\n",
              "                        })                };                            </script>        </div>\n",
              "</body>\n",
              "</html>"
            ]
          },
          "metadata": {}
        }
      ]
    },
    {
      "cell_type": "markdown",
      "source": [
        "### x_test 결과"
      ],
      "metadata": {
        "id": "mR8kY30xvvXb"
      }
    },
    {
      "cell_type": "code",
      "source": [
        "study.best_trial.params"
      ],
      "metadata": {
        "colab": {
          "base_uri": "https://localhost:8080/"
        },
        "id": "iAEbLNTevzcd",
        "outputId": "5809638b-a301-401f-d15a-3fc5ea26a13b"
      },
      "execution_count": 14,
      "outputs": [
        {
          "output_type": "execute_result",
          "data": {
            "text/plain": [
              "{'scalers': 'standard',\n",
              " 'dim_red': None,\n",
              " 'knn_n_neighbors': 3,\n",
              " 'knn_metric': 'manhattan',\n",
              " 'knn_weights': 'uniform'}"
            ]
          },
          "metadata": {},
          "execution_count": 14
        }
      ]
    },
    {
      "cell_type": "code",
      "source": [
        "# scaling\n",
        "scaler = StandardScaler()\n",
        "scaler.fit(x_train)\n",
        "\n",
        "x_train_scaled = scaler.transform(x_train)\n",
        "x_test_scaled = scaler.transform(x_test)\n",
        "# print(sum(pca.explained_variance_ratio_))"
      ],
      "metadata": {
        "id": "hQ12f7iJFgo6"
      },
      "execution_count": 15,
      "outputs": []
    },
    {
      "cell_type": "code",
      "source": [
        "op_tuned = KNeighborsRegressor(n_neighbors=3, metric='manhattan', weights='uniform')\n",
        "op_tuned.fit(x_train_scaled, y_train)"
      ],
      "metadata": {
        "colab": {
          "base_uri": "https://localhost:8080/",
          "height": 75
        },
        "id": "uuzbljEiDoOl",
        "outputId": "e998934f-6143-47b4-f63c-c24cc4fb3453"
      },
      "execution_count": 16,
      "outputs": [
        {
          "output_type": "execute_result",
          "data": {
            "text/plain": [
              "KNeighborsRegressor(metric='manhattan', n_neighbors=3)"
            ],
            "text/html": [
              "<style>#sk-container-id-1 {color: black;background-color: white;}#sk-container-id-1 pre{padding: 0;}#sk-container-id-1 div.sk-toggleable {background-color: white;}#sk-container-id-1 label.sk-toggleable__label {cursor: pointer;display: block;width: 100%;margin-bottom: 0;padding: 0.3em;box-sizing: border-box;text-align: center;}#sk-container-id-1 label.sk-toggleable__label-arrow:before {content: \"▸\";float: left;margin-right: 0.25em;color: #696969;}#sk-container-id-1 label.sk-toggleable__label-arrow:hover:before {color: black;}#sk-container-id-1 div.sk-estimator:hover label.sk-toggleable__label-arrow:before {color: black;}#sk-container-id-1 div.sk-toggleable__content {max-height: 0;max-width: 0;overflow: hidden;text-align: left;background-color: #f0f8ff;}#sk-container-id-1 div.sk-toggleable__content pre {margin: 0.2em;color: black;border-radius: 0.25em;background-color: #f0f8ff;}#sk-container-id-1 input.sk-toggleable__control:checked~div.sk-toggleable__content {max-height: 200px;max-width: 100%;overflow: auto;}#sk-container-id-1 input.sk-toggleable__control:checked~label.sk-toggleable__label-arrow:before {content: \"▾\";}#sk-container-id-1 div.sk-estimator input.sk-toggleable__control:checked~label.sk-toggleable__label {background-color: #d4ebff;}#sk-container-id-1 div.sk-label input.sk-toggleable__control:checked~label.sk-toggleable__label {background-color: #d4ebff;}#sk-container-id-1 input.sk-hidden--visually {border: 0;clip: rect(1px 1px 1px 1px);clip: rect(1px, 1px, 1px, 1px);height: 1px;margin: -1px;overflow: hidden;padding: 0;position: absolute;width: 1px;}#sk-container-id-1 div.sk-estimator {font-family: monospace;background-color: #f0f8ff;border: 1px dotted black;border-radius: 0.25em;box-sizing: border-box;margin-bottom: 0.5em;}#sk-container-id-1 div.sk-estimator:hover {background-color: #d4ebff;}#sk-container-id-1 div.sk-parallel-item::after {content: \"\";width: 100%;border-bottom: 1px solid gray;flex-grow: 1;}#sk-container-id-1 div.sk-label:hover label.sk-toggleable__label {background-color: #d4ebff;}#sk-container-id-1 div.sk-serial::before {content: \"\";position: absolute;border-left: 1px solid gray;box-sizing: border-box;top: 0;bottom: 0;left: 50%;z-index: 0;}#sk-container-id-1 div.sk-serial {display: flex;flex-direction: column;align-items: center;background-color: white;padding-right: 0.2em;padding-left: 0.2em;position: relative;}#sk-container-id-1 div.sk-item {position: relative;z-index: 1;}#sk-container-id-1 div.sk-parallel {display: flex;align-items: stretch;justify-content: center;background-color: white;position: relative;}#sk-container-id-1 div.sk-item::before, #sk-container-id-1 div.sk-parallel-item::before {content: \"\";position: absolute;border-left: 1px solid gray;box-sizing: border-box;top: 0;bottom: 0;left: 50%;z-index: -1;}#sk-container-id-1 div.sk-parallel-item {display: flex;flex-direction: column;z-index: 1;position: relative;background-color: white;}#sk-container-id-1 div.sk-parallel-item:first-child::after {align-self: flex-end;width: 50%;}#sk-container-id-1 div.sk-parallel-item:last-child::after {align-self: flex-start;width: 50%;}#sk-container-id-1 div.sk-parallel-item:only-child::after {width: 0;}#sk-container-id-1 div.sk-dashed-wrapped {border: 1px dashed gray;margin: 0 0.4em 0.5em 0.4em;box-sizing: border-box;padding-bottom: 0.4em;background-color: white;}#sk-container-id-1 div.sk-label label {font-family: monospace;font-weight: bold;display: inline-block;line-height: 1.2em;}#sk-container-id-1 div.sk-label-container {text-align: center;}#sk-container-id-1 div.sk-container {/* jupyter's `normalize.less` sets `[hidden] { display: none; }` but bootstrap.min.css set `[hidden] { display: none !important; }` so we also need the `!important` here to be able to override the default hidden behavior on the sphinx rendered scikit-learn.org. See: https://github.com/scikit-learn/scikit-learn/issues/21755 */display: inline-block !important;position: relative;}#sk-container-id-1 div.sk-text-repr-fallback {display: none;}</style><div id=\"sk-container-id-1\" class=\"sk-top-container\"><div class=\"sk-text-repr-fallback\"><pre>KNeighborsRegressor(metric=&#x27;manhattan&#x27;, n_neighbors=3)</pre><b>In a Jupyter environment, please rerun this cell to show the HTML representation or trust the notebook. <br />On GitHub, the HTML representation is unable to render, please try loading this page with nbviewer.org.</b></div><div class=\"sk-container\" hidden><div class=\"sk-item\"><div class=\"sk-estimator sk-toggleable\"><input class=\"sk-toggleable__control sk-hidden--visually\" id=\"sk-estimator-id-1\" type=\"checkbox\" checked><label for=\"sk-estimator-id-1\" class=\"sk-toggleable__label sk-toggleable__label-arrow\">KNeighborsRegressor</label><div class=\"sk-toggleable__content\"><pre>KNeighborsRegressor(metric=&#x27;manhattan&#x27;, n_neighbors=3)</pre></div></div></div></div></div>"
            ]
          },
          "metadata": {},
          "execution_count": 16
        }
      ]
    },
    {
      "cell_type": "code",
      "source": [
        "y_test_pred = op_tuned.predict(x_test_scaled)"
      ],
      "metadata": {
        "id": "shG5qBCtH4o1"
      },
      "execution_count": 17,
      "outputs": []
    },
    {
      "cell_type": "code",
      "source": [
        "test_rmsle = np.round(mean_squared_log_error(y_test, y_test_pred, squared=False), 3)\n",
        "print(f\"RMSLE: {test_rmsle}\")"
      ],
      "metadata": {
        "colab": {
          "base_uri": "https://localhost:8080/"
        },
        "id": "iJW8dYzkIExK",
        "outputId": "4b315f66-7d0a-40aa-dbe3-e00b34508e1c"
      },
      "execution_count": 18,
      "outputs": [
        {
          "output_type": "stream",
          "name": "stdout",
          "text": [
            "RMSLE: 0.469\n"
          ]
        }
      ]
    },
    {
      "cell_type": "code",
      "source": [
        "fig = go.Figure()\n",
        "fig.add_trace(go.Scatter(x=y_test, y=y_test_pred, mode=\"markers\", name=\"predict\",\n",
        "                text=[f\"RMSLE {test_rmsle}\"],textposition=\"top center\"))\n",
        "fig.add_trace(go.Scatter(x=y_test, y=y_test, mode=\"lines\", name=\"real\"))\n",
        "fig.add_annotation(x=10, y=800,\n",
        "            text=f\"RMSLE = {test_rmsle}\",\n",
        "            showarrow=True)\n",
        "fig.update_layout(\n",
        "    autosize=False,\n",
        "    width=600,\n",
        "    height=600,\n",
        ")\n",
        "fig.update_layout(title=dict({\"text\": \"Real & Prediction\"}))\n",
        "fig.update_layout(xaxis=dict({\"title\": \"Real\"}))\n",
        "fig.update_layout(yaxis=dict({\"title\": \"Predict\"}))\n",
        "fig.show()"
      ],
      "metadata": {
        "colab": {
          "base_uri": "https://localhost:8080/",
          "height": 617
        },
        "id": "O3FtiZTPwQAU",
        "outputId": "695840c7-53ce-4003-f064-3e6580850856"
      },
      "execution_count": 19,
      "outputs": [
        {
          "output_type": "display_data",
          "data": {
            "text/html": [
              "<html>\n",
              "<head><meta charset=\"utf-8\" /></head>\n",
              "<body>\n",
              "    <div>            <script src=\"https://cdnjs.cloudflare.com/ajax/libs/mathjax/2.7.5/MathJax.js?config=TeX-AMS-MML_SVG\"></script><script type=\"text/javascript\">if (window.MathJax && window.MathJax.Hub && window.MathJax.Hub.Config) {window.MathJax.Hub.Config({SVG: {font: \"STIX-Web\"}});}</script>                <script type=\"text/javascript\">window.PlotlyConfig = {MathJaxConfig: 'local'};</script>\n",
              "        <script src=\"https://cdn.plot.ly/plotly-2.18.2.min.js\"></script>                <div id=\"c4d917b4-3fa3-4834-8961-acc9d135a42c\" class=\"plotly-graph-div\" style=\"height:600px; width:600px;\"></div>            <script type=\"text/javascript\">                                    window.PLOTLYENV=window.PLOTLYENV || {};                                    if (document.getElementById(\"c4d917b4-3fa3-4834-8961-acc9d135a42c\")) {                    Plotly.newPlot(                        \"c4d917b4-3fa3-4834-8961-acc9d135a42c\",                        [{\"mode\":\"markers\",\"name\":\"predict\",\"text\":[\"RMSLE 0.469\"],\"textposition\":\"top center\",\"x\":[28,20,12,8,5,1,3,10,23,33,59,72,89,101,118,129,128,83,84,74,41,57,26,44,39,23,16,15,1,2,1,3,18,32,79,93,104,118,91,113,99,105,67,61,57,28,21,18,17,16,8,2,3,1,5,13,33,47,57,64,80,93,86,93,82,71,92,60,33,27,13,4,3,22,28,35,61,125,133,99,83,41,33,20,3,7,3,2,7,32,90,197,109,47,52,70,78,75,82,104,197,161,112,76,59,59,28,19,5,3,1,4,30,105,223,110,52,57,71,82,79,85,98,206,212,145,101,66,41,20,15,9,1,1,5,33,108,230,124,69,66,86,93,82,117,122,255,222,161,118,92,73,33,17,6,6,4,4,12,47,126,285,179,88,90,101,123,81,106,146,274,222,175,139,124,76,44,32,8,7,8,1,7,50,116,272,169,95,113,185,176,191,172,232,327,224,162,124,72,107,77,29,31,17,7,3,3,6,22,45,55,106,123,119,155,196,171,120,127,88,59,47,33,44,29,14,10,3,2,11,35,119,282,157,78,78,102,97,88,90,114,217,225,152,88,55,21,18,8,3,3,1,3,31,111,253,154,68,75,88,99,100,101,151,253,237,168,121,78,59,27,23,12,8,2,3,13,51,140,299,185,78,86,105,111,119,125,142,313,310,207,137,138,87,50,29,16,14,5,10,36,123,280,210,117,159,195,175,174,173,204,332,331,190,149,113,118,86,76,51,25,8,3,2,10,13,48,76,140,196,267,301,312,313,304,278,217,154,108,93,72,50,27,15,18,3,3,13,47,149,300,178,122,136,200,180,163,162,243,331,263,209,118,102,80,64,43,33,24,14,5,4,10,21,45,29,22,31,32,58,63,78,33,15,38,71,53,14,24,35,33,31,29,25,7,3,8,16,43,102,211,304,354,343,361,388,343,306,277,210,141,83,70,56,39,19,16,7,6,16,54,168,297,169,109,123,184,169,144,176,205,428,362,286,165,151,90,46,25,7,13,3,5,18,65,188,351,162,75,72,103,129,107,127,192,411,421,276,168,122,112,52,39,47,50,32,13,14,17,42,70,134,226,322,367,456,437,459,440,392,237,231,191,151,117,69,38,14,13,4,6,21,104,272,394,194,112,185,209,214,193,165,226,274,453,308,198,177,127,57,31,13,8,4,4,22,49,151,347,207,104,130,153,172,184,210,290,604,480,349,283,174,98,56,23,12,6,9,3,9,101,274,453,202,106,23,54,122,138,167,294,565,489,331,213,85,117,59,29,6,15,4,5,26,103,257,487,216,130,164,168,183,180,188,302,547,513,410,282,209,79,72,52,14,9,1,4,21,121,370,498,207,135,164,211,189,178,164,312,638,607,416,330,257,175,107,47,17,5,4,6,25,112,188,388,261,121,150,206,151,153,159,294,272,325,327,201,188,151,16,24,23,13,6,6,13,97,250,454,224,170,181,243,204,215,243,355,552,450,328,232,208,175,178,104,95,53,20,5,7,27,57,131,218,244,404,420,327,334,367,468,449,381,326,188,183,161,150,89,76,72,30,17,19,33,71,84,169,244,377,396,363,317,362,378,397,296,311,232,167,152,92,80,20,38,7,10,23,120,274,564,207,166,210,238,247,265,237,361,587,496,394,343,261,223,167,110,75,58,26,16,10,37,52,127,222,322,396,463,497,433,428,425,475,428,406,296,252,201,168,125,102,94,47,10,12,21,50,118,184,304,391,420,472,430,324,317,369,390,379,262,207,181,93,51,25,10,7,4,17,105,277,347,203,130,141,165,152,138,164,265,545,558,398,323,202,140,91,51,13,13,3,5,19,134,315,412,199,141,127,153,172,152,158,277,513,530,388,277,241,156,92,25,10,3,7,5,17,90,258,355,222,141,153,178,193,151,182,283,530,483,397,285,184,98,88,31,16,4,6,5,30,119,346,441,198,111,150,162,192,182,159,303,600,570,376,280,215,152,77,24,14,6,5,5,28,105,308,487,209,118,128,189,176,192,159,300,552,556,347,280,230,171,105,56,24,6,6,9,27,103,308,420,228,129,141,173,187,182,174,245,409,274,141,165,149,135,114,62,20,8,3,8,17,93,263,398,218,165,165,222,232,220,222,327,527,425,165,58,107,122,106,37,20,5,8,7,31,124,338,391,209,121,159,179,189,170,135,222,261,244,232,248,145,115,69,48,26,10,6,4,32,93,299,409,210,140,179,251,223,225,203,358,566,482,315,225,163,167,126,108,80,79,28,5,5,22,37,108,177,249,367,372,349,297,354,305,359,329,256,176,170,143,136,112,79,89,36,1,6,12,44,69,140,260,317,364,376,311,365,369,325,289,245,180,147,84,54,37,10,13,5,8,28,113,332,420,215,105,139,189,177,188,187,263,568,540,374,231,200,129,68,106,73,56,23,6,7,20,57,125,207,322,374,456,394,472,377,443,441,372,238,179,168,166,135,107,77,65,42,12,7,10,48,99,190,347,377,444,438,462,412,466,405,328,233,178,102,130,62,37,17,7,2,5,29,114,309,414,206,135,166,205,205,166,208,302,620,518,333,229,177,104,62,31,11,5,1,4,21,109,341,499,227,102,147,201,219,169,205,304,625,570,317,227,206,137,70,34,16,7,3,3,31,68,210,202,123,149,130,106,97,120,201,181,140,197,145,85,107,69,22,10,15,4,7,28,108,319,480,200,138,134,176,153,147,191,271,451,441,286,238,168,128,80,31,5,10,5,4,13,56,137,232,82,36,60,54,58,61,66,123,233,189,111,99,75,46,31,24,5,5,3,4,22,75,168,355,198,81,97,121,124,110,116,195,399,307,217,169,116,84,58,30,10,10,2,5,22,71,216,375,213,115,140,165,177,154,178,209,378,328,190,137,111,97,59,53,35,46,15,8,2,12,41,92,142,200,233,311,363,349,382,287,232,208,182,163,108,106,93,50,20,7,3,6,24,92,258,457,280,109,135,157,164,132,82,131,324,377,287,221,155,124,114,72,31,23,5,5,26,82,231,459,243,132,144,173,137,128,153,224,365,295,214,152,102,106,75,62,43,58,26,9,9,17,20,59,100,181,209,244,236,237,228,222,165,157,106,106,96,80,69,71,46,41,18,1,5,3,12,32,81,129,188,228,228,219,207,234,136,138,135,104,89,49,37,17,11,3,3,4,21,68,191,397,183,108,127,141,142,137,159,208,378,354,251,206,127,107,60,59,42,43,25,6,5,8,17,36,90,126,165,234,224,188,206,205,146,120,110,95,72,60,29,25,20,17,3,8,6,13,33,78,96,126,179,185,228,181,192,180,193,181,144,90,49,43,28,12,2,12,2,13,57,126,93,68,62,75,86,103,132,129,219,462,463,308,180,180,90,61,17,10,2,4,1,29,88,263,489,202,93,114,161,130,105,130,176,346,355,256,165,124,78,38,16,5,3,4,1,19,86,206,423,210,108,99,111,124,119,127,193,385,361,234,191,121,90,56,22,5,4,3,1,25,95,321,515,231,120,138,163,170,134,171,231,487,468,311,211,178,107,58,23,5,7,1,3,20,87,288,498,202,44,71,45,64,31,53,118,289,353,258,216,145,111,73,34,18,12,1,1,16,71,226,520,283,116,142,198,205,170,221,307,465,377,282,171,129,107,82,86,45,45,18,7,1,9,41,102,138,205,286,369,384,427,499,404,364,246,188,148,114,118,74,74,72,48,15,3,2,5,14,56,93,191,226,255,261,237,253,212,157,167,119,103,36,55,35,60,23,19,7,14,26,117,381,623,315,164,211,265,273,258,287,426,713,746,425,330,243,169,97,57,26,4,3,3,32,99,278,562,312,180,207,294,260,202,107,129,258,408,296,235,152,148,126,100,69,42,26,2,8,30,86,218,321,443,585,651,686,690,679,685,648,560,417,271,223,211,185,107,113,56,18,14,6,11,42,96,178,351,368,503,544,521,554,541,541,459,352,198,173,100,46,23,15,8,2,3,31,120,354,579,331,184,201,282,263,260,286,385,721,801,549,330,223,148,54,124,106,74,45,12,10,16,46,97,251,421,528,635,681,628,617,616,623,479,379,291,229,134,90,41,28,14,8,6,38,133,387,597,297,224,251,271,263,288,275,358,712,676,522,375,271,214,121,43,11,4,6,9,30,144,461,673,400,217,239,244,239,257,308,370,781,775,537,402,297,162,82,38,14,9,6,7,34,134,418,576,265,147,119,110,64,51,98,235,488,505,368,260,189,162,70,25,13,6,4,4,30,120,406,677,301,189,229,264,238,237,262,387,748,776,586,404,267,248,144,32,19,4,6,5,8,24,92,409,355,171,224,264,239,184,256,374,678,733,512,263,109,83,71,39,21,19,6,4,38,158,440,650,347,192,267,330,350,263,274,446,873,846,590,459,393,286,133,79,28,16,3,16,35,159,474,634,346,205,279,348,327,270,316,430,852,868,537,446,299,251,166,70,49,21,14,11,34,182,515,745,361,255,334,360,395,350,391,568,812,669,483,337,258,251,174,148,104,69,33,14,12,50,95,195,292,452,586,642,704,730,672,642,626,645,432,315,259,338,239,94,51,15,5,14,33,151,430,653,366,216,286,403,393,376,377,558,823,693,467,385,333,321,222,137,95,67,27,8,23,47,78,204,367,435,566,603,617,573,583,542,593,571,461,352,290,280,183,148,88,74,28,18,17,23,48,119,274,436,546,615,614,582,463,580,593,513,390,302,246,153,108,40,14,9,4,9,23,37,145,474,250,91,121,168,225,219,237,332,723,642,463,362,273,164,74,35,14,15,8,10,37,161,480,673,328,180,230,292,272,227,259,334,811,795,514,458,276,291,125,187,168,115,57,19,9,15,47,133,221,382,451,489,480,476,489,495,436,312,312,294,223,130,91,43,11,15,6,12,50,140,483,667,348,186,182,237,239,212,237,386,755,794,595,454,328,284,166,53,25,7,3,7,38,213,526,661,320,159,206,254,221,214,244,381,770,772,547,427,333,244,161,53,16,8,4,6,46,162,495,679,297,138,183,202,203,170,194,224,370,643,516,366,319,288,131,66,25,7,5,8,40,152,473,657,318,198,216,274,254,197,292,358,771,777,533,505,332,68,65,60,37,8,11,4,39,172,492,682,367,233,235,307,294,255,266,431,851,848,649,427,315,226,138,76,21,15,4,5,37,165,464,682,337,199,274,343,300,248,260,419,897,832,677,514,356,254,226,88,54,19,6,9,36,157,379,668,378,231,303,365,357,328,383,488,791,669,491,359,255,213,121,105,92,43,30,13,9,27,64,189,292,480,536,654,644,598,596,641,635,554,488,341,338,261,235,187,131,119,55,26,11,20,41,124,270,425,272,298,162,149,276,356,343,377,341,274,190,56,46,207,109,93,37,6,16,33,73,212,342,442,627,706,704,715,654,783,729,614,478,330,296,279,229,151,117,89,48,8,13,35,71,128,296,490,559,656,694,635,557,596,570,481,403,324,191,127,94,45,21,13,7,11,45,164,492,683,299,202,252,295,343,332,338,453,842,774,486,340,233,129,70,13,5,4,6,7,48,167,356,672,293,160,151,88,114,143,36,141,338,281,324,290,207,151,78,26,12,3,5,10,56,172,545,797,362,192,247,313,289,286,311,466,886,892,611,409,349,229,123,48,29,6,4,10,40,147,476,737,359,168,263,284,146,185,260,447,766,592,239,256,206,126,81,48,13,3,2,7,52,172,525,835,355,222,228,325,328,308,346,446,943,838,531,432,195,181,199,49,17,16,7,4,41,178,464,817,382,228,234,332,310,270,301,466,888,884,516,414,329,215,99,57,14,14,5,5,42,153,508,834,387,218,268,377,332,285,353,450,890,788,513,387,283,229,117,56,16,10,5,6,36,131,154,467,389,224,252,332,375,365,395,565,425,233,232,229,206,190,131,34,16,7,2,5,37,147,410,646,323,153,166,213,217,201,217,342,563,573,386,285,224,153,125,65,21,9,6,5,36,130,367,711,351,198,218,290,278,251,267,383,580,505,332,227,178,162,128,106,87,49,21,7,11,21,78,168,248,320,423,476,525,555,549,469,403,271,253,172,139,145,133,129,95,73,46,12,12,15,42,119,204,329,359,442,447,428,407,372,280,276,210,129,110,74,59,27,19,5,2,12,39,131,386,663,278,139,197,242,251,217,257,380,619,580,406,259,203,113,74,94,95,69,23,6,3,11,48,119,220,273,393,453,456,426,447,413,309,272,257,201,184,156,119,110,96,87,38,11,9,6,27,88,132,257,295,417,356,310,338,400,243,107,109,122,106,89,33,28,15,5,3,5,24,108,319,592,282,135,170,232,210,181,211,302,495,507,340,200,120,54,47,18,15,7,5,8,36,118,355,662,326,184,269,313,286,247,246,363,572,525,353,268,168,132,81,41,15,3,5,7,31,112,363,678,317,164,200,236,213,218,237,334,562,569,336,241,168,129,88],\"y\":[46.333333333333336,35.333333333333336,30.666666666666668,17.666666666666668,4.666666666666667,4.666666666666667,4.666666666666667,15.666666666666666,54.666666666666664,75.0,129.33333333333334,186.0,226.33333333333334,255.66666666666666,279.3333333333333,261.6666666666667,233.33333333333334,177.66666666666666,165.0,115.66666666666667,103.0,81.0,67.66666666666667,72.33333333333333,54.666666666666664,59.0,51.0,29.333333333333332,5.0,2.6666666666666665,1.6666666666666667,10.333333333333334,27.0,61.333333333333336,109.0,147.66666666666666,211.66666666666666,213.66666666666666,222.33333333333334,225.66666666666666,204.0,115.33333333333333,124.0,61.0,62.0,47.333333333333336,27.333333333333332,14.666666666666666,48.0,39.0,37.333333333333336,35.333333333333336,36.333333333333336,21.333333333333332,47.0,98.33333333333333,220.33333333333334,67.0,59.666666666666664,97.66666666666667,119.0,103.33333333333333,79.0,84.0,86.33333333333333,162.66666666666666,77.0,126.0,115.66666666666667,80.33333333333333,58.333333333333336,21.0,91.66666666666667,80.0,60.0,63.666666666666664,92.33333333333333,209.66666666666666,220.66666666666666,167.0,128.66666666666666,71.66666666666667,70.33333333333333,34.666666666666664,13.666666666666666,5.333333333333333,3.3333333333333335,1.6666666666666667,13.333333333333334,56.333333333333336,177.33333333333334,366.0,181.0,73.0,88.0,94.33333333333333,108.0,60.333333333333336,58.666666666666664,132.33333333333334,203.33333333333334,242.33333333333334,140.33333333333334,89.33333333333333,67.33333333333333,42.333333333333336,19.0,24.333333333333332,8.666666666666666,2.6666666666666665,2.3333333333333335,6.333333333333333,59.333333333333336,162.0,320.0,184.66666666666666,72.0,97.0,136.33333333333334,165.66666666666666,108.66666666666667,90.33333333333333,208.33333333333334,402.6666666666667,362.3333333333333,234.0,150.66666666666666,117.66666666666667,74.66666666666667,64.0,23.666666666666668,7.0,2.0,1.3333333333333333,15.0,59.666666666666664,220.0,406.6666666666667,169.66666666666666,81.33333333333333,116.0,156.33333333333334,110.0,104.33333333333333,111.33333333333333,168.0,298.3333333333333,381.6666666666667,254.66666666666666,180.0,147.66666666666666,99.33333333333333,63.333333333333336,22.0,12.333333333333334,4.333333333333333,2.3333333333333335,1.6666666666666667,13.333333333333334,67.66666666666667,151.0,283.3333333333333,164.33333333333334,61.333333333333336,85.33333333333333,98.66666666666667,89.0,79.66666666666667,81.33333333333333,129.0,246.33333333333334,411.0,239.33333333333334,173.66666666666666,126.33333333333333,67.0,44.333333333333336,31.666666666666668,14.0,8.333333333333334,4.0,2.0,9.333333333333334,60.0,245.66666666666666,292.3333333333333,224.33333333333334,73.0,97.33333333333333,124.33333333333333,130.0,148.66666666666666,161.33333333333334,234.66666666666666,407.3333333333333,361.6666666666667,231.66666666666666,163.33333333333334,74.66666666666667,100.66666666666667,63.666666666666664,64.33333333333333,37.0,26.333333333333332,14.666666666666666,4.0,2.6666666666666665,3.0,62.666666666666664,85.66666666666667,87.66666666666667,137.66666666666666,165.33333333333334,137.33333333333334,142.33333333333334,108.66666666666667,170.33333333333334,184.33333333333334,116.33333333333333,85.0,63.0,57.333333333333336,51.666666666666664,45.333333333333336,40.333333333333336,8.333333333333334,4.333333333333333,3.0,2.0,12.333333333333334,64.33333333333333,170.0,450.3333333333333,193.66666666666666,94.0,88.0,98.66666666666667,150.33333333333334,137.66666666666666,118.66666666666667,157.0,307.3333333333333,289.3333333333333,180.0,120.66666666666667,104.0,69.33333333333333,37.333333333333336,9.0,5.0,3.6666666666666665,2.6666666666666665,13.333333333333334,93.0,206.33333333333334,389.0,252.0,130.66666666666666,127.33333333333333,149.0,107.33333333333333,150.33333333333334,80.66666666666667,114.33333333333333,230.0,362.3333333333333,313.6666666666667,148.66666666666666,101.0,136.33333333333334,58.333333333333336,24.666666666666668,8.666666666666666,6.666666666666667,2.3333333333333335,2.6666666666666665,18.333333333333332,58.666666666666664,249.66666666666666,466.3333333333333,244.0,109.0,97.0,171.0,174.66666666666666,122.66666666666667,158.66666666666666,214.0,466.3333333333333,609.0,180.33333333333334,194.66666666666666,160.33333333333334,110.66666666666667,67.0,34.666666666666664,9.666666666666666,3.3333333333333335,3.6666666666666665,12.666666666666666,69.66666666666667,153.0,345.3333333333333,206.66666666666666,92.0,121.33333333333333,187.66666666666666,138.66666666666666,159.33333333333334,89.66666666666667,274.0,463.0,452.3333333333333,156.33333333333334,195.33333333333334,224.33333333333334,71.66666666666667,35.333333333333336,43.333333333333336,31.333333333333332,47.333333333333336,13.0,2.3333333333333335,5.0,6.666666666666667,24.333333333333332,66.0,97.66666666666667,148.0,191.33333333333334,227.0,284.3333333333333,325.0,329.0,367.0,317.3333333333333,248.33333333333334,173.66666666666666,118.66666666666667,115.33333333333333,99.0,79.33333333333333,60.666666666666664,26.333333333333332,9.666666666666666,8.333333333333334,4.666666666666667,15.333333333333334,66.33333333333333,221.0,443.0,293.0,168.33333333333334,204.33333333333334,251.33333333333334,293.0,308.3333333333333,333.3333333333333,388.6666666666667,390.6666666666667,465.3333333333333,325.0,81.0,82.0,62.0,95.33333333333333,43.333333333333336,39.666666666666664,31.333333333333332,19.0,8.0,5.666666666666667,15.333333333333334,34.333333333333336,89.66666666666667,150.0,231.0,278.3333333333333,340.6666666666667,202.33333333333334,354.0,473.3333333333333,464.3333333333333,336.0,279.0,245.66666666666666,109.66666666666667,124.0,60.333333333333336,102.0,53.0,53.333333333333336,45.666666666666664,20.666666666666668,7.333333333333333,11.666666666666666,52.666666666666664,51.333333333333336,89.66666666666667,199.0,292.3333333333333,380.6666666666667,453.3333333333333,371.0,377.6666666666667,452.0,430.0,511.0,327.3333333333333,251.0,178.33333333333334,90.0,70.33333333333333,38.0,22.0,10.333333333333334,5.666666666666667,2.3333333333333335,2.3333333333333335,14.666666666666666,89.0,276.6666666666667,603.3333333333334,228.66666666666666,117.66666666666667,116.66666666666667,189.33333333333334,185.0,175.33333333333334,244.33333333333334,340.3333333333333,604.3333333333334,549.0,399.6666666666667,257.0,166.0,99.33333333333333,60.333333333333336,27.0,9.666666666666666,4.0,2.0,3.0,22.333333333333332,66.33333333333333,229.66666666666666,660.0,139.66666666666666,116.66666666666667,71.33333333333333,153.66666666666666,74.33333333333333,114.66666666666667,158.33333333333334,325.6666666666667,591.3333333333334,576.0,282.6666666666667,191.0,145.0,110.33333333333333,55.666666666666664,110.0,93.0,75.0,26.333333333333332,12.0,11.0,13.333333333333334,38.666666666666664,86.33333333333333,191.0,309.0,364.0,490.3333333333333,441.3333333333333,478.6666666666667,476.0,387.6666666666667,341.6666666666667,296.6666666666667,266.6666666666667,190.33333333333334,145.0,124.0,99.33333333333333,88.0,52.0,5.333333333333333,9.333333333333334,7.666666666666667,24.0,97.66666666666667,277.0,461.3333333333333,233.33333333333334,154.33333333333334,132.0,215.0,179.0,173.33333333333334,177.66666666666666,256.3333333333333,454.6666666666667,405.3333333333333,478.0,250.33333333333334,180.0,123.33333333333333,66.66666666666667,29.666666666666668,12.0,5.666666666666667,3.3333333333333335,4.666666666666667,14.333333333333334,66.66666666666667,249.33333333333334,552.3333333333334,276.6666666666667,119.33333333333333,195.33333333333334,217.0,215.0,147.33333333333334,139.0,317.3333333333333,603.0,612.3333333333334,428.6666666666667,305.3333333333333,236.0,130.66666666666666,80.33333333333333,29.666666666666668,16.0,7.0,2.0,4.333333333333333,27.0,120.0,364.6666666666667,576.6666666666666,117.66666666666667,81.0,175.33333333333334,198.33333333333334,212.33333333333334,218.66666666666666,188.0,283.6666666666667,466.0,494.3333333333333,302.0,220.66666666666666,207.66666666666666,136.0,131.33333333333334,53.666666666666664,17.0,7.666666666666667,4.0,5.0,27.666666666666668,119.0,355.3333333333333,491.3333333333333,277.0,163.33333333333334,335.6666666666667,251.0,234.0,155.33333333333334,233.66666666666666,353.3333333333333,656.3333333333334,584.3333333333334,478.6666666666667,356.6666666666667,250.66666666666666,128.66666666666666,123.66666666666667,41.333333333333336,24.0,6.0,7.333333333333333,8.666666666666666,33.0,160.66666666666666,468.3333333333333,616.3333333333334,280.6666666666667,141.0,171.0,211.0,197.66666666666666,200.66666666666666,193.33333333333334,317.0,572.0,586.3333333333334,531.0,378.6666666666667,294.6666666666667,205.0,115.0,49.666666666666664,19.666666666666668,9.0,4.0,6.0,35.0,164.0,381.0,610.6666666666666,303.6666666666667,161.0,233.33333333333334,236.0,265.0,249.33333333333334,231.66666666666666,375.3333333333333,805.6666666666666,700.6666666666666,520.0,416.6666666666667,197.66666666666666,140.0,111.33333333333333,77.0,28.333333333333332,16.0,6.333333333333333,6.666666666666667,28.333333333333332,116.33333333333333,324.0,632.0,275.0,173.66666666666666,203.0,278.3333333333333,326.6666666666667,259.3333333333333,273.6666666666667,385.6666666666667,512.3333333333334,538.3333333333334,247.33333333333334,317.0,268.0,215.66666666666666,177.33333333333334,138.66666666666666,98.0,69.33333333333333,24.0,12.0,14.333333333333334,49.333333333333336,80.33333333333333,193.0,300.6666666666667,407.6666666666667,421.0,432.6666666666667,507.3333333333333,492.6666666666667,493.3333333333333,492.6666666666667,422.3333333333333,359.3333333333333,367.6666666666667,292.3333333333333,240.33333333333334,210.66666666666666,170.33333333333334,146.66666666666666,101.66666666666667,76.0,42.0,12.0,10.333333333333334,19.0,41.0,137.66666666666666,204.0,325.0,400.3333333333333,419.0,410.6666666666667,400.0,473.6666666666667,433.3333333333333,496.3333333333333,301.6666666666667,344.3333333333333,282.6666666666667,186.0,139.0,101.0,72.33333333333333,31.333333333333332,17.333333333333332,8.0,7.666666666666667,30.666666666666668,112.33333333333333,288.6666666666667,511.3333333333333,326.0,200.33333333333334,245.0,324.3333333333333,271.3333333333333,252.0,339.6666666666667,429.3333333333333,624.0,537.6666666666666,408.0,302.6666666666667,272.3333333333333,257.6666666666667,172.0,128.66666666666666,67.33333333333333,55.0,29.0,11.0,11.0,33.666666666666664,63.333333333333336,161.66666666666666,227.33333333333334,286.6666666666667,338.0,360.6666666666667,395.6666666666667,465.6666666666667,431.0,369.3333333333333,343.0,370.6666666666667,299.3333333333333,291.3333333333333,246.33333333333334,219.66666666666666,147.33333333333334,148.33333333333334,110.0,85.0,31.0,7.333333333333333,11.0,24.333333333333332,55.666666666666664,108.66666666666667,197.33333333333334,299.3333333333333,355.3333333333333,404.6666666666667,375.0,389.3333333333333,360.6666666666667,366.3333333333333,348.6666666666667,328.6666666666667,311.6666666666667,295.0,230.66666666666666,152.0,114.0,32.0,14.0,8.333333333333334,7.666666666666667,4.666666666666667,32.666666666666664,147.33333333333334,315.0,481.0,288.6666666666667,160.33333333333334,181.66666666666666,223.66666666666666,210.66666666666666,202.0,220.0,339.0,703.3333333333334,691.3333333333334,528.3333333333334,359.3333333333333,239.66666666666666,144.33333333333334,96.0,48.0,22.666666666666668,12.666666666666666,4.333333333333333,5.0,29.0,145.0,373.3333333333333,499.3333333333333,276.6666666666667,150.66666666666666,182.0,212.0,206.33333333333334,181.33333333333334,191.66666666666666,306.0,615.0,523.3333333333334,366.3333333333333,311.3333333333333,233.0,175.33333333333334,115.66666666666667,36.666666666666664,13.333333333333334,7.0,3.6666666666666665,8.333333333333334,29.0,118.0,328.3333333333333,445.3333333333333,178.66666666666666,144.66666666666666,185.33333333333334,208.66666666666666,231.33333333333334,228.33333333333334,224.66666666666666,399.0,619.6666666666666,732.6666666666666,537.0,398.0,275.6666666666667,178.66666666666666,112.33333333333333,41.333333333333336,19.0,11.0,4.666666666666667,8.666666666666666,29.0,132.33333333333334,393.3333333333333,392.0,238.33333333333334,164.0,157.66666666666666,214.0,221.33333333333334,187.33333333333334,205.0,339.0,532.0,665.0,484.0,338.0,264.0,189.33333333333334,126.66666666666667,47.333333333333336,24.333333333333332,10.0,6.0,5.333333333333333,35.0,162.33333333333334,409.3333333333333,505.6666666666667,241.66666666666666,187.66666666666666,168.33333333333334,235.33333333333334,205.0,225.66666666666666,255.66666666666666,400.6666666666667,759.6666666666666,629.0,583.6666666666666,441.6666666666667,303.3333333333333,220.0,132.0,58.666666666666664,29.0,12.0,7.0,8.0,30.333333333333332,123.33333333333333,354.0,609.0,294.3333333333333,150.0,224.33333333333334,259.0,269.3333333333333,213.0,204.33333333333334,371.0,752.3333333333334,823.0,532.0,397.6666666666667,288.0,231.66666666666666,155.0,70.0,34.333333333333336,17.666666666666668,7.0,8.0,26.333333333333332,113.33333333333333,290.0,630.3333333333334,275.6666666666667,162.0,208.0,312.6666666666667,279.6666666666667,246.0,279.6666666666667,377.0,598.6666666666666,523.6666666666666,444.3333333333333,249.33333333333334,228.33333333333334,202.66666666666666,130.33333333333334,57.666666666666664,24.333333333333332,14.0,11.333333333333334,7.0,34.666666666666664,125.66666666666667,465.0,554.6666666666666,153.66666666666666,125.0,181.33333333333334,156.0,178.66666666666666,178.0,251.66666666666666,293.3333333333333,516.3333333333334,585.0,558.3333333333334,383.0,255.33333333333334,215.66666666666666,155.0,82.33333333333333,29.333333333333332,16.333333333333332,11.666666666666666,8.0,33.666666666666664,122.66666666666667,397.3333333333333,647.0,350.6666666666667,138.33333333333334,181.33333333333334,248.0,302.0,302.3333333333333,348.0,409.6666666666667,707.0,524.3333333333334,405.0,270.0,217.66666666666666,229.33333333333334,197.0,144.66666666666666,78.66666666666667,70.0,35.666666666666664,8.666666666666666,14.0,21.0,52.0,170.33333333333334,215.0,385.6666666666667,348.6666666666667,377.3333333333333,409.0,417.6666666666667,477.0,306.3333333333333,334.0,380.3333333333333,314.3333333333333,219.33333333333334,191.66666666666666,177.0,133.66666666666666,113.66666666666667,90.66666666666667,80.0,43.666666666666664,13.666666666666666,33.333333333333336,19.333333333333332,47.333333333333336,111.33333333333333,238.33333333333334,375.3333333333333,441.3333333333333,534.3333333333334,499.3333333333333,361.0,389.6666666666667,431.3333333333333,419.6666666666667,398.3333333333333,317.6666666666667,174.66666666666666,178.66666666666666,146.33333333333334,80.33333333333333,23.333333333333332,16.0,8.333333333333334,10.0,5.666666666666667,28.0,166.66666666666666,310.3333333333333,634.6666666666666,294.6666666666667,159.66666666666666,206.0,274.0,255.0,270.6666666666667,301.3333333333333,389.0,638.6666666666666,631.3333333333334,483.3333333333333,259.3333333333333,231.0,152.0,79.66666666666667,176.33333333333334,115.0,69.66666666666667,32.0,10.666666666666666,9.666666666666666,23.0,75.66666666666667,161.0,292.6666666666667,407.6666666666667,523.6666666666666,587.3333333333334,621.6666666666666,546.0,577.0,582.3333333333334,510.3333333333333,442.3333333333333,307.0,234.66666666666666,202.0,174.33333333333334,148.66666666666666,122.33333333333333,99.66666666666667,65.0,26.666666666666668,12.333333333333334,11.0,20.0,41.333333333333336,101.0,174.33333333333334,326.0,403.0,446.0,569.0,571.3333333333334,531.6666666666666,570.0,529.0,454.0,326.3333333333333,185.0,152.33333333333334,97.66666666666667,76.0,33.666666666666664,15.333333333333334,11.0,5.666666666666667,7.666666666666667,27.0,142.66666666666666,361.3333333333333,623.0,291.6666666666667,185.0,222.33333333333334,291.6666666666667,264.3333333333333,232.66666666666666,235.0,363.6666666666667,639.6666666666666,604.3333333333334,391.3333333333333,292.6666666666667,185.66666666666666,130.33333333333334,85.66666666666667,29.333333333333332,10.333333333333334,3.3333333333333335,4.666666666666667,7.333333333333333,27.333333333333332,117.33333333333333,341.0,506.3333333333333,268.0,146.33333333333334,146.66666666666666,181.66666666666666,190.66666666666666,223.66666666666666,207.66666666666666,375.3333333333333,653.0,615.6666666666666,400.6666666666667,285.0,188.66666666666666,183.0,79.66666666666667,33.666666666666664,12.666666666666666,6.333333333333333,6.666666666666667,37.666666666666664,128.33333333333334,236.0,570.0,167.33333333333334,123.66666666666667,102.0,175.66666666666666,178.0,137.33333333333334,118.33333333333333,153.33333333333334,481.6666666666667,375.6666666666667,381.6666666666667,214.0,164.33333333333334,194.66666666666666,108.0,20.0,10.0,2.3333333333333335,7.0,6.333333333333333,18.0,113.66666666666667,321.3333333333333,491.0,258.6666666666667,125.0,139.66666666666666,209.0,193.66666666666666,171.33333333333334,196.0,329.6666666666667,544.0,506.0,312.6666666666667,206.0,153.33333333333334,119.0,108.33333333333333,105.0,10.0,27.0,7.666666666666667,6.333333333333333,19.333333333333332,94.0,199.0,338.0,259.3333333333333,90.33333333333333,115.33333333333333,164.66666666666666,120.33333333333333,170.66666666666666,93.0,123.33333333333333,518.3333333333334,331.6666666666667,301.6666666666667,219.0,151.66666666666666,93.33333333333333,54.333333333333336,26.0,18.666666666666668,6.0,10.333333333333334,9.666666666666666,34.333333333333336,123.66666666666667,316.6666666666667,519.6666666666666,216.66666666666666,129.33333333333334,132.66666666666666,186.0,215.0,176.0,251.0,342.3333333333333,566.0,539.3333333333334,359.0,250.0,171.0,150.66666666666666,100.66666666666667,41.333333333333336,18.666666666666668,7.666666666666667,5.666666666666667,9.0,31.0,134.0,361.6666666666667,656.0,357.3333333333333,181.0,229.33333333333334,264.6666666666667,262.3333333333333,218.66666666666666,259.6666666666667,381.6666666666667,590.6666666666666,464.0,310.3333333333333,227.33333333333334,159.33333333333334,142.33333333333334,123.33333333333333,98.0,64.0,40.333333333333336,15.0,7.0,5.333333333333333,15.333333333333334,44.0,110.33333333333333,186.66666666666666,262.3333333333333,339.6666666666667,448.0,453.0,482.6666666666667,432.0,433.6666666666667,373.3333333333333,266.3333333333333,242.0,179.33333333333334,135.33333333333334,152.33333333333334,131.66666666666666,32.0,20.333333333333332,7.666666666666667,3.6666666666666665,3.6666666666666665,29.666666666666668,94.0,301.6666666666667,528.3333333333334,258.0,123.33333333333333,127.0,176.66666666666666,183.0,185.66666666666666,100.33333333333333,106.66666666666667,531.6666666666666,482.3333333333333,317.6666666666667,202.0,171.33333333333334,124.33333333333333,75.66666666666667,44.333333333333336,18.333333333333332,10.333333333333334,6.333333333333333,9.333333333333334,25.666666666666668,110.0,292.0,488.6666666666667,284.3333333333333,154.0,183.33333333333334,228.66666666666666,233.66666666666666,233.66666666666666,267.0,314.3333333333333,583.6666666666666,497.6666666666667,312.0,195.33333333333334,151.33333333333334,135.0,117.0,85.66666666666667,79.0,60.0,16.333333333333332,5.333333333333333,6.0,14.0,37.666666666666664,109.33333333333333,170.66666666666666,245.0,344.0,405.0,449.3333333333333,392.6666666666667,392.3333333333333,351.0,254.0,233.33333333333334,150.33333333333334,149.66666666666666,116.66666666666667,123.0,92.33333333333333,91.33333333333333,76.66666666666667,54.666666666666664,23.0,8.0,5.333333333333333,10.0,22.666666666666668,73.33333333333333,135.0,200.66666666666666,286.3333333333333,379.0,352.0,346.0,326.3333333333333,326.3333333333333,197.66666666666666,168.66666666666666,151.0,107.66666666666667,77.0,67.66666666666667,43.666666666666664,27.333333333333332,11.333333333333334,7.333333333333333,4.0,5.0,28.0,97.33333333333333,275.3333333333333,506.6666666666667,290.3333333333333,128.66666666666666,161.33333333333334,189.66666666666666,203.66666666666666,169.33333333333334,236.33333333333334,299.0,517.3333333333334,482.6666666666667,340.0,208.66666666666666,204.0,125.33333333333333,77.0,54.666666666666664,33.666666666666664,29.0,14.0,3.3333333333333335,2.6666666666666665,1.6666666666666667,12.333333333333334,27.0,61.333333333333336,109.0,147.66666666666666,211.66666666666666,213.66666666666666,222.33333333333334,225.66666666666666,207.0,115.33333333333333,124.0,61.0,62.0,47.333333333333336,27.333333333333332,14.666666666666666,19.666666666666668,6.0,5.0,24.0,3.6666666666666665,3.3333333333333335,25.0,52.333333333333336,80.33333333333333,63.333333333333336,59.666666666666664,86.66666666666667,89.0,98.66666666666667,80.66666666666667,84.66666666666667,81.33333333333333,104.66666666666667,95.0,64.0,71.33333333333333,24.666666666666668,55.666666666666664,21.0,23.0,4.666666666666667,3.0,3.3333333333333335,13.0,70.0,162.0,334.6666666666667,149.33333333333334,59.666666666666664,84.33333333333333,113.66666666666667,109.0,82.66666666666667,92.66666666666667,153.0,305.6666666666667,263.6666666666667,183.0,123.0,77.33333333333333,60.666666666666664,23.333333333333332,19.333333333333332,8.333333333333334,1.6666666666666667,2.6666666666666665,2.0,13.0,55.333333333333336,98.0,212.66666666666666,125.33333333333333,53.333333333333336,44.0,96.0,67.66666666666667,49.333333333333336,83.0,130.0,220.33333333333334,150.0,140.33333333333334,89.33333333333333,67.33333333333333,42.333333333333336,23.666666666666668,10.666666666666666,3.6666666666666665,2.6666666666666665,2.6666666666666665,3.3333333333333335,6.0,47.333333333333336,127.33333333333333,309.6666666666667,163.66666666666666,73.66666666666667,93.66666666666667,85.33333333333333,89.33333333333333,76.33333333333333,80.33333333333333,120.33333333333333,248.66666666666666,230.0,180.33333333333334,103.33333333333333,103.66666666666667,51.0,47.333333333333336,23.666666666666668,7.0,3.6666666666666665,2.0,1.3333333333333333,15.0,76.33333333333333,220.0,298.3333333333333,217.33333333333334,100.0,136.33333333333334,163.0,110.0,104.33333333333333,138.66666666666666,155.0,412.6666666666667,381.6666666666667,254.66666666666666,180.0,150.0,99.66666666666667,60.0,33.333333333333336,11.666666666666666,4.0,2.3333333333333335,1.0,15.666666666666666,66.66666666666667,276.0,501.6666666666667,255.66666666666666,75.66666666666667,83.0,125.0,117.66666666666667,111.0,120.66666666666667,180.66666666666666,260.6666666666667,314.3333333333333,168.66666666666666,90.33333333333333,117.66666666666667,85.33333333333333,44.333333333333336,22.0,8.0,6.333333333333333,2.6666666666666665,2.0,13.666666666666666,60.0,245.66666666666666,321.0,122.0,99.0,97.33333333333333,153.0,154.0,132.66666666666666,153.66666666666666,234.66666666666666,407.3333333333333,359.0,235.33333333333334,146.66666666666666,101.0,69.33333333333333,63.666666666666664,56.333333333333336,28.333333333333332,25.333333333333332,13.0,3.6666666666666665,2.0,3.6666666666666665,15.666666666666666,66.0,96.66666666666667,158.0,189.0,213.66666666666666,224.0,302.6666666666667,201.0,194.66666666666666,158.33333333333334,113.33333333333333,57.0,53.0,51.666666666666664,45.333333333333336,40.666666666666664,57.333333333333336,39.666666666666664,36.666666666666664,13.0,4.0,3.0,2.3333333333333335,12.333333333333334,32.333333333333336,61.333333333333336,114.0,141.0,191.33333333333334,158.0,188.33333333333334,205.33333333333334,195.66666666666666,184.0,118.0,56.666666666666664,51.333333333333336,57.0,93.66666666666667,47.333333333333336,32.666666666666664,16.333333333333332,7.666666666666667,2.3333333333333335,4.0,18.333333333333332,88.33333333333333,249.66666666666666,466.3333333333333,244.0,109.0,140.66666666666666,181.0,174.66666666666666,164.0,158.66666666666666,265.6666666666667,466.3333333333333,475.3333333333333,396.6666666666667,280.6666666666667,160.33333333333334,110.66666666666667,63.0,34.666666666666664,12.0,4.666666666666667,2.0,1.0,12.666666666666666,48.666666666666664,155.0,436.3333333333333,251.33333333333334,123.0,154.0,147.33333333333334,184.33333333333334,124.33333333333333,133.66666666666666,93.66666666666667,193.0,235.33333333333334,181.0,111.66666666666667,74.66666666666667,61.0,35.333333333333336,25.0,29.0,24.0,11.333333333333334,1.3333333333333333,2.3333333333333335,5.0,18.0,48.666666666666664,86.0,123.33333333333333,145.0,218.0,284.3333333333333,247.66666666666666,329.0,367.0,317.3333333333333,248.33333333333334,173.66666666666666,118.66666666666667,115.33333333333333,99.0,79.33333333333333,53.0,44.333333333333336,44.0,20.0,10.0,3.3333333333333335,4.666666666666667,10.666666666666666,38.333333333333336,58.333333333333336,100.66666666666667,145.0,181.66666666666666,253.0,162.33333333333334,375.0,354.6666666666667,334.0,240.0,163.66666666666666,112.0,94.66666666666667,64.33333333333333,35.333333333333336,17.333333333333332,5.666666666666667,4.666666666666667,2.0,1.6666666666666667,14.0,69.0,206.33333333333334,401.0,185.0,93.0,93.66666666666667,137.0,131.66666666666666,142.66666666666666,143.33333333333334,216.33333333333334,382.6666666666667,393.3333333333333,173.66666666666666,133.33333333333334,79.0,71.66666666666667,42.666666666666664,53.0,44.333333333333336,47.0,22.333333333333332,8.0,11.666666666666666,52.666666666666664,51.333333333333336,90.33333333333333,195.33333333333334,306.6666666666667,403.6666666666667,482.6666666666667,371.0,377.6666666666667,452.0,430.0,413.3333333333333,327.3333333333333,251.0,178.33333333333334,119.66666666666667,70.33333333333333,38.0,22.0,10.333333333333334,5.666666666666667,2.6666666666666665,2.3333333333333335,14.666666666666666,89.0,224.33333333333334,251.33333333333334,256.0,215.66666666666666,185.33333333333334,285.6666666666667,233.66666666666666,332.6666666666667,202.66666666666666,271.6666666666667,604.3333333333334,549.0,327.6666666666667,257.0,193.33333333333334,108.66666666666667,60.333333333333336,26.333333333333332,11.0,7.0,2.0,3.0,22.333333333333332,87.0,304.6666666666667,644.6666666666666,337.6666666666667,156.33333333333334,182.0,249.0,328.6666666666667,253.0,195.66666666666666,325.6666666666667,591.3333333333334,590.3333333333334,399.0,250.66666666666666,179.33333333333334,110.33333333333333,55.666666666666664,28.666666666666668,8.333333333333334,7.0,3.0,2.3333333333333335,25.0,96.66666666666667,281.3333333333333,361.3333333333333,276.6666666666667,129.66666666666666,162.0,103.0,69.66666666666667,85.33333333333333,102.66666666666667,197.33333333333334,544.0,468.3333333333333,229.66666666666666,123.33333333333333,103.0,104.66666666666667,54.0,23.666666666666668,9.333333333333334,4.666666666666667,3.3333333333333335,3.6666666666666665,13.666666666666666,76.66666666666667,235.66666666666666,445.0,234.33333333333334,158.66666666666666,153.66666666666666,226.66666666666666,217.66666666666666,193.66666666666666,190.33333333333334,272.3333333333333,517.6666666666666,456.0,324.0,253.66666666666666,188.66666666666666,137.0,79.0,29.666666666666668,14.0,9.666666666666666,2.3333333333333335,6.0,14.333333333333334,66.66666666666667,205.33333333333334,480.3333333333333,246.66666666666666,151.66666666666666,195.33333333333334,239.66666666666666,175.66666666666666,179.33333333333334,189.33333333333334,317.3333333333333,603.0,612.3333333333334,428.6666666666667,305.3333333333333,179.66666666666666,169.33333333333334,79.0,40.0,16.333333333333332,13.666666666666666,3.6666666666666665,3.3333333333333335,27.0,120.0,344.0,576.6666666666666,281.0,160.66666666666666,132.33333333333334,250.33333333333334,198.33333333333334,174.66666666666666,260.3333333333333,283.6666666666667,466.0,494.3333333333333,400.3333333333333,267.3333333333333,207.66666666666666,136.0,131.33333333333334,54.666666666666664,12.666666666666666,12.333333333333334,4.0,5.0,27.666666666666668,113.33333333333333,323.0,497.0,252.33333333333334,143.0,194.33333333333334,234.66666666666666,258.3333333333333,201.66666666666666,233.66666666666666,353.3333333333333,656.3333333333334,584.3333333333334,478.6666666666667,302.6666666666667,236.33333333333334,214.33333333333334,123.66666666666667,69.66666666666667,42.0,19.333333333333332,12.0,4.666666666666667,22.0,117.33333333333333,309.6666666666667,562.6666666666666,268.0,178.66666666666666,224.66666666666666,263.0,263.3333333333333,236.33333333333334,299.3333333333333,436.3333333333333,658.3333333333334,587.0,446.3333333333333,281.3333333333333,219.0,205.66666666666666,185.33333333333334,125.0,86.0,61.0,28.0,7.666666666666667,14.0,19.0,64.66666666666667,163.33333333333334,279.0,380.3333333333333,481.3333333333333,494.0,539.6666666666666,515.0,442.0,439.3333333333333,477.3333333333333,367.6666666666667,420.0,271.6666666666667,227.0,203.66666666666666,148.0,77.0,28.333333333333332,16.0,6.333333333333333,6.666666666666667,28.333333333333332,116.33333333333333,324.0,615.3333333333334,275.0,173.66666666666666,203.0,278.3333333333333,326.6666666666667,259.3333333333333,273.6666666666667,385.6666666666667,622.6666666666666,583.3333333333334,417.3333333333333,317.0,268.0,215.66666666666666,177.33333333333334,138.66666666666666,98.0,69.33333333333333,28.666666666666668,13.666666666666666,13.0,49.333333333333336,80.33333333333333,199.0,264.6666666666667,349.0,410.0,432.6666666666667,507.3333333333333,563.6666666666666,543.6666666666666,492.6666666666667,422.3333333333333,359.3333333333333,367.6666666666667,333.6666666666667,240.33333333333334,210.66666666666666,199.66666666666666,146.66666666666666,110.0,76.0,35.666666666666664,12.333333333333334,11.666666666666666,22.0,43.666666666666664,137.66666666666666,249.33333333333334,376.0,459.0,535.3333333333334,475.3333333333333,400.0,417.3333333333333,522.6666666666666,496.3333333333333,371.6666666666667,344.3333333333333,318.6666666666667,221.33333333333334,139.0,100.33333333333333,32.666666666666664,18.0,12.666666666666666,5.333333333333333,6.333333333333333,32.0,132.33333333333334,298.3333333333333,594.3333333333334,316.3333333333333,110.33333333333333,180.0,148.0,247.33333333333334,231.33333333333334,243.0,311.0,694.0,635.0,422.3333333333333,353.6666666666667,234.66666666666666,157.0,74.0,26.333333333333332,13.333333333333334,5.666666666666667,6.0,4.666666666666667,34.333333333333336,148.66666666666666,405.6666666666667,600.0,248.33333333333334,154.33333333333334,173.66666666666666,199.66666666666666,253.33333333333334,193.66666666666666,211.0,370.3333333333333,635.3333333333334,664.6666666666666,476.0,352.6666666666667,258.3333333333333,184.33333333333334,104.33333333333333,148.33333333333334,94.66666666666667,85.0,31.0,7.333333333333333,11.0,24.333333333333332,55.666666666666664,108.66666666666667,189.66666666666666,283.6666666666667,351.3333333333333,385.6666666666667,374.6666666666667,368.3333333333333,360.6666666666667,366.3333333333333,348.6666666666667,304.6666666666667,311.6666666666667,295.0,230.66666666666666,152.0,114.0,39.0,15.0,12.333333333333334,6.333333333333333,4.333333333333333,26.333333333333332,126.0,328.3333333333333,544.6666666666666,288.6666666666667,130.66666666666666,181.66666666666666,223.66666666666666,210.66666666666666,202.0,220.0,261.3333333333333,510.0,691.3333333333334,528.3333333333334,359.3333333333333,239.66666666666666,167.33333333333334,96.0,48.0,22.333333333333332,12.666666666666666,4.333333333333333,5.0,29.0,121.0,424.3333333333333,597.0,276.6666666666667,174.0,182.0,248.33333333333334,233.0,225.33333333333334,191.66666666666666,306.0,615.0,522.3333333333334,400.6666666666667,309.3333333333333,267.6666666666667,175.33333333333334,107.66666666666667,42.333333333333336,13.666666666666666,5.0,5.0,6.0,34.0,142.33333333333334,374.0,507.6666666666667,280.3333333333333,165.33333333333334,168.66666666666666,246.0,240.0,215.0,169.0,373.6666666666667,638.0,613.3333333333334,482.0,379.0,294.0,204.66666666666666,122.0,56.333333333333336,23.666666666666668,12.0,7.0,5.333333333333333,35.0,147.0,396.3333333333333,579.3333333333334,281.3333333333333,147.33333333333334,168.33333333333334,263.6666666666667,247.33333333333334,182.33333333333334,205.66666666666666,326.0,617.6666666666666,655.0,464.6666666666667,382.3333333333333,224.0,225.33333333333334,155.33333333333334,47.333333333333336,24.333333333333332,10.0,6.0,5.333333333333333,41.333333333333336,159.0,413.3333333333333,618.3333333333334,295.3333333333333,187.66666666666666,198.33333333333334,246.66666666666666,245.66666666666666,187.0,255.66666666666666,400.6666666666667,759.6666666666666,629.0,583.6666666666666,441.6666666666667,303.3333333333333,220.0,132.0,58.666666666666664,32.0,12.0,7.0,8.0,34.333333333333336,152.0,418.3333333333333,609.0,297.6666666666667,172.66666666666666,224.33333333333334,259.0,269.3333333333333,204.66666666666666,203.33333333333334,373.6666666666667,752.3333333333334,620.3333333333334,533.6666666666666,397.6666666666667,294.6666666666667,197.66666666666666,138.33333333333334,73.66666666666667,27.666666666666668,18.0,7.0,8.0,26.333333333333332,113.33333333333333,318.3333333333333,516.0,275.6666666666667,162.0,188.66666666666666,258.6666666666667,267.3333333333333,274.6666666666667,317.6666666666667,429.6666666666667,598.6666666666666,534.0,444.3333333333333,322.3333333333333,245.66666666666666,161.0,175.66666666666666,158.0,87.33333333333333,77.0,33.0,11.0,15.333333333333334,32.666666666666664,64.0,154.66666666666666,254.66666666666666,377.0,439.3333333333333,491.6666666666667,512.3333333333334,463.3333333333333,471.0,467.3333333333333,381.0,424.3333333333333,366.3333333333333,265.0,212.33333333333334,206.0,129.0,119.0,91.0,75.0,35.666666666666664,10.0,13.0,11.666666666666666,34.0,83.0,203.0,259.0,305.3333333333333,443.6666666666667,471.0,468.6666666666667,411.3333333333333,408.6666666666667,326.6666666666667,268.3333333333333,224.0,189.66666666666666,166.33333333333334,147.0,84.0,144.66666666666666,78.33333333333333,70.0,35.666666666666664,10.0,14.0,21.666666666666668,57.333333333333336,146.0,252.0,411.6666666666667,507.6666666666667,451.6666666666667,463.6666666666667,544.0,477.0,422.3333333333333,431.3333333333333,380.3333333333333,368.6666666666667,219.33333333333334,191.66666666666666,138.33333333333334,135.66666666666666,113.66666666666667,90.66666666666667,80.0,43.666666666666664,19.666666666666668,35.333333333333336,19.333333333333332,47.333333333333336,111.33333333333333,238.33333333333334,375.3333333333333,441.3333333333333,534.3333333333334,499.3333333333333,450.0,503.3333333333333,507.0,518.0,418.3333333333333,385.6666666666667,270.3333333333333,178.66666666666666,146.33333333333334,80.33333333333333,35.333333333333336,17.0,16.333333333333332,11.0,7.0,37.333333333333336,161.33333333333334,443.3333333333333,629.3333333333334,288.3333333333333,159.66666666666666,199.66666666666666,284.3333333333333,221.33333333333334,270.6666666666667,301.3333333333333,389.0,638.6666666666666,631.3333333333334,347.6666666666667,259.3333333333333,80.33333333333333,83.0,36.0,12.666666666666666,6.333333333333333,4.333333333333333,4.333333333333333,5.0,33.0,122.0,342.3333333333333,473.6666666666667,240.66666666666666,137.66666666666666,146.66666666666666,180.33333333333334,195.0,107.66666666666667,95.33333333333333,240.0,229.66666666666666,583.6666666666666,409.6666666666667,248.66666666666666,274.3333333333333,97.33333333333333,92.66666666666667,33.0,14.0,8.666666666666666,6.333333333333333,4.666666666666667,34.666666666666664,186.66666666666666,458.0,641.3333333333334,273.3333333333333,194.0,210.66666666666666,276.6666666666667,245.0,204.33333333333334,246.33333333333334,310.0,795.6666666666666,800.6666666666666,631.0,447.6666666666667,271.6666666666667,197.0,116.33333333333333,33.666666666666664,11.666666666666666,6.0,6.0,9.333333333333334,28.666666666666668,120.33333333333333,330.3333333333333,520.0,116.0,126.0,147.33333333333334,94.66666666666667,207.0,246.33333333333334,177.0,421.6666666666667,638.0,399.0,313.3333333333333,285.3333333333333,251.33333333333334,201.33333333333334,95.0,32.666666666666664,14.0,5.666666666666667,5.0,7.333333333333333,23.333333333333332,116.33333333333333,341.0,550.6666666666666,311.6666666666667,206.0,202.33333333333334,181.66666666666666,197.0,205.66666666666666,293.0,406.3333333333333,779.6666666666666,666.6666666666666,384.3333333333333,272.6666666666667,185.66666666666666,151.0,95.33333333333333,47.666666666666664,12.666666666666666,7.666666666666667,7.333333333333333,6.0,32.0,126.33333333333333,400.0,560.0,299.6666666666667,129.66666666666666,230.33333333333334,357.0,265.0,237.33333333333334,273.3333333333333,390.3333333333333,818.6666666666666,749.0,437.3333333333333,378.3333333333333,197.66666666666666,197.33333333333334,126.66666666666667,32.333333333333336,14.666666666666666,11.333333333333334,4.666666666666667,7.333333333333333,32.666666666666664,130.0,380.6666666666667,664.3333333333334,316.3333333333333,163.33333333333334,147.33333333333334,206.33333333333334,258.6666666666667,198.33333333333334,233.0,365.3333333333333,765.3333333333334,736.3333333333334,360.6666666666667,345.6666666666667,164.33333333333334,146.0,122.0,55.333333333333336,20.666666666666668,6.666666666666667,11.0,8.666666666666666,28.333333333333332,93.0,156.66666666666666,457.0,268.3333333333333,166.66666666666666,282.3333333333333,363.3333333333333,272.6666666666667,270.6666666666667,385.0,412.6666666666667,632.6666666666666,549.6666666666666,429.0,292.0,203.66666666666666,184.33333333333334,134.0,38.333333333333336,18.666666666666668,10.333333333333334,10.333333333333334,8.0,32.666666666666664,120.33333333333333,328.0,506.0,247.66666666666666,124.33333333333333,132.66666666666666,189.0,199.33333333333334,166.0,191.33333333333334,228.0,593.0,461.3333333333333,305.0,207.33333333333334,182.33333333333334,148.0,99.0,38.666666666666664,20.333333333333332,10.666666666666666,5.666666666666667,8.0,25.333333333333332,106.33333333333333,314.3333333333333,591.6666666666666,357.3333333333333,210.33333333333334,207.33333333333334,266.0,262.3333333333333,238.33333333333334,259.6666666666667,381.6666666666667,590.6666666666666,479.0,310.3333333333333,220.66666666666666,159.33333333333334,142.33333333333334,123.33333333333333,98.0,64.0,40.333333333333336,15.0,7.0,5.333333333333333,15.333333333333334,44.0,110.33333333333333,186.66666666666666,262.3333333333333,339.6666666666667,448.0,453.0,482.6666666666667,432.0,433.6666666666667,373.3333333333333,266.3333333333333,242.0,179.33333333333334,168.0,140.33333333333334,126.33333333333333,99.66666666666667,129.33333333333334,52.0,29.0,8.666666666666666,7.333333333333333,17.0,46.333333333333336,115.66666666666667,208.33333333333334,287.6666666666667,423.0,478.3333333333333,497.6666666666667,494.3333333333333,493.0,367.0,358.6666666666667,275.6666666666667,218.33333333333334,152.33333333333334,115.33333333333333,100.66666666666667,75.33333333333333,22.666666666666668,37.0,32.333333333333336,5.666666666666667,10.333333333333334,28.0,117.33333333333333,364.6666666666667,503.3333333333333,221.33333333333334,125.33333333333333,135.33333333333334,219.33333333333334,204.66666666666666,175.33333333333334,198.66666666666666,323.3333333333333,561.6666666666666,485.3333333333333,331.0,235.0,190.0,112.0,54.0,86.66666666666667,78.33333333333333,54.0,23.0,6.666666666666667,8.333333333333334,14.0,42.666666666666664,106.0,155.33333333333334,214.33333333333334,301.0,362.3333333333333,311.6666666666667,319.6666666666667,392.3333333333333,351.0,254.0,233.33333333333334,191.66666666666666,144.33333333333334,88.0,123.0,124.33333333333333,106.0,90.0,71.33333333333333,34.0,10.0,6.666666666666667,10.0,32.0,97.33333333333333,133.66666666666666,242.66666666666666,286.3333333333333,388.0,357.6666666666667,342.6666666666667,312.6666666666667,342.0,264.6666666666667,190.66666666666666,150.66666666666666,153.33333333333334,89.0,106.66666666666667,49.0,21.666666666666668,9.666666666666666,5.666666666666667,4.666666666666667,6.0,30.0,117.0,324.3333333333333,566.6666666666666,231.33333333333334,108.33333333333333,157.0,189.0,185.66666666666666,151.33333333333334,172.0,154.66666666666666,412.3333333333333,551.6666666666666,402.0,268.3333333333333,214.0,125.33333333333333,66.33333333333333,34.666666666666664,18.0,4.0,3.3333333333333335,6.333333333333333,34.666666666666664,110.33333333333333,368.3333333333333,511.6666666666667,301.0,137.33333333333334,168.0,178.0,198.33333333333334,185.33333333333334,240.33333333333334,333.3333333333333,580.6666666666666,553.0,386.6666666666667,241.33333333333334,208.66666666666666,105.66666666666667,73.0,31.0,13.333333333333334,6.666666666666667,6.666666666666667,6.0,37.333333333333336,87.66666666666667,271.6666666666667,533.3333333333334,289.0,138.0,148.66666666666666,183.0,171.66666666666666,222.66666666666666,213.66666666666666,317.0,520.6666666666666,513.0,360.3333333333333,245.33333333333334,184.66666666666666,119.0,47.0],\"type\":\"scatter\"},{\"mode\":\"lines\",\"name\":\"real\",\"x\":[28,20,12,8,5,1,3,10,23,33,59,72,89,101,118,129,128,83,84,74,41,57,26,44,39,23,16,15,1,2,1,3,18,32,79,93,104,118,91,113,99,105,67,61,57,28,21,18,17,16,8,2,3,1,5,13,33,47,57,64,80,93,86,93,82,71,92,60,33,27,13,4,3,22,28,35,61,125,133,99,83,41,33,20,3,7,3,2,7,32,90,197,109,47,52,70,78,75,82,104,197,161,112,76,59,59,28,19,5,3,1,4,30,105,223,110,52,57,71,82,79,85,98,206,212,145,101,66,41,20,15,9,1,1,5,33,108,230,124,69,66,86,93,82,117,122,255,222,161,118,92,73,33,17,6,6,4,4,12,47,126,285,179,88,90,101,123,81,106,146,274,222,175,139,124,76,44,32,8,7,8,1,7,50,116,272,169,95,113,185,176,191,172,232,327,224,162,124,72,107,77,29,31,17,7,3,3,6,22,45,55,106,123,119,155,196,171,120,127,88,59,47,33,44,29,14,10,3,2,11,35,119,282,157,78,78,102,97,88,90,114,217,225,152,88,55,21,18,8,3,3,1,3,31,111,253,154,68,75,88,99,100,101,151,253,237,168,121,78,59,27,23,12,8,2,3,13,51,140,299,185,78,86,105,111,119,125,142,313,310,207,137,138,87,50,29,16,14,5,10,36,123,280,210,117,159,195,175,174,173,204,332,331,190,149,113,118,86,76,51,25,8,3,2,10,13,48,76,140,196,267,301,312,313,304,278,217,154,108,93,72,50,27,15,18,3,3,13,47,149,300,178,122,136,200,180,163,162,243,331,263,209,118,102,80,64,43,33,24,14,5,4,10,21,45,29,22,31,32,58,63,78,33,15,38,71,53,14,24,35,33,31,29,25,7,3,8,16,43,102,211,304,354,343,361,388,343,306,277,210,141,83,70,56,39,19,16,7,6,16,54,168,297,169,109,123,184,169,144,176,205,428,362,286,165,151,90,46,25,7,13,3,5,18,65,188,351,162,75,72,103,129,107,127,192,411,421,276,168,122,112,52,39,47,50,32,13,14,17,42,70,134,226,322,367,456,437,459,440,392,237,231,191,151,117,69,38,14,13,4,6,21,104,272,394,194,112,185,209,214,193,165,226,274,453,308,198,177,127,57,31,13,8,4,4,22,49,151,347,207,104,130,153,172,184,210,290,604,480,349,283,174,98,56,23,12,6,9,3,9,101,274,453,202,106,23,54,122,138,167,294,565,489,331,213,85,117,59,29,6,15,4,5,26,103,257,487,216,130,164,168,183,180,188,302,547,513,410,282,209,79,72,52,14,9,1,4,21,121,370,498,207,135,164,211,189,178,164,312,638,607,416,330,257,175,107,47,17,5,4,6,25,112,188,388,261,121,150,206,151,153,159,294,272,325,327,201,188,151,16,24,23,13,6,6,13,97,250,454,224,170,181,243,204,215,243,355,552,450,328,232,208,175,178,104,95,53,20,5,7,27,57,131,218,244,404,420,327,334,367,468,449,381,326,188,183,161,150,89,76,72,30,17,19,33,71,84,169,244,377,396,363,317,362,378,397,296,311,232,167,152,92,80,20,38,7,10,23,120,274,564,207,166,210,238,247,265,237,361,587,496,394,343,261,223,167,110,75,58,26,16,10,37,52,127,222,322,396,463,497,433,428,425,475,428,406,296,252,201,168,125,102,94,47,10,12,21,50,118,184,304,391,420,472,430,324,317,369,390,379,262,207,181,93,51,25,10,7,4,17,105,277,347,203,130,141,165,152,138,164,265,545,558,398,323,202,140,91,51,13,13,3,5,19,134,315,412,199,141,127,153,172,152,158,277,513,530,388,277,241,156,92,25,10,3,7,5,17,90,258,355,222,141,153,178,193,151,182,283,530,483,397,285,184,98,88,31,16,4,6,5,30,119,346,441,198,111,150,162,192,182,159,303,600,570,376,280,215,152,77,24,14,6,5,5,28,105,308,487,209,118,128,189,176,192,159,300,552,556,347,280,230,171,105,56,24,6,6,9,27,103,308,420,228,129,141,173,187,182,174,245,409,274,141,165,149,135,114,62,20,8,3,8,17,93,263,398,218,165,165,222,232,220,222,327,527,425,165,58,107,122,106,37,20,5,8,7,31,124,338,391,209,121,159,179,189,170,135,222,261,244,232,248,145,115,69,48,26,10,6,4,32,93,299,409,210,140,179,251,223,225,203,358,566,482,315,225,163,167,126,108,80,79,28,5,5,22,37,108,177,249,367,372,349,297,354,305,359,329,256,176,170,143,136,112,79,89,36,1,6,12,44,69,140,260,317,364,376,311,365,369,325,289,245,180,147,84,54,37,10,13,5,8,28,113,332,420,215,105,139,189,177,188,187,263,568,540,374,231,200,129,68,106,73,56,23,6,7,20,57,125,207,322,374,456,394,472,377,443,441,372,238,179,168,166,135,107,77,65,42,12,7,10,48,99,190,347,377,444,438,462,412,466,405,328,233,178,102,130,62,37,17,7,2,5,29,114,309,414,206,135,166,205,205,166,208,302,620,518,333,229,177,104,62,31,11,5,1,4,21,109,341,499,227,102,147,201,219,169,205,304,625,570,317,227,206,137,70,34,16,7,3,3,31,68,210,202,123,149,130,106,97,120,201,181,140,197,145,85,107,69,22,10,15,4,7,28,108,319,480,200,138,134,176,153,147,191,271,451,441,286,238,168,128,80,31,5,10,5,4,13,56,137,232,82,36,60,54,58,61,66,123,233,189,111,99,75,46,31,24,5,5,3,4,22,75,168,355,198,81,97,121,124,110,116,195,399,307,217,169,116,84,58,30,10,10,2,5,22,71,216,375,213,115,140,165,177,154,178,209,378,328,190,137,111,97,59,53,35,46,15,8,2,12,41,92,142,200,233,311,363,349,382,287,232,208,182,163,108,106,93,50,20,7,3,6,24,92,258,457,280,109,135,157,164,132,82,131,324,377,287,221,155,124,114,72,31,23,5,5,26,82,231,459,243,132,144,173,137,128,153,224,365,295,214,152,102,106,75,62,43,58,26,9,9,17,20,59,100,181,209,244,236,237,228,222,165,157,106,106,96,80,69,71,46,41,18,1,5,3,12,32,81,129,188,228,228,219,207,234,136,138,135,104,89,49,37,17,11,3,3,4,21,68,191,397,183,108,127,141,142,137,159,208,378,354,251,206,127,107,60,59,42,43,25,6,5,8,17,36,90,126,165,234,224,188,206,205,146,120,110,95,72,60,29,25,20,17,3,8,6,13,33,78,96,126,179,185,228,181,192,180,193,181,144,90,49,43,28,12,2,12,2,13,57,126,93,68,62,75,86,103,132,129,219,462,463,308,180,180,90,61,17,10,2,4,1,29,88,263,489,202,93,114,161,130,105,130,176,346,355,256,165,124,78,38,16,5,3,4,1,19,86,206,423,210,108,99,111,124,119,127,193,385,361,234,191,121,90,56,22,5,4,3,1,25,95,321,515,231,120,138,163,170,134,171,231,487,468,311,211,178,107,58,23,5,7,1,3,20,87,288,498,202,44,71,45,64,31,53,118,289,353,258,216,145,111,73,34,18,12,1,1,16,71,226,520,283,116,142,198,205,170,221,307,465,377,282,171,129,107,82,86,45,45,18,7,1,9,41,102,138,205,286,369,384,427,499,404,364,246,188,148,114,118,74,74,72,48,15,3,2,5,14,56,93,191,226,255,261,237,253,212,157,167,119,103,36,55,35,60,23,19,7,14,26,117,381,623,315,164,211,265,273,258,287,426,713,746,425,330,243,169,97,57,26,4,3,3,32,99,278,562,312,180,207,294,260,202,107,129,258,408,296,235,152,148,126,100,69,42,26,2,8,30,86,218,321,443,585,651,686,690,679,685,648,560,417,271,223,211,185,107,113,56,18,14,6,11,42,96,178,351,368,503,544,521,554,541,541,459,352,198,173,100,46,23,15,8,2,3,31,120,354,579,331,184,201,282,263,260,286,385,721,801,549,330,223,148,54,124,106,74,45,12,10,16,46,97,251,421,528,635,681,628,617,616,623,479,379,291,229,134,90,41,28,14,8,6,38,133,387,597,297,224,251,271,263,288,275,358,712,676,522,375,271,214,121,43,11,4,6,9,30,144,461,673,400,217,239,244,239,257,308,370,781,775,537,402,297,162,82,38,14,9,6,7,34,134,418,576,265,147,119,110,64,51,98,235,488,505,368,260,189,162,70,25,13,6,4,4,30,120,406,677,301,189,229,264,238,237,262,387,748,776,586,404,267,248,144,32,19,4,6,5,8,24,92,409,355,171,224,264,239,184,256,374,678,733,512,263,109,83,71,39,21,19,6,4,38,158,440,650,347,192,267,330,350,263,274,446,873,846,590,459,393,286,133,79,28,16,3,16,35,159,474,634,346,205,279,348,327,270,316,430,852,868,537,446,299,251,166,70,49,21,14,11,34,182,515,745,361,255,334,360,395,350,391,568,812,669,483,337,258,251,174,148,104,69,33,14,12,50,95,195,292,452,586,642,704,730,672,642,626,645,432,315,259,338,239,94,51,15,5,14,33,151,430,653,366,216,286,403,393,376,377,558,823,693,467,385,333,321,222,137,95,67,27,8,23,47,78,204,367,435,566,603,617,573,583,542,593,571,461,352,290,280,183,148,88,74,28,18,17,23,48,119,274,436,546,615,614,582,463,580,593,513,390,302,246,153,108,40,14,9,4,9,23,37,145,474,250,91,121,168,225,219,237,332,723,642,463,362,273,164,74,35,14,15,8,10,37,161,480,673,328,180,230,292,272,227,259,334,811,795,514,458,276,291,125,187,168,115,57,19,9,15,47,133,221,382,451,489,480,476,489,495,436,312,312,294,223,130,91,43,11,15,6,12,50,140,483,667,348,186,182,237,239,212,237,386,755,794,595,454,328,284,166,53,25,7,3,7,38,213,526,661,320,159,206,254,221,214,244,381,770,772,547,427,333,244,161,53,16,8,4,6,46,162,495,679,297,138,183,202,203,170,194,224,370,643,516,366,319,288,131,66,25,7,5,8,40,152,473,657,318,198,216,274,254,197,292,358,771,777,533,505,332,68,65,60,37,8,11,4,39,172,492,682,367,233,235,307,294,255,266,431,851,848,649,427,315,226,138,76,21,15,4,5,37,165,464,682,337,199,274,343,300,248,260,419,897,832,677,514,356,254,226,88,54,19,6,9,36,157,379,668,378,231,303,365,357,328,383,488,791,669,491,359,255,213,121,105,92,43,30,13,9,27,64,189,292,480,536,654,644,598,596,641,635,554,488,341,338,261,235,187,131,119,55,26,11,20,41,124,270,425,272,298,162,149,276,356,343,377,341,274,190,56,46,207,109,93,37,6,16,33,73,212,342,442,627,706,704,715,654,783,729,614,478,330,296,279,229,151,117,89,48,8,13,35,71,128,296,490,559,656,694,635,557,596,570,481,403,324,191,127,94,45,21,13,7,11,45,164,492,683,299,202,252,295,343,332,338,453,842,774,486,340,233,129,70,13,5,4,6,7,48,167,356,672,293,160,151,88,114,143,36,141,338,281,324,290,207,151,78,26,12,3,5,10,56,172,545,797,362,192,247,313,289,286,311,466,886,892,611,409,349,229,123,48,29,6,4,10,40,147,476,737,359,168,263,284,146,185,260,447,766,592,239,256,206,126,81,48,13,3,2,7,52,172,525,835,355,222,228,325,328,308,346,446,943,838,531,432,195,181,199,49,17,16,7,4,41,178,464,817,382,228,234,332,310,270,301,466,888,884,516,414,329,215,99,57,14,14,5,5,42,153,508,834,387,218,268,377,332,285,353,450,890,788,513,387,283,229,117,56,16,10,5,6,36,131,154,467,389,224,252,332,375,365,395,565,425,233,232,229,206,190,131,34,16,7,2,5,37,147,410,646,323,153,166,213,217,201,217,342,563,573,386,285,224,153,125,65,21,9,6,5,36,130,367,711,351,198,218,290,278,251,267,383,580,505,332,227,178,162,128,106,87,49,21,7,11,21,78,168,248,320,423,476,525,555,549,469,403,271,253,172,139,145,133,129,95,73,46,12,12,15,42,119,204,329,359,442,447,428,407,372,280,276,210,129,110,74,59,27,19,5,2,12,39,131,386,663,278,139,197,242,251,217,257,380,619,580,406,259,203,113,74,94,95,69,23,6,3,11,48,119,220,273,393,453,456,426,447,413,309,272,257,201,184,156,119,110,96,87,38,11,9,6,27,88,132,257,295,417,356,310,338,400,243,107,109,122,106,89,33,28,15,5,3,5,24,108,319,592,282,135,170,232,210,181,211,302,495,507,340,200,120,54,47,18,15,7,5,8,36,118,355,662,326,184,269,313,286,247,246,363,572,525,353,268,168,132,81,41,15,3,5,7,31,112,363,678,317,164,200,236,213,218,237,334,562,569,336,241,168,129,88],\"y\":[28,20,12,8,5,1,3,10,23,33,59,72,89,101,118,129,128,83,84,74,41,57,26,44,39,23,16,15,1,2,1,3,18,32,79,93,104,118,91,113,99,105,67,61,57,28,21,18,17,16,8,2,3,1,5,13,33,47,57,64,80,93,86,93,82,71,92,60,33,27,13,4,3,22,28,35,61,125,133,99,83,41,33,20,3,7,3,2,7,32,90,197,109,47,52,70,78,75,82,104,197,161,112,76,59,59,28,19,5,3,1,4,30,105,223,110,52,57,71,82,79,85,98,206,212,145,101,66,41,20,15,9,1,1,5,33,108,230,124,69,66,86,93,82,117,122,255,222,161,118,92,73,33,17,6,6,4,4,12,47,126,285,179,88,90,101,123,81,106,146,274,222,175,139,124,76,44,32,8,7,8,1,7,50,116,272,169,95,113,185,176,191,172,232,327,224,162,124,72,107,77,29,31,17,7,3,3,6,22,45,55,106,123,119,155,196,171,120,127,88,59,47,33,44,29,14,10,3,2,11,35,119,282,157,78,78,102,97,88,90,114,217,225,152,88,55,21,18,8,3,3,1,3,31,111,253,154,68,75,88,99,100,101,151,253,237,168,121,78,59,27,23,12,8,2,3,13,51,140,299,185,78,86,105,111,119,125,142,313,310,207,137,138,87,50,29,16,14,5,10,36,123,280,210,117,159,195,175,174,173,204,332,331,190,149,113,118,86,76,51,25,8,3,2,10,13,48,76,140,196,267,301,312,313,304,278,217,154,108,93,72,50,27,15,18,3,3,13,47,149,300,178,122,136,200,180,163,162,243,331,263,209,118,102,80,64,43,33,24,14,5,4,10,21,45,29,22,31,32,58,63,78,33,15,38,71,53,14,24,35,33,31,29,25,7,3,8,16,43,102,211,304,354,343,361,388,343,306,277,210,141,83,70,56,39,19,16,7,6,16,54,168,297,169,109,123,184,169,144,176,205,428,362,286,165,151,90,46,25,7,13,3,5,18,65,188,351,162,75,72,103,129,107,127,192,411,421,276,168,122,112,52,39,47,50,32,13,14,17,42,70,134,226,322,367,456,437,459,440,392,237,231,191,151,117,69,38,14,13,4,6,21,104,272,394,194,112,185,209,214,193,165,226,274,453,308,198,177,127,57,31,13,8,4,4,22,49,151,347,207,104,130,153,172,184,210,290,604,480,349,283,174,98,56,23,12,6,9,3,9,101,274,453,202,106,23,54,122,138,167,294,565,489,331,213,85,117,59,29,6,15,4,5,26,103,257,487,216,130,164,168,183,180,188,302,547,513,410,282,209,79,72,52,14,9,1,4,21,121,370,498,207,135,164,211,189,178,164,312,638,607,416,330,257,175,107,47,17,5,4,6,25,112,188,388,261,121,150,206,151,153,159,294,272,325,327,201,188,151,16,24,23,13,6,6,13,97,250,454,224,170,181,243,204,215,243,355,552,450,328,232,208,175,178,104,95,53,20,5,7,27,57,131,218,244,404,420,327,334,367,468,449,381,326,188,183,161,150,89,76,72,30,17,19,33,71,84,169,244,377,396,363,317,362,378,397,296,311,232,167,152,92,80,20,38,7,10,23,120,274,564,207,166,210,238,247,265,237,361,587,496,394,343,261,223,167,110,75,58,26,16,10,37,52,127,222,322,396,463,497,433,428,425,475,428,406,296,252,201,168,125,102,94,47,10,12,21,50,118,184,304,391,420,472,430,324,317,369,390,379,262,207,181,93,51,25,10,7,4,17,105,277,347,203,130,141,165,152,138,164,265,545,558,398,323,202,140,91,51,13,13,3,5,19,134,315,412,199,141,127,153,172,152,158,277,513,530,388,277,241,156,92,25,10,3,7,5,17,90,258,355,222,141,153,178,193,151,182,283,530,483,397,285,184,98,88,31,16,4,6,5,30,119,346,441,198,111,150,162,192,182,159,303,600,570,376,280,215,152,77,24,14,6,5,5,28,105,308,487,209,118,128,189,176,192,159,300,552,556,347,280,230,171,105,56,24,6,6,9,27,103,308,420,228,129,141,173,187,182,174,245,409,274,141,165,149,135,114,62,20,8,3,8,17,93,263,398,218,165,165,222,232,220,222,327,527,425,165,58,107,122,106,37,20,5,8,7,31,124,338,391,209,121,159,179,189,170,135,222,261,244,232,248,145,115,69,48,26,10,6,4,32,93,299,409,210,140,179,251,223,225,203,358,566,482,315,225,163,167,126,108,80,79,28,5,5,22,37,108,177,249,367,372,349,297,354,305,359,329,256,176,170,143,136,112,79,89,36,1,6,12,44,69,140,260,317,364,376,311,365,369,325,289,245,180,147,84,54,37,10,13,5,8,28,113,332,420,215,105,139,189,177,188,187,263,568,540,374,231,200,129,68,106,73,56,23,6,7,20,57,125,207,322,374,456,394,472,377,443,441,372,238,179,168,166,135,107,77,65,42,12,7,10,48,99,190,347,377,444,438,462,412,466,405,328,233,178,102,130,62,37,17,7,2,5,29,114,309,414,206,135,166,205,205,166,208,302,620,518,333,229,177,104,62,31,11,5,1,4,21,109,341,499,227,102,147,201,219,169,205,304,625,570,317,227,206,137,70,34,16,7,3,3,31,68,210,202,123,149,130,106,97,120,201,181,140,197,145,85,107,69,22,10,15,4,7,28,108,319,480,200,138,134,176,153,147,191,271,451,441,286,238,168,128,80,31,5,10,5,4,13,56,137,232,82,36,60,54,58,61,66,123,233,189,111,99,75,46,31,24,5,5,3,4,22,75,168,355,198,81,97,121,124,110,116,195,399,307,217,169,116,84,58,30,10,10,2,5,22,71,216,375,213,115,140,165,177,154,178,209,378,328,190,137,111,97,59,53,35,46,15,8,2,12,41,92,142,200,233,311,363,349,382,287,232,208,182,163,108,106,93,50,20,7,3,6,24,92,258,457,280,109,135,157,164,132,82,131,324,377,287,221,155,124,114,72,31,23,5,5,26,82,231,459,243,132,144,173,137,128,153,224,365,295,214,152,102,106,75,62,43,58,26,9,9,17,20,59,100,181,209,244,236,237,228,222,165,157,106,106,96,80,69,71,46,41,18,1,5,3,12,32,81,129,188,228,228,219,207,234,136,138,135,104,89,49,37,17,11,3,3,4,21,68,191,397,183,108,127,141,142,137,159,208,378,354,251,206,127,107,60,59,42,43,25,6,5,8,17,36,90,126,165,234,224,188,206,205,146,120,110,95,72,60,29,25,20,17,3,8,6,13,33,78,96,126,179,185,228,181,192,180,193,181,144,90,49,43,28,12,2,12,2,13,57,126,93,68,62,75,86,103,132,129,219,462,463,308,180,180,90,61,17,10,2,4,1,29,88,263,489,202,93,114,161,130,105,130,176,346,355,256,165,124,78,38,16,5,3,4,1,19,86,206,423,210,108,99,111,124,119,127,193,385,361,234,191,121,90,56,22,5,4,3,1,25,95,321,515,231,120,138,163,170,134,171,231,487,468,311,211,178,107,58,23,5,7,1,3,20,87,288,498,202,44,71,45,64,31,53,118,289,353,258,216,145,111,73,34,18,12,1,1,16,71,226,520,283,116,142,198,205,170,221,307,465,377,282,171,129,107,82,86,45,45,18,7,1,9,41,102,138,205,286,369,384,427,499,404,364,246,188,148,114,118,74,74,72,48,15,3,2,5,14,56,93,191,226,255,261,237,253,212,157,167,119,103,36,55,35,60,23,19,7,14,26,117,381,623,315,164,211,265,273,258,287,426,713,746,425,330,243,169,97,57,26,4,3,3,32,99,278,562,312,180,207,294,260,202,107,129,258,408,296,235,152,148,126,100,69,42,26,2,8,30,86,218,321,443,585,651,686,690,679,685,648,560,417,271,223,211,185,107,113,56,18,14,6,11,42,96,178,351,368,503,544,521,554,541,541,459,352,198,173,100,46,23,15,8,2,3,31,120,354,579,331,184,201,282,263,260,286,385,721,801,549,330,223,148,54,124,106,74,45,12,10,16,46,97,251,421,528,635,681,628,617,616,623,479,379,291,229,134,90,41,28,14,8,6,38,133,387,597,297,224,251,271,263,288,275,358,712,676,522,375,271,214,121,43,11,4,6,9,30,144,461,673,400,217,239,244,239,257,308,370,781,775,537,402,297,162,82,38,14,9,6,7,34,134,418,576,265,147,119,110,64,51,98,235,488,505,368,260,189,162,70,25,13,6,4,4,30,120,406,677,301,189,229,264,238,237,262,387,748,776,586,404,267,248,144,32,19,4,6,5,8,24,92,409,355,171,224,264,239,184,256,374,678,733,512,263,109,83,71,39,21,19,6,4,38,158,440,650,347,192,267,330,350,263,274,446,873,846,590,459,393,286,133,79,28,16,3,16,35,159,474,634,346,205,279,348,327,270,316,430,852,868,537,446,299,251,166,70,49,21,14,11,34,182,515,745,361,255,334,360,395,350,391,568,812,669,483,337,258,251,174,148,104,69,33,14,12,50,95,195,292,452,586,642,704,730,672,642,626,645,432,315,259,338,239,94,51,15,5,14,33,151,430,653,366,216,286,403,393,376,377,558,823,693,467,385,333,321,222,137,95,67,27,8,23,47,78,204,367,435,566,603,617,573,583,542,593,571,461,352,290,280,183,148,88,74,28,18,17,23,48,119,274,436,546,615,614,582,463,580,593,513,390,302,246,153,108,40,14,9,4,9,23,37,145,474,250,91,121,168,225,219,237,332,723,642,463,362,273,164,74,35,14,15,8,10,37,161,480,673,328,180,230,292,272,227,259,334,811,795,514,458,276,291,125,187,168,115,57,19,9,15,47,133,221,382,451,489,480,476,489,495,436,312,312,294,223,130,91,43,11,15,6,12,50,140,483,667,348,186,182,237,239,212,237,386,755,794,595,454,328,284,166,53,25,7,3,7,38,213,526,661,320,159,206,254,221,214,244,381,770,772,547,427,333,244,161,53,16,8,4,6,46,162,495,679,297,138,183,202,203,170,194,224,370,643,516,366,319,288,131,66,25,7,5,8,40,152,473,657,318,198,216,274,254,197,292,358,771,777,533,505,332,68,65,60,37,8,11,4,39,172,492,682,367,233,235,307,294,255,266,431,851,848,649,427,315,226,138,76,21,15,4,5,37,165,464,682,337,199,274,343,300,248,260,419,897,832,677,514,356,254,226,88,54,19,6,9,36,157,379,668,378,231,303,365,357,328,383,488,791,669,491,359,255,213,121,105,92,43,30,13,9,27,64,189,292,480,536,654,644,598,596,641,635,554,488,341,338,261,235,187,131,119,55,26,11,20,41,124,270,425,272,298,162,149,276,356,343,377,341,274,190,56,46,207,109,93,37,6,16,33,73,212,342,442,627,706,704,715,654,783,729,614,478,330,296,279,229,151,117,89,48,8,13,35,71,128,296,490,559,656,694,635,557,596,570,481,403,324,191,127,94,45,21,13,7,11,45,164,492,683,299,202,252,295,343,332,338,453,842,774,486,340,233,129,70,13,5,4,6,7,48,167,356,672,293,160,151,88,114,143,36,141,338,281,324,290,207,151,78,26,12,3,5,10,56,172,545,797,362,192,247,313,289,286,311,466,886,892,611,409,349,229,123,48,29,6,4,10,40,147,476,737,359,168,263,284,146,185,260,447,766,592,239,256,206,126,81,48,13,3,2,7,52,172,525,835,355,222,228,325,328,308,346,446,943,838,531,432,195,181,199,49,17,16,7,4,41,178,464,817,382,228,234,332,310,270,301,466,888,884,516,414,329,215,99,57,14,14,5,5,42,153,508,834,387,218,268,377,332,285,353,450,890,788,513,387,283,229,117,56,16,10,5,6,36,131,154,467,389,224,252,332,375,365,395,565,425,233,232,229,206,190,131,34,16,7,2,5,37,147,410,646,323,153,166,213,217,201,217,342,563,573,386,285,224,153,125,65,21,9,6,5,36,130,367,711,351,198,218,290,278,251,267,383,580,505,332,227,178,162,128,106,87,49,21,7,11,21,78,168,248,320,423,476,525,555,549,469,403,271,253,172,139,145,133,129,95,73,46,12,12,15,42,119,204,329,359,442,447,428,407,372,280,276,210,129,110,74,59,27,19,5,2,12,39,131,386,663,278,139,197,242,251,217,257,380,619,580,406,259,203,113,74,94,95,69,23,6,3,11,48,119,220,273,393,453,456,426,447,413,309,272,257,201,184,156,119,110,96,87,38,11,9,6,27,88,132,257,295,417,356,310,338,400,243,107,109,122,106,89,33,28,15,5,3,5,24,108,319,592,282,135,170,232,210,181,211,302,495,507,340,200,120,54,47,18,15,7,5,8,36,118,355,662,326,184,269,313,286,247,246,363,572,525,353,268,168,132,81,41,15,3,5,7,31,112,363,678,317,164,200,236,213,218,237,334,562,569,336,241,168,129,88],\"type\":\"scatter\"}],                        {\"template\":{\"data\":{\"histogram2dcontour\":[{\"type\":\"histogram2dcontour\",\"colorbar\":{\"outlinewidth\":0,\"ticks\":\"\"},\"colorscale\":[[0.0,\"#0d0887\"],[0.1111111111111111,\"#46039f\"],[0.2222222222222222,\"#7201a8\"],[0.3333333333333333,\"#9c179e\"],[0.4444444444444444,\"#bd3786\"],[0.5555555555555556,\"#d8576b\"],[0.6666666666666666,\"#ed7953\"],[0.7777777777777778,\"#fb9f3a\"],[0.8888888888888888,\"#fdca26\"],[1.0,\"#f0f921\"]]}],\"choropleth\":[{\"type\":\"choropleth\",\"colorbar\":{\"outlinewidth\":0,\"ticks\":\"\"}}],\"histogram2d\":[{\"type\":\"histogram2d\",\"colorbar\":{\"outlinewidth\":0,\"ticks\":\"\"},\"colorscale\":[[0.0,\"#0d0887\"],[0.1111111111111111,\"#46039f\"],[0.2222222222222222,\"#7201a8\"],[0.3333333333333333,\"#9c179e\"],[0.4444444444444444,\"#bd3786\"],[0.5555555555555556,\"#d8576b\"],[0.6666666666666666,\"#ed7953\"],[0.7777777777777778,\"#fb9f3a\"],[0.8888888888888888,\"#fdca26\"],[1.0,\"#f0f921\"]]}],\"heatmap\":[{\"type\":\"heatmap\",\"colorbar\":{\"outlinewidth\":0,\"ticks\":\"\"},\"colorscale\":[[0.0,\"#0d0887\"],[0.1111111111111111,\"#46039f\"],[0.2222222222222222,\"#7201a8\"],[0.3333333333333333,\"#9c179e\"],[0.4444444444444444,\"#bd3786\"],[0.5555555555555556,\"#d8576b\"],[0.6666666666666666,\"#ed7953\"],[0.7777777777777778,\"#fb9f3a\"],[0.8888888888888888,\"#fdca26\"],[1.0,\"#f0f921\"]]}],\"heatmapgl\":[{\"type\":\"heatmapgl\",\"colorbar\":{\"outlinewidth\":0,\"ticks\":\"\"},\"colorscale\":[[0.0,\"#0d0887\"],[0.1111111111111111,\"#46039f\"],[0.2222222222222222,\"#7201a8\"],[0.3333333333333333,\"#9c179e\"],[0.4444444444444444,\"#bd3786\"],[0.5555555555555556,\"#d8576b\"],[0.6666666666666666,\"#ed7953\"],[0.7777777777777778,\"#fb9f3a\"],[0.8888888888888888,\"#fdca26\"],[1.0,\"#f0f921\"]]}],\"contourcarpet\":[{\"type\":\"contourcarpet\",\"colorbar\":{\"outlinewidth\":0,\"ticks\":\"\"}}],\"contour\":[{\"type\":\"contour\",\"colorbar\":{\"outlinewidth\":0,\"ticks\":\"\"},\"colorscale\":[[0.0,\"#0d0887\"],[0.1111111111111111,\"#46039f\"],[0.2222222222222222,\"#7201a8\"],[0.3333333333333333,\"#9c179e\"],[0.4444444444444444,\"#bd3786\"],[0.5555555555555556,\"#d8576b\"],[0.6666666666666666,\"#ed7953\"],[0.7777777777777778,\"#fb9f3a\"],[0.8888888888888888,\"#fdca26\"],[1.0,\"#f0f921\"]]}],\"surface\":[{\"type\":\"surface\",\"colorbar\":{\"outlinewidth\":0,\"ticks\":\"\"},\"colorscale\":[[0.0,\"#0d0887\"],[0.1111111111111111,\"#46039f\"],[0.2222222222222222,\"#7201a8\"],[0.3333333333333333,\"#9c179e\"],[0.4444444444444444,\"#bd3786\"],[0.5555555555555556,\"#d8576b\"],[0.6666666666666666,\"#ed7953\"],[0.7777777777777778,\"#fb9f3a\"],[0.8888888888888888,\"#fdca26\"],[1.0,\"#f0f921\"]]}],\"mesh3d\":[{\"type\":\"mesh3d\",\"colorbar\":{\"outlinewidth\":0,\"ticks\":\"\"}}],\"scatter\":[{\"fillpattern\":{\"fillmode\":\"overlay\",\"size\":10,\"solidity\":0.2},\"type\":\"scatter\"}],\"parcoords\":[{\"type\":\"parcoords\",\"line\":{\"colorbar\":{\"outlinewidth\":0,\"ticks\":\"\"}}}],\"scatterpolargl\":[{\"type\":\"scatterpolargl\",\"marker\":{\"colorbar\":{\"outlinewidth\":0,\"ticks\":\"\"}}}],\"bar\":[{\"error_x\":{\"color\":\"#2a3f5f\"},\"error_y\":{\"color\":\"#2a3f5f\"},\"marker\":{\"line\":{\"color\":\"#E5ECF6\",\"width\":0.5},\"pattern\":{\"fillmode\":\"overlay\",\"size\":10,\"solidity\":0.2}},\"type\":\"bar\"}],\"scattergeo\":[{\"type\":\"scattergeo\",\"marker\":{\"colorbar\":{\"outlinewidth\":0,\"ticks\":\"\"}}}],\"scatterpolar\":[{\"type\":\"scatterpolar\",\"marker\":{\"colorbar\":{\"outlinewidth\":0,\"ticks\":\"\"}}}],\"histogram\":[{\"marker\":{\"pattern\":{\"fillmode\":\"overlay\",\"size\":10,\"solidity\":0.2}},\"type\":\"histogram\"}],\"scattergl\":[{\"type\":\"scattergl\",\"marker\":{\"colorbar\":{\"outlinewidth\":0,\"ticks\":\"\"}}}],\"scatter3d\":[{\"type\":\"scatter3d\",\"line\":{\"colorbar\":{\"outlinewidth\":0,\"ticks\":\"\"}},\"marker\":{\"colorbar\":{\"outlinewidth\":0,\"ticks\":\"\"}}}],\"scattermapbox\":[{\"type\":\"scattermapbox\",\"marker\":{\"colorbar\":{\"outlinewidth\":0,\"ticks\":\"\"}}}],\"scatterternary\":[{\"type\":\"scatterternary\",\"marker\":{\"colorbar\":{\"outlinewidth\":0,\"ticks\":\"\"}}}],\"scattercarpet\":[{\"type\":\"scattercarpet\",\"marker\":{\"colorbar\":{\"outlinewidth\":0,\"ticks\":\"\"}}}],\"carpet\":[{\"aaxis\":{\"endlinecolor\":\"#2a3f5f\",\"gridcolor\":\"white\",\"linecolor\":\"white\",\"minorgridcolor\":\"white\",\"startlinecolor\":\"#2a3f5f\"},\"baxis\":{\"endlinecolor\":\"#2a3f5f\",\"gridcolor\":\"white\",\"linecolor\":\"white\",\"minorgridcolor\":\"white\",\"startlinecolor\":\"#2a3f5f\"},\"type\":\"carpet\"}],\"table\":[{\"cells\":{\"fill\":{\"color\":\"#EBF0F8\"},\"line\":{\"color\":\"white\"}},\"header\":{\"fill\":{\"color\":\"#C8D4E3\"},\"line\":{\"color\":\"white\"}},\"type\":\"table\"}],\"barpolar\":[{\"marker\":{\"line\":{\"color\":\"#E5ECF6\",\"width\":0.5},\"pattern\":{\"fillmode\":\"overlay\",\"size\":10,\"solidity\":0.2}},\"type\":\"barpolar\"}],\"pie\":[{\"automargin\":true,\"type\":\"pie\"}]},\"layout\":{\"autotypenumbers\":\"strict\",\"colorway\":[\"#636efa\",\"#EF553B\",\"#00cc96\",\"#ab63fa\",\"#FFA15A\",\"#19d3f3\",\"#FF6692\",\"#B6E880\",\"#FF97FF\",\"#FECB52\"],\"font\":{\"color\":\"#2a3f5f\"},\"hovermode\":\"closest\",\"hoverlabel\":{\"align\":\"left\"},\"paper_bgcolor\":\"white\",\"plot_bgcolor\":\"#E5ECF6\",\"polar\":{\"bgcolor\":\"#E5ECF6\",\"angularaxis\":{\"gridcolor\":\"white\",\"linecolor\":\"white\",\"ticks\":\"\"},\"radialaxis\":{\"gridcolor\":\"white\",\"linecolor\":\"white\",\"ticks\":\"\"}},\"ternary\":{\"bgcolor\":\"#E5ECF6\",\"aaxis\":{\"gridcolor\":\"white\",\"linecolor\":\"white\",\"ticks\":\"\"},\"baxis\":{\"gridcolor\":\"white\",\"linecolor\":\"white\",\"ticks\":\"\"},\"caxis\":{\"gridcolor\":\"white\",\"linecolor\":\"white\",\"ticks\":\"\"}},\"coloraxis\":{\"colorbar\":{\"outlinewidth\":0,\"ticks\":\"\"}},\"colorscale\":{\"sequential\":[[0.0,\"#0d0887\"],[0.1111111111111111,\"#46039f\"],[0.2222222222222222,\"#7201a8\"],[0.3333333333333333,\"#9c179e\"],[0.4444444444444444,\"#bd3786\"],[0.5555555555555556,\"#d8576b\"],[0.6666666666666666,\"#ed7953\"],[0.7777777777777778,\"#fb9f3a\"],[0.8888888888888888,\"#fdca26\"],[1.0,\"#f0f921\"]],\"sequentialminus\":[[0.0,\"#0d0887\"],[0.1111111111111111,\"#46039f\"],[0.2222222222222222,\"#7201a8\"],[0.3333333333333333,\"#9c179e\"],[0.4444444444444444,\"#bd3786\"],[0.5555555555555556,\"#d8576b\"],[0.6666666666666666,\"#ed7953\"],[0.7777777777777778,\"#fb9f3a\"],[0.8888888888888888,\"#fdca26\"],[1.0,\"#f0f921\"]],\"diverging\":[[0,\"#8e0152\"],[0.1,\"#c51b7d\"],[0.2,\"#de77ae\"],[0.3,\"#f1b6da\"],[0.4,\"#fde0ef\"],[0.5,\"#f7f7f7\"],[0.6,\"#e6f5d0\"],[0.7,\"#b8e186\"],[0.8,\"#7fbc41\"],[0.9,\"#4d9221\"],[1,\"#276419\"]]},\"xaxis\":{\"gridcolor\":\"white\",\"linecolor\":\"white\",\"ticks\":\"\",\"title\":{\"standoff\":15},\"zerolinecolor\":\"white\",\"automargin\":true,\"zerolinewidth\":2},\"yaxis\":{\"gridcolor\":\"white\",\"linecolor\":\"white\",\"ticks\":\"\",\"title\":{\"standoff\":15},\"zerolinecolor\":\"white\",\"automargin\":true,\"zerolinewidth\":2},\"scene\":{\"xaxis\":{\"backgroundcolor\":\"#E5ECF6\",\"gridcolor\":\"white\",\"linecolor\":\"white\",\"showbackground\":true,\"ticks\":\"\",\"zerolinecolor\":\"white\",\"gridwidth\":2},\"yaxis\":{\"backgroundcolor\":\"#E5ECF6\",\"gridcolor\":\"white\",\"linecolor\":\"white\",\"showbackground\":true,\"ticks\":\"\",\"zerolinecolor\":\"white\",\"gridwidth\":2},\"zaxis\":{\"backgroundcolor\":\"#E5ECF6\",\"gridcolor\":\"white\",\"linecolor\":\"white\",\"showbackground\":true,\"ticks\":\"\",\"zerolinecolor\":\"white\",\"gridwidth\":2}},\"shapedefaults\":{\"line\":{\"color\":\"#2a3f5f\"}},\"annotationdefaults\":{\"arrowcolor\":\"#2a3f5f\",\"arrowhead\":0,\"arrowwidth\":1},\"geo\":{\"bgcolor\":\"white\",\"landcolor\":\"#E5ECF6\",\"subunitcolor\":\"white\",\"showland\":true,\"showlakes\":true,\"lakecolor\":\"white\"},\"title\":{\"x\":0.05},\"mapbox\":{\"style\":\"light\"}}},\"annotations\":[{\"showarrow\":true,\"text\":\"RMSLE = 0.469\",\"x\":10,\"y\":800}],\"autosize\":false,\"width\":600,\"height\":600,\"title\":{\"text\":\"Real & Prediction\"},\"xaxis\":{\"title\":{\"text\":\"Real\"}},\"yaxis\":{\"title\":{\"text\":\"Predict\"}}},                        {\"responsive\": true}                    ).then(function(){\n",
              "                            \n",
              "var gd = document.getElementById('c4d917b4-3fa3-4834-8961-acc9d135a42c');\n",
              "var x = new MutationObserver(function (mutations, observer) {{\n",
              "        var display = window.getComputedStyle(gd).display;\n",
              "        if (!display || display === 'none') {{\n",
              "            console.log([gd, 'removed!']);\n",
              "            Plotly.purge(gd);\n",
              "            observer.disconnect();\n",
              "        }}\n",
              "}});\n",
              "\n",
              "// Listen for the removal of the full notebook cells\n",
              "var notebookContainer = gd.closest('#notebook-container');\n",
              "if (notebookContainer) {{\n",
              "    x.observe(notebookContainer, {childList: true});\n",
              "}}\n",
              "\n",
              "// Listen for the clearing of the current output cell\n",
              "var outputEl = gd.closest('.output');\n",
              "if (outputEl) {{\n",
              "    x.observe(outputEl, {childList: true});\n",
              "}}\n",
              "\n",
              "                        })                };                            </script>        </div>\n",
              "</body>\n",
              "</html>"
            ]
          },
          "metadata": {}
        }
      ]
    },
    {
      "cell_type": "markdown",
      "source": [
        "### 제출"
      ],
      "metadata": {
        "id": "m4NH5dDHxIIW"
      }
    },
    {
      "cell_type": "code",
      "source": [
        "#다시 data load\n",
        "test_path = \"/content/drive/MyDrive/함께하조/기계학습과 딥러닝/data/kaggle_data/test_eda.csv\"\n",
        "train_path = \"/content/drive/MyDrive/함께하조/기계학습과 딥러닝/data/kaggle_data/train_eda.csv\"\n",
        "\n",
        "test = pd.read_csv(test_path)\n",
        "train = pd.read_csv(train_path)\n",
        "\n",
        "test.drop(\"Unnamed: 0\", axis=1, inplace=True)\n",
        "train.drop(\"Unnamed: 0\", axis=1, inplace=True)\n",
        "\n",
        "#cat features\n",
        "cat_col = [\"season\", \"Year\",\"weather\", \"Day of week\",\"Month\", \"Hour\",\"Day_info\"]\n",
        "for col in cat_col:\n",
        "    train[col] = train[col].astype(\"category\")\n",
        "    test[col] = test[col].astype(\"category\")\n",
        "\n",
        "#target, drop, y\n",
        "target_col = \"count\"\n",
        "drop_cols = [\"datetime\", \"workingday\", \"holiday\", \"Day\", \"Year\", \"sin_hour\", \"cos_hour\", target_col]\n",
        "X_train, Y_train = train.drop(drop_cols, axis=1), train[target_col]\n",
        "X_test = test.drop([\"datetime\", \"workingday\", \"holiday\", \"Day\", \"Year\", \"sin_hour\", \"cos_hour\"], axis=1)\n",
        "\n",
        "print(X_train.shape[0]==train.shape[0])\n",
        "print(X_test.shape[0]==test.shape[0])\n",
        "X_train.head()"
      ],
      "metadata": {
        "colab": {
          "base_uri": "https://localhost:8080/",
          "height": 243
        },
        "id": "CErPs_nKwsF9",
        "outputId": "56a6b31c-68bb-4c3d-bc7f-14e47d706591"
      },
      "execution_count": 20,
      "outputs": [
        {
          "output_type": "stream",
          "name": "stdout",
          "text": [
            "True\n",
            "True\n"
          ]
        },
        {
          "output_type": "execute_result",
          "data": {
            "text/plain": [
              "  season weather  temp  humidity  windspeed Day of week Month Hour Day_info\n",
              "0      1    Good  9.84        81        0.0    Saturday     1    0  Weekend\n",
              "1      1    Good  9.02        80        0.0    Saturday     1    1  Weekend\n",
              "2      1    Good  9.02        80        0.0    Saturday     1    2  Weekend\n",
              "3      1    Good  9.84        75        0.0    Saturday     1    3  Weekend\n",
              "4      1    Good  9.84        75        0.0    Saturday     1    4  Weekend"
            ],
            "text/html": [
              "\n",
              "  <div id=\"df-58f34f4c-013c-457d-9d83-1c8870587d30\">\n",
              "    <div class=\"colab-df-container\">\n",
              "      <div>\n",
              "<style scoped>\n",
              "    .dataframe tbody tr th:only-of-type {\n",
              "        vertical-align: middle;\n",
              "    }\n",
              "\n",
              "    .dataframe tbody tr th {\n",
              "        vertical-align: top;\n",
              "    }\n",
              "\n",
              "    .dataframe thead th {\n",
              "        text-align: right;\n",
              "    }\n",
              "</style>\n",
              "<table border=\"1\" class=\"dataframe\">\n",
              "  <thead>\n",
              "    <tr style=\"text-align: right;\">\n",
              "      <th></th>\n",
              "      <th>season</th>\n",
              "      <th>weather</th>\n",
              "      <th>temp</th>\n",
              "      <th>humidity</th>\n",
              "      <th>windspeed</th>\n",
              "      <th>Day of week</th>\n",
              "      <th>Month</th>\n",
              "      <th>Hour</th>\n",
              "      <th>Day_info</th>\n",
              "    </tr>\n",
              "  </thead>\n",
              "  <tbody>\n",
              "    <tr>\n",
              "      <th>0</th>\n",
              "      <td>1</td>\n",
              "      <td>Good</td>\n",
              "      <td>9.84</td>\n",
              "      <td>81</td>\n",
              "      <td>0.0</td>\n",
              "      <td>Saturday</td>\n",
              "      <td>1</td>\n",
              "      <td>0</td>\n",
              "      <td>Weekend</td>\n",
              "    </tr>\n",
              "    <tr>\n",
              "      <th>1</th>\n",
              "      <td>1</td>\n",
              "      <td>Good</td>\n",
              "      <td>9.02</td>\n",
              "      <td>80</td>\n",
              "      <td>0.0</td>\n",
              "      <td>Saturday</td>\n",
              "      <td>1</td>\n",
              "      <td>1</td>\n",
              "      <td>Weekend</td>\n",
              "    </tr>\n",
              "    <tr>\n",
              "      <th>2</th>\n",
              "      <td>1</td>\n",
              "      <td>Good</td>\n",
              "      <td>9.02</td>\n",
              "      <td>80</td>\n",
              "      <td>0.0</td>\n",
              "      <td>Saturday</td>\n",
              "      <td>1</td>\n",
              "      <td>2</td>\n",
              "      <td>Weekend</td>\n",
              "    </tr>\n",
              "    <tr>\n",
              "      <th>3</th>\n",
              "      <td>1</td>\n",
              "      <td>Good</td>\n",
              "      <td>9.84</td>\n",
              "      <td>75</td>\n",
              "      <td>0.0</td>\n",
              "      <td>Saturday</td>\n",
              "      <td>1</td>\n",
              "      <td>3</td>\n",
              "      <td>Weekend</td>\n",
              "    </tr>\n",
              "    <tr>\n",
              "      <th>4</th>\n",
              "      <td>1</td>\n",
              "      <td>Good</td>\n",
              "      <td>9.84</td>\n",
              "      <td>75</td>\n",
              "      <td>0.0</td>\n",
              "      <td>Saturday</td>\n",
              "      <td>1</td>\n",
              "      <td>4</td>\n",
              "      <td>Weekend</td>\n",
              "    </tr>\n",
              "  </tbody>\n",
              "</table>\n",
              "</div>\n",
              "      <button class=\"colab-df-convert\" onclick=\"convertToInteractive('df-58f34f4c-013c-457d-9d83-1c8870587d30')\"\n",
              "              title=\"Convert this dataframe to an interactive table.\"\n",
              "              style=\"display:none;\">\n",
              "        \n",
              "  <svg xmlns=\"http://www.w3.org/2000/svg\" height=\"24px\"viewBox=\"0 0 24 24\"\n",
              "       width=\"24px\">\n",
              "    <path d=\"M0 0h24v24H0V0z\" fill=\"none\"/>\n",
              "    <path d=\"M18.56 5.44l.94 2.06.94-2.06 2.06-.94-2.06-.94-.94-2.06-.94 2.06-2.06.94zm-11 1L8.5 8.5l.94-2.06 2.06-.94-2.06-.94L8.5 2.5l-.94 2.06-2.06.94zm10 10l.94 2.06.94-2.06 2.06-.94-2.06-.94-.94-2.06-.94 2.06-2.06.94z\"/><path d=\"M17.41 7.96l-1.37-1.37c-.4-.4-.92-.59-1.43-.59-.52 0-1.04.2-1.43.59L10.3 9.45l-7.72 7.72c-.78.78-.78 2.05 0 2.83L4 21.41c.39.39.9.59 1.41.59.51 0 1.02-.2 1.41-.59l7.78-7.78 2.81-2.81c.8-.78.8-2.07 0-2.86zM5.41 20L4 18.59l7.72-7.72 1.47 1.35L5.41 20z\"/>\n",
              "  </svg>\n",
              "      </button>\n",
              "      \n",
              "  <style>\n",
              "    .colab-df-container {\n",
              "      display:flex;\n",
              "      flex-wrap:wrap;\n",
              "      gap: 12px;\n",
              "    }\n",
              "\n",
              "    .colab-df-convert {\n",
              "      background-color: #E8F0FE;\n",
              "      border: none;\n",
              "      border-radius: 50%;\n",
              "      cursor: pointer;\n",
              "      display: none;\n",
              "      fill: #1967D2;\n",
              "      height: 32px;\n",
              "      padding: 0 0 0 0;\n",
              "      width: 32px;\n",
              "    }\n",
              "\n",
              "    .colab-df-convert:hover {\n",
              "      background-color: #E2EBFA;\n",
              "      box-shadow: 0px 1px 2px rgba(60, 64, 67, 0.3), 0px 1px 3px 1px rgba(60, 64, 67, 0.15);\n",
              "      fill: #174EA6;\n",
              "    }\n",
              "\n",
              "    [theme=dark] .colab-df-convert {\n",
              "      background-color: #3B4455;\n",
              "      fill: #D2E3FC;\n",
              "    }\n",
              "\n",
              "    [theme=dark] .colab-df-convert:hover {\n",
              "      background-color: #434B5C;\n",
              "      box-shadow: 0px 1px 3px 1px rgba(0, 0, 0, 0.15);\n",
              "      filter: drop-shadow(0px 1px 2px rgba(0, 0, 0, 0.3));\n",
              "      fill: #FFFFFF;\n",
              "    }\n",
              "  </style>\n",
              "\n",
              "      <script>\n",
              "        const buttonEl =\n",
              "          document.querySelector('#df-58f34f4c-013c-457d-9d83-1c8870587d30 button.colab-df-convert');\n",
              "        buttonEl.style.display =\n",
              "          google.colab.kernel.accessAllowed ? 'block' : 'none';\n",
              "\n",
              "        async function convertToInteractive(key) {\n",
              "          const element = document.querySelector('#df-58f34f4c-013c-457d-9d83-1c8870587d30');\n",
              "          const dataTable =\n",
              "            await google.colab.kernel.invokeFunction('convertToInteractive',\n",
              "                                                     [key], {});\n",
              "          if (!dataTable) return;\n",
              "\n",
              "          const docLinkHtml = 'Like what you see? Visit the ' +\n",
              "            '<a target=\"_blank\" href=https://colab.research.google.com/notebooks/data_table.ipynb>data table notebook</a>'\n",
              "            + ' to learn more about interactive tables.';\n",
              "          element.innerHTML = '';\n",
              "          dataTable['output_type'] = 'display_data';\n",
              "          await google.colab.output.renderOutput(dataTable, element);\n",
              "          const docLink = document.createElement('div');\n",
              "          docLink.innerHTML = docLinkHtml;\n",
              "          element.appendChild(docLink);\n",
              "        }\n",
              "      </script>\n",
              "    </div>\n",
              "  </div>\n",
              "  "
            ]
          },
          "metadata": {},
          "execution_count": 20
        }
      ]
    },
    {
      "cell_type": "code",
      "source": [
        "#one hot encoding\n",
        "cat_col = [\"season\", \"weather\", \"Day of week\", \"Month\", \"Hour\",\"Day_info\"]\n",
        "\n",
        "X_test = pd.get_dummies(X_test, columns=cat_col)\n",
        "X_train = pd.get_dummies(X_train, columns=cat_col)\n",
        "\n",
        "# scaling\n",
        "scaler = StandardScaler()\n",
        "scaler.fit(X_train)\n",
        "X_train_scaled = scaler.transform(X_train)\n",
        "X_test_scaled = scaler.transform(X_test)\n",
        "\n",
        "#모델\n",
        "op_tuned = KNeighborsRegressor(n_neighbors=3, metric='manhattan', weights='uniform')\n",
        "op_tuned.fit(X_train_scaled, Y_train)\n",
        "\n",
        "#제출파일\n",
        "Y_test_pred = op_tuned.predict(X_test_scaled)\n",
        "test[\"count\"] = Y_test_pred\n",
        "submission = test[[\"datetime\", \"count\"]]\n",
        "\n",
        "# 0.5571\n",
        "submission.to_csv(\"KNN_Hour.csv\", index=False)"
      ],
      "metadata": {
        "id": "0TtILUrS_kq0"
      },
      "execution_count": null,
      "outputs": []
    },
    {
      "cell_type": "markdown",
      "source": [
        "pca 파일"
      ],
      "metadata": {
        "id": "6-Yu9bTwAIj4"
      }
    },
    {
      "cell_type": "code",
      "source": [
        "#one hot encoding\n",
        "cat_col = [\"season\", \"weather\", \"Day of week\", \"Month\",\"Day_info\"] #\"Hour\"\n",
        "\n",
        "X_test = pd.get_dummies(X_test, columns=cat_col)\n",
        "X_train = pd.get_dummies(X_train, columns=cat_col)\n",
        "\n",
        "# scaling\n",
        "scaler = MinMaxScaler()\n",
        "scaler.fit(X_train)\n",
        "X_train_scaled = scaler.transform(X_train)\n",
        "X_test_scaled = scaler.transform(X_test)\n",
        "\n",
        "# pca 하면면\n",
        "###pca 시각화화\n",
        "pca = PCA(n_components=12)\n",
        "pca.fit(X_train_scaled)\n",
        "X_train_pca = pca.transform(X_train_scaled)\n",
        "X_test_pca = pca.transform(X_test_scaled)\n",
        "\n",
        "#model\n",
        "op_tuned = KNeighborsRegressor(n_neighbors=3, metric='minkowski', weights='distance')\n",
        "op_tuned.fit(X_train_pca, Y_train)\n",
        "\n",
        "#제출파일\n",
        "Y_test_pred = op_tuned.predict(X_test_pca)\n",
        "test[\"count\"] = Y_test_pred\n",
        "submission = test[[\"datetime\", \"count\"]]\n",
        "\n",
        "# 0.5571\n",
        "submission.to_csv(\"KNN_cos_Hour.csv\", index=False)"
      ],
      "metadata": {
        "id": "qCtW-PhZx6r0"
      },
      "execution_count": null,
      "outputs": []
    },
    {
      "cell_type": "markdown",
      "source": [
        "### 모델 해석력"
      ],
      "metadata": {
        "id": "Ddsg81SuBVbQ"
      }
    },
    {
      "cell_type": "code",
      "source": [
        "np.arange(1, 19, 2)"
      ],
      "metadata": {
        "id": "WGCDtoBtBXJz",
        "colab": {
          "base_uri": "https://localhost:8080/"
        },
        "outputId": "72a66997-82f7-4e07-e807-5fd570e5dbb1"
      },
      "execution_count": 21,
      "outputs": [
        {
          "output_type": "execute_result",
          "data": {
            "text/plain": [
              "array([ 1,  3,  5,  7,  9, 11, 13, 15, 17])"
            ]
          },
          "metadata": {},
          "execution_count": 21
        }
      ]
    },
    {
      "cell_type": "code",
      "source": [],
      "metadata": {
        "id": "nt8CndOcWKn6"
      },
      "execution_count": null,
      "outputs": []
    }
  ]
}